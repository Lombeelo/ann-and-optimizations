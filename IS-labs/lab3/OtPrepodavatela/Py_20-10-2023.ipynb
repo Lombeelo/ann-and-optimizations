{
 "cells": [
  {
   "cell_type": "code",
   "execution_count": 1,
   "metadata": {},
   "outputs": [],
   "source": [
    "# pip install gensim\n"
   ]
  },
  {
   "cell_type": "markdown",
   "metadata": {},
   "source": [
    "Детальное описание\n",
    "\n",
    "vector_size: Количество измерений векторного представления слова.\n",
    "\n",
    "window: Максимальное количество слов между текущим и прогнозируемым словом в предложении.\n",
    "\n",
    "min_count: Минимальное количество раз, которое должно встретиться слово, чтобы оно было учтено.\n",
    "\n",
    "workers: Количество ядер вашего компьютера, используемых для обучения.\n",
    "\n",
    "sg: Алгоритм обучения: 1 для Skip-gram; 0 для CBOW."
   ]
  },
  {
   "cell_type": "code",
   "execution_count": 2,
   "metadata": {},
   "outputs": [],
   "source": [
    "with open(\"data.txt\", 'r', encoding='utf-8') as file:\n",
    "    sentences = [line.strip().split() for line in file]\n"
   ]
  },
  {
   "cell_type": "code",
   "execution_count": 3,
   "metadata": {},
   "outputs": [
    {
     "ename": "ModuleNotFoundError",
     "evalue": "No module named 'gensim'",
     "output_type": "error",
     "traceback": [
      "\u001b[1;31m---------------------------------------------------------------------------\u001b[0m",
      "\u001b[1;31mModuleNotFoundError\u001b[0m                       Traceback (most recent call last)",
      "\u001b[1;32mc:\\Users\\Кристина\\OneDrive\\Рабочий стол\\НИР\\Py_20-10-2023.ipynb Cell 4\u001b[0m line \u001b[0;36m1\n\u001b[1;32m----> <a href='vscode-notebook-cell:/c%3A/Users/%D0%9A%D1%80%D0%B8%D1%81%D1%82%D0%B8%D0%BD%D0%B0/OneDrive/%D0%A0%D0%B0%D0%B1%D0%BE%D1%87%D0%B8%D0%B9%20%D1%81%D1%82%D0%BE%D0%BB/%D0%9D%D0%98%D0%A0/Py_20-10-2023.ipynb#W3sZmlsZQ%3D%3D?line=0'>1</a>\u001b[0m \u001b[39mfrom\u001b[39;00m \u001b[39mgensim\u001b[39;00m\u001b[39m.\u001b[39;00m\u001b[39mmodels\u001b[39;00m \u001b[39mimport\u001b[39;00m Word2Vec\n\u001b[0;32m      <a href='vscode-notebook-cell:/c%3A/Users/%D0%9A%D1%80%D0%B8%D1%81%D1%82%D0%B8%D0%BD%D0%B0/OneDrive/%D0%A0%D0%B0%D0%B1%D0%BE%D1%87%D0%B8%D0%B9%20%D1%81%D1%82%D0%BE%D0%BB/%D0%9D%D0%98%D0%A0/Py_20-10-2023.ipynb#W3sZmlsZQ%3D%3D?line=2'>3</a>\u001b[0m \u001b[39m# Обучение модели CBOW\u001b[39;00m\n\u001b[0;32m      <a href='vscode-notebook-cell:/c%3A/Users/%D0%9A%D1%80%D0%B8%D1%81%D1%82%D0%B8%D0%BD%D0%B0/OneDrive/%D0%A0%D0%B0%D0%B1%D0%BE%D1%87%D0%B8%D0%B9%20%D1%81%D1%82%D0%BE%D0%BB/%D0%9D%D0%98%D0%A0/Py_20-10-2023.ipynb#W3sZmlsZQ%3D%3D?line=3'>4</a>\u001b[0m model_cbow \u001b[39m=\u001b[39m Word2Vec(sentences\u001b[39m=\u001b[39msentences, vector_size\u001b[39m=\u001b[39m\u001b[39m100\u001b[39m, window\u001b[39m=\u001b[39m\u001b[39m5\u001b[39m, min_count\u001b[39m=\u001b[39m\u001b[39m1\u001b[39m, workers\u001b[39m=\u001b[39m\u001b[39m4\u001b[39m, sg\u001b[39m=\u001b[39m\u001b[39m0\u001b[39m)\n",
      "\u001b[1;31mModuleNotFoundError\u001b[0m: No module named 'gensim'"
     ]
    }
   ],
   "source": [
    "from gensim.models import Word2Vec\n",
    "\n",
    "# Обучение модели CBOW\n",
    "model_cbow = Word2Vec(sentences=sentences, vector_size=100, window=5, min_count=1, workers=4, sg=0)\n",
    "\n",
    "# Обучение модели Skip-gram\n",
    "model_skipgram = Word2Vec(sentences=sentences, vector_size=100, window=5, min_count=1, workers=4, sg=1)\n"
   ]
  },
  {
   "cell_type": "code",
   "execution_count": null,
   "metadata": {},
   "outputs": [],
   "source": [
    "vector_word = model_cbow.wv['king']  # для CBOW\n",
    "vector_word_skipgram = model_skipgram.wv['king']  # для Skip-gram\n"
   ]
  },
  {
   "cell_type": "code",
   "execution_count": null,
   "metadata": {},
   "outputs": [
    {
     "data": {
      "text/plain": [
       "[('queen.', 0.14595060050487518),\n",
       " ('royal', 0.04157734289765358),\n",
       " ('She', 0.03476494550704956),\n",
       " ('royal.', 0.01915227621793747),\n",
       " ('is', 0.016126055270433426)]"
      ]
     },
     "execution_count": 7,
     "metadata": {},
     "output_type": "execute_result"
    }
   ],
   "source": [
    "similar_words = model_cbow.wv.most_similar('king', topn=5)\n",
    "similar_words"
   ]
  },
  {
   "cell_type": "markdown",
   "metadata": {},
   "source": [
    "## Word2Vec: Математическое Основание\n",
    "1. Основные понятия:\n",
    "Word Embedding — это преобразование слов в векторы чисел. Эти векторы отражают семантические отношения между словами на основе их совместного использования в текстах.\n",
    "\n",
    "2. Архитектуры:\n",
    "CBOW (Continuous Bag of Words): Прогнозирует целевое слово на основе его контекста.\n",
    "Skip-gram: Прогнозирует контекст на основе целевого слова.\n",
    "3. Функция потерь:\n",
    "Целью Word2Vec является минимизация функции потерь, которая основана на вероятности слова появиться в определенном контексте.\n",
    "\n",
    "Для Skip-gram:\n",
    "\n",
    "На конкретном фрагменте текста приведем модель зависимости между центральным словом и контекстными словами: **картинка**\n",
    "\n",
    "Для каждой позиции $t=1,\\ldots,T$ в заданном поле текста необходимо спрогнозировать контекстные  слова в окне фиксированного размера $m$ по заданному центральному слову $w_{j}$. Нашей задачей является предсказать возможные контекстные слова в поле текста с высокой долей вероятности. Целевая функция $J(\\theta)$ называется функцией затрат или потерь и представляет собой среднюю отрицательную логарифмическую вероятность:  \n",
    "$$J(\\theta) = -\\frac{1}{T} \\sum_{t=1}^{T} \\sum_{-m \\leq j \\leq m, j \\neq 0} \\log p(w_{t+j} | w_t; \\theta)$$\n",
    "\n",
    "где $\\theta$ --- все переменные, подлежащие оптимизации. \n",
    "\n",
    "Далее необходимо определить вероятность появления конкретного слова в контексте по заданному центральному слову. Поскольку у нас имеется векторное представление для каждого из слов, то мы можем вычислить вероятность исключительно с точки зрения векторного представления слова. Каждому слову присваивается два вектора слов $v_{w}$, $u_{w}$, где $v_{w}$ --- вектор слов, когда заданное слово используется в качестве центрального слова, $u_{w}$ --- вектор слов, когда заданное слово используется в качестве контекстного слова. Данный прием используется исключительно для упрощения построения векторов слов и оптимизации решения.   то величина вероятности появления контекстного слова с учетом центрального слова  $p(O |C)$ определяется с помощью softmax:\n",
    "\n",
    "$$p(O | C) = \\frac{\\exp(u_{O}^T \\cdot v_{C})}{\\sum_{w=1}^{W} \\exp(u_w^T \\cdot v_{C})},$$ \n",
    "$u_{O}^T \\cdot v_{C}$ --- скалярное произведение векторов. \n",
    "Отметим, что чем больше значение скалярного произведения векторов \n",
    "$$u^T v = u,~ v = \\sum_{i=1}^{n} u_{i}v_{i},$$\n",
    "тем большее значение вероятности мы получаем. Таким образом, скалярное произведение выступает в роли естесственной меры сходства между словами. То есть, если у двух некоторых слов скалярное произведение принимает наибольшее значение, то это означает что данные слова наиболее схожи. \n",
    "\n",
    "Приведем пример softmax функции $\\mathbb{R}^(n) \\rightarrow (0,1)^n: $\n",
    "$$softmax(x_{i})=\\frac{\\exp(x_{i})}{\\sum_{j=1}^{n}exp(x_{j})}=p_{i}.$$\n",
    "\n",
    "Функция softmax отображает произвольные значения $x_{i}$ в распределение вероятностей $p_{i}$: \n",
    "\"max\" --- поскольку увеличивает вероятность наибольшего $x_{i}$, \"soft\" --- поскольку в любом случае присваивает некоторую вероятность меньшему $x_{i}$. \n",
    "\n",
    "Нам необходимо максимизировать вероятность контекстных слов, окружающих некоторое центральное слово $w_{j}$.\n",
    "4. Оптимизация:\n",
    "Word2Vec использует метод стохастического градиентного спуска для минимизации функции потерь.\n",
    "\n",
    "5. Negative Sampling:\n",
    "Чтобы ускорить процесс обучения, вместо того чтобы обновлять все веса в модели, обновляются только небольшое подмножество весов. Это достигается путем выборки \"негативных\" примеров.\n",
    "\n",
    "6. Семантические отношения:\n",
    "Векторные представления слов, полученные с помощью Word2Vec, могут быть использованы для определения отношений между словами. Например, векторное представление слова \"король\" минус \"мужчина\" плюс \"женщина\" приближенно равно векторному представлению слова \"королева\".\n",
    "\n",
    "Ассоциативные Модели:\n",
    "С помощью Word2Vec можно создавать ассоциативные модели для нахождения слов-синонимов и предложения смысловых ассоциаций. Векторное представление позволяет определить, какие слова \"ближе\" друг к другу в векторном пространстве, что может указывать на их семантическую близость.\n",
    "\n",
    "Заключение:\n",
    "Word2Vec — это мощный инструмент для создания векторных представлений слов, которые могут отражать семантические отношения между словами. Эти представления могут быть использованы для многих задач обработки естественного языка, таких как классификация текста, машинный перевод и рекомендательные системы."
   ]
  },
  {
   "cell_type": "markdown",
   "metadata": {},
   "source": [
    "## Две основные архитектуры Word2Vec: Skip-gram и CBOW (Continuous Bag of Words).\n",
    "\n",
    "### 1. Skip-gram\n",
    "\n",
    "Описание:\n",
    "\n",
    "- Целью Skip-gram является предсказание контекста (окружающих слов) для данного слова.\n",
    "\n",
    "- На входе: одно слово.\n",
    "\n",
    "- На выходе: векторы для каждого из окружающих слов.\n",
    "\n",
    "Математика:\n",
    "\n",
    "Для каждого слова $w_t$ в тренировочном корпусе, модель пытается предсказать окружающие слова в окне заданного размера \n",
    "n, например, если n = 2, модель предсказывает 2 слова перед и 2 слова после $w_t$.\n",
    "\n",
    "Преимущества:\n",
    "- Хорошо работает с небольшим объемом данных.\n",
    "- Часто лучше выявляет редкие слова.\n",
    "\n",
    "### 2. CBOW (Continuous Bag of Words)\n",
    "Описание:\n",
    "- Целью CBOW является предсказание текущего слова, основываясь на его контексте (окружающих словах).\n",
    "- На входе: окружающие слова.\n",
    "- На выходе: вектор для центрального слова.\n",
    "Математика:\n",
    "Для каждого слова $w_t$ в тренировочном корпусе, модель использует окружающие слова в окне заданного размера n для предсказания $w_t$ \n",
    "\n",
    "Преимущества:\n",
    "- Обычно требует меньше времени на обучение по сравнению с Skip-gram.\n",
    "- Хорошо работает на больших корпусах.\n",
    "\n",
    "\n",
    "Заключение:\n",
    "\n",
    "Обе модели имеют свои преимущества, и выбор между Skip-gram и CBOW зависит от конкретной задачи и доступных данных. В целом, Skip-gram часто используется для меньших корпусов и когда интерес к редким словам велик, в то время как CBOW подходит для больших корпусов."
   ]
  },
  {
   "cell_type": "code",
   "execution_count": null,
   "metadata": {},
   "outputs": [],
   "source": []
  },
  {
   "cell_type": "markdown",
   "metadata": {},
   "source": [
    "## 1. Упрощенный word2vec:\n",
    "Простая реализация word2vec с использованием библиотеки Torch"
   ]
  },
  {
   "cell_type": "code",
   "execution_count": null,
   "metadata": {
    "scrolled": false
   },
   "outputs": [
    {
     "name": "stdout",
     "output_type": "stream",
     "text": [
      "Epoch 0, Loss: 70.11177253723145\n",
      "Epoch 10, Loss: 59.26341676712036\n",
      "Epoch 20, Loss: 55.53136330842972\n",
      "Epoch 30, Loss: 53.54115575551987\n",
      "Epoch 40, Loss: 52.22018963098526\n",
      "Epoch 50, Loss: 51.236520409584045\n",
      "Epoch 60, Loss: 50.4513783454895\n",
      "Epoch 70, Loss: 49.800948560237885\n",
      "Epoch 80, Loss: 49.25467890501022\n",
      "Epoch 90, Loss: 48.796350836753845\n",
      "tensor([[ 0.1622, -0.0047, -0.3847,  1.9700, -0.6172]],\n",
      "       grad_fn=<EmbeddingBackward0>)\n"
     ]
    }
   ],
   "source": [
    "import torch\n",
    "import torch.nn as nn\n",
    "import torch.optim as optim\n",
    "from collections import defaultdict\n",
    "import numpy as np\n",
    "\n",
    "# Токенизация данных\n",
    "sentences = [[\"he\", \"is\", \"the\", \"king\"],\n",
    "             [\"the\", \"king\", \"is\", \"royal\"],\n",
    "             [\"she\", \"is\", \"the\", \"royal\", \"queen\"]]\n",
    "\n",
    "# Создание словаря\n",
    "word2idx = defaultdict(lambda: len(word2idx))\n",
    "for sentence in sentences:\n",
    "    for word in sentence:\n",
    "        word2idx[word]\n",
    "\n",
    "idx2word = {idx: word for word, idx in word2idx.items()}\n",
    "\n",
    "# Подготовка данных\n",
    "data = []\n",
    "for sentence in sentences:\n",
    "    for i, word in enumerate(sentence):\n",
    "        for j in range(-2, 3):\n",
    "            if j != 0 and 0 <= i + j < len(sentence):\n",
    "                data.append((word2idx[word], word2idx[sentence[i + j]]))\n",
    "\n",
    "# Параметры\n",
    "embedding_dim = 5\n",
    "vocab_size = len(word2idx)\n",
    "\n",
    "# Модель Skip-Gram\n",
    "class SkipGram(nn.Module):\n",
    "    def __init__(self, vocab_size, embedding_dim):\n",
    "        super(SkipGram, self).__init__()\n",
    "        self.embeddings = nn.Embedding(vocab_size, embedding_dim)\n",
    "        self.linear = nn.Linear(embedding_dim, vocab_size)\n",
    "        \n",
    "    def forward(self, inputs):\n",
    "        embeds = self.embeddings(inputs)\n",
    "        out = self.linear(embeds)\n",
    "        log_probs = torch.log_softmax(out, dim=1)\n",
    "        return log_probs\n",
    "\n",
    "# Обучение модели\n",
    "model = SkipGram(vocab_size, embedding_dim)\n",
    "criterion = nn.NLLLoss()\n",
    "optimizer = optim.SGD(model.parameters(), lr=0.01)\n",
    "\n",
    "for epoch in range(100):\n",
    "    total_loss = 0\n",
    "    for context, target in data:\n",
    "        model.zero_grad()\n",
    "        context_var = torch.tensor([context], dtype=torch.long)\n",
    "        log_probs = model(context_var)\n",
    "        loss = criterion(log_probs, torch.tensor([target], dtype=torch.long))\n",
    "        loss.backward()\n",
    "        optimizer.step()\n",
    "        total_loss += loss.item()\n",
    "    if epoch % 10 == 0:\n",
    "        print(f\"Epoch {epoch}, Loss: {total_loss}\")\n",
    "\n",
    "# Получение вектора для слова 'king'\n",
    "vector = model.embeddings(torch.tensor([word2idx['king']], dtype=torch.long))\n",
    "print(vector)\n"
   ]
  },
  {
   "cell_type": "markdown",
   "metadata": {},
   "source": [
    "## 2. Word2Vec с использованием gensim:"
   ]
  },
  {
   "cell_type": "code",
   "execution_count": null,
   "metadata": {},
   "outputs": [
    {
     "name": "stdout",
     "output_type": "stream",
     "text": [
      "[-0.0363861   0.0575484   0.02003219 -0.16554193 -0.18924105]\n"
     ]
    }
   ],
   "source": [
    "from gensim.models import Word2Vec\n",
    "\n",
    "# Подготовка данных\n",
    "sentences = [[\"he\", \"is\", \"the\", \"king\"],\n",
    "             [\"the\", \"king\", \"is\", \"royal\"],\n",
    "             [\"she\", \"is\", \"the\", \"royal\", \"queen\"]]\n",
    "\n",
    "# Обучение модели\n",
    "model = Word2Vec(sentences, vector_size=5, window=5, min_count=1, workers=4)\n",
    "model.train(sentences, total_examples=len(sentences), epochs=100)\n",
    "\n",
    "# Получение векторного представления для слова \"king\"\n",
    "vector = model.wv['king']\n",
    "print(vector)\n"
   ]
  },
  {
   "cell_type": "code",
   "execution_count": null,
   "metadata": {},
   "outputs": [],
   "source": []
  }
 ],
 "metadata": {
  "ExecuteTimeLog": [
   {
    "duration": 1805,
    "start_time": "2023-10-01T07:54:17.706Z"
   },
   {
    "duration": 216,
    "start_time": "2023-10-01T07:54:28.518Z"
   },
   {
    "duration": 24,
    "start_time": "2023-10-01T07:54:36.062Z"
   },
   {
    "duration": 26,
    "start_time": "2023-10-01T07:54:44.017Z"
   },
   {
    "duration": 24,
    "start_time": "2023-10-01T07:54:51.763Z"
   },
   {
    "duration": 51,
    "start_time": "2023-10-01T07:54:59.172Z"
   },
   {
    "duration": 19,
    "start_time": "2023-10-01T08:12:46.661Z"
   },
   {
    "duration": 11,
    "start_time": "2023-10-01T08:13:44.304Z"
   },
   {
    "duration": 6,
    "start_time": "2023-10-01T08:18:13.684Z"
   },
   {
    "duration": 18,
    "start_time": "2023-10-01T08:19:00.615Z"
   },
   {
    "duration": 13,
    "start_time": "2023-10-01T08:20:02.996Z"
   },
   {
    "duration": 16,
    "start_time": "2023-10-01T08:20:11.658Z"
   },
   {
    "duration": 20,
    "start_time": "2023-10-01T08:20:31.211Z"
   },
   {
    "duration": 125,
    "start_time": "2023-10-01T08:30:02.406Z"
   },
   {
    "duration": 6,
    "start_time": "2023-10-01T08:30:16.575Z"
   },
   {
    "duration": 15,
    "start_time": "2023-10-01T08:31:43.377Z"
   },
   {
    "duration": 13,
    "start_time": "2023-10-01T08:32:02.735Z"
   },
   {
    "duration": 39,
    "start_time": "2023-10-01T08:34:11.205Z"
   },
   {
    "duration": 19,
    "start_time": "2023-10-01T08:34:27.166Z"
   },
   {
    "duration": 11,
    "start_time": "2023-10-01T08:35:01.462Z"
   },
   {
    "duration": 7,
    "start_time": "2023-10-01T08:47:07.868Z"
   },
   {
    "duration": 4,
    "start_time": "2023-10-01T08:47:36.305Z"
   },
   {
    "duration": 5,
    "start_time": "2023-10-01T08:48:14.827Z"
   },
   {
    "duration": 12,
    "start_time": "2023-10-01T08:48:20.957Z"
   },
   {
    "duration": 4,
    "start_time": "2023-10-01T08:51:18.303Z"
   },
   {
    "duration": 1671,
    "start_time": "2023-10-01T08:51:18.315Z"
   },
   {
    "duration": 109,
    "start_time": "2023-10-01T08:51:19.988Z"
   },
   {
    "duration": 31,
    "start_time": "2023-10-01T08:51:20.099Z"
   },
   {
    "duration": 13,
    "start_time": "2023-10-01T08:51:20.132Z"
   },
   {
    "duration": 54,
    "start_time": "2023-10-01T08:51:20.148Z"
   },
   {
    "duration": 23,
    "start_time": "2023-10-01T08:51:20.204Z"
   },
   {
    "duration": 44,
    "start_time": "2023-10-01T08:51:20.229Z"
   },
   {
    "duration": 56,
    "start_time": "2023-10-01T08:51:20.275Z"
   },
   {
    "duration": 37,
    "start_time": "2023-10-01T08:51:20.333Z"
   },
   {
    "duration": 33,
    "start_time": "2023-10-01T08:51:20.372Z"
   },
   {
    "duration": 46,
    "start_time": "2023-10-01T08:51:20.407Z"
   },
   {
    "duration": 18,
    "start_time": "2023-10-01T08:51:20.455Z"
   },
   {
    "duration": 11,
    "start_time": "2023-10-01T08:51:20.475Z"
   },
   {
    "duration": 44,
    "start_time": "2023-10-01T08:51:20.489Z"
   },
   {
    "duration": 4,
    "start_time": "2023-10-01T08:51:40.337Z"
   },
   {
    "duration": 1619,
    "start_time": "2023-10-01T08:51:40.343Z"
   },
   {
    "duration": 105,
    "start_time": "2023-10-01T08:51:41.963Z"
   },
   {
    "duration": 20,
    "start_time": "2023-10-01T08:51:42.071Z"
   },
   {
    "duration": 11,
    "start_time": "2023-10-01T08:51:42.093Z"
   },
   {
    "duration": 32,
    "start_time": "2023-10-01T08:51:42.107Z"
   },
   {
    "duration": 17,
    "start_time": "2023-10-01T08:51:42.141Z"
   },
   {
    "duration": 35,
    "start_time": "2023-10-01T08:51:42.160Z"
   },
   {
    "duration": 89,
    "start_time": "2023-10-01T08:51:42.198Z"
   },
   {
    "duration": 134,
    "start_time": "2023-10-01T08:51:42.289Z"
   },
   {
    "duration": 0,
    "start_time": "2023-10-01T08:51:42.425Z"
   },
   {
    "duration": 0,
    "start_time": "2023-10-01T08:51:42.426Z"
   },
   {
    "duration": 0,
    "start_time": "2023-10-01T08:51:42.427Z"
   },
   {
    "duration": 0,
    "start_time": "2023-10-01T08:51:42.428Z"
   },
   {
    "duration": 5,
    "start_time": "2023-10-01T08:53:01.671Z"
   },
   {
    "duration": 1863,
    "start_time": "2023-10-01T08:53:01.678Z"
   },
   {
    "duration": 105,
    "start_time": "2023-10-01T08:53:03.543Z"
   },
   {
    "duration": 21,
    "start_time": "2023-10-01T08:53:03.651Z"
   },
   {
    "duration": 127,
    "start_time": "2023-10-01T08:53:03.673Z"
   },
   {
    "duration": 29,
    "start_time": "2023-10-01T08:53:03.802Z"
   },
   {
    "duration": 25,
    "start_time": "2023-10-01T08:53:03.833Z"
   },
   {
    "duration": 61,
    "start_time": "2023-10-01T08:53:03.860Z"
   },
   {
    "duration": 47,
    "start_time": "2023-10-01T08:53:03.923Z"
   },
   {
    "duration": 136,
    "start_time": "2023-10-01T08:53:03.972Z"
   },
   {
    "duration": 0,
    "start_time": "2023-10-01T08:53:04.110Z"
   },
   {
    "duration": 0,
    "start_time": "2023-10-01T08:53:04.111Z"
   },
   {
    "duration": 0,
    "start_time": "2023-10-01T08:53:04.113Z"
   },
   {
    "duration": 0,
    "start_time": "2023-10-01T08:53:04.114Z"
   },
   {
    "duration": 26,
    "start_time": "2023-10-01T08:54:08.234Z"
   },
   {
    "duration": 29,
    "start_time": "2023-10-01T08:54:08.844Z"
   },
   {
    "duration": 4,
    "start_time": "2023-10-01T08:55:27.020Z"
   },
   {
    "duration": 1640,
    "start_time": "2023-10-01T08:55:27.026Z"
   },
   {
    "duration": 108,
    "start_time": "2023-10-01T08:55:28.668Z"
   },
   {
    "duration": 21,
    "start_time": "2023-10-01T08:55:28.777Z"
   },
   {
    "duration": 10,
    "start_time": "2023-10-01T08:55:28.800Z"
   },
   {
    "duration": 22,
    "start_time": "2023-10-01T08:55:28.812Z"
   },
   {
    "duration": 15,
    "start_time": "2023-10-01T08:55:28.836Z"
   },
   {
    "duration": 24,
    "start_time": "2023-10-01T08:55:28.852Z"
   },
   {
    "duration": 69,
    "start_time": "2023-10-01T08:55:28.878Z"
   },
   {
    "duration": 27,
    "start_time": "2023-10-01T08:55:28.949Z"
   },
   {
    "duration": 29,
    "start_time": "2023-10-01T08:55:28.977Z"
   },
   {
    "duration": 48,
    "start_time": "2023-10-01T08:55:29.008Z"
   },
   {
    "duration": 6,
    "start_time": "2023-10-01T08:55:29.058Z"
   },
   {
    "duration": 12,
    "start_time": "2023-10-01T08:55:29.067Z"
   },
   {
    "duration": 12,
    "start_time": "2023-10-01T08:55:29.081Z"
   },
   {
    "duration": 10,
    "start_time": "2023-10-01T09:05:38.207Z"
   },
   {
    "duration": 7,
    "start_time": "2023-10-01T09:07:18.311Z"
   },
   {
    "duration": 12,
    "start_time": "2023-10-01T09:22:44.039Z"
   },
   {
    "duration": 11,
    "start_time": "2023-10-01T09:22:51.379Z"
   },
   {
    "duration": 14,
    "start_time": "2023-10-01T09:23:07.972Z"
   },
   {
    "duration": 141,
    "start_time": "2023-10-01T09:24:35.354Z"
   },
   {
    "duration": 9,
    "start_time": "2023-10-01T09:25:08.321Z"
   },
   {
    "duration": 8,
    "start_time": "2023-10-01T09:25:19.556Z"
   },
   {
    "duration": 8,
    "start_time": "2023-10-01T09:28:59.450Z"
   },
   {
    "duration": 12,
    "start_time": "2023-10-01T09:34:20.829Z"
   },
   {
    "duration": 5,
    "start_time": "2023-10-01T09:44:14.313Z"
   },
   {
    "duration": 1714,
    "start_time": "2023-10-01T09:44:14.321Z"
   },
   {
    "duration": 113,
    "start_time": "2023-10-01T09:44:16.037Z"
   },
   {
    "duration": 24,
    "start_time": "2023-10-01T09:44:16.153Z"
   },
   {
    "duration": 9,
    "start_time": "2023-10-01T09:44:16.180Z"
   },
   {
    "duration": 33,
    "start_time": "2023-10-01T09:44:16.191Z"
   },
   {
    "duration": 36,
    "start_time": "2023-10-01T09:44:16.226Z"
   },
   {
    "duration": 40,
    "start_time": "2023-10-01T09:44:16.264Z"
   },
   {
    "duration": 28,
    "start_time": "2023-10-01T09:44:16.307Z"
   },
   {
    "duration": 40,
    "start_time": "2023-10-01T09:44:16.337Z"
   },
   {
    "duration": 55,
    "start_time": "2023-10-01T09:44:16.379Z"
   },
   {
    "duration": 29,
    "start_time": "2023-10-01T09:44:16.436Z"
   },
   {
    "duration": 28,
    "start_time": "2023-10-01T09:44:16.467Z"
   },
   {
    "duration": 5,
    "start_time": "2023-10-01T09:44:16.497Z"
   },
   {
    "duration": 10,
    "start_time": "2023-10-01T09:44:16.504Z"
   },
   {
    "duration": 13,
    "start_time": "2023-10-01T09:44:16.547Z"
   },
   {
    "duration": 20,
    "start_time": "2023-10-01T09:44:16.562Z"
   },
   {
    "duration": 4,
    "start_time": "2023-10-01T09:48:08.175Z"
   },
   {
    "duration": 1589,
    "start_time": "2023-10-01T09:48:08.189Z"
   },
   {
    "duration": 107,
    "start_time": "2023-10-01T09:48:09.780Z"
   },
   {
    "duration": 22,
    "start_time": "2023-10-01T09:48:09.889Z"
   },
   {
    "duration": 7,
    "start_time": "2023-10-01T09:48:09.912Z"
   },
   {
    "duration": 22,
    "start_time": "2023-10-01T09:48:09.922Z"
   },
   {
    "duration": 12,
    "start_time": "2023-10-01T09:48:09.947Z"
   },
   {
    "duration": 30,
    "start_time": "2023-10-01T09:48:09.960Z"
   },
   {
    "duration": 17,
    "start_time": "2023-10-01T09:48:09.992Z"
   },
   {
    "duration": 39,
    "start_time": "2023-10-01T09:48:10.010Z"
   },
   {
    "duration": 55,
    "start_time": "2023-10-01T09:48:10.051Z"
   },
   {
    "duration": 68,
    "start_time": "2023-10-01T09:48:10.109Z"
   },
   {
    "duration": 4,
    "start_time": "2023-10-01T09:48:10.179Z"
   },
   {
    "duration": 24,
    "start_time": "2023-10-01T09:48:10.185Z"
   },
   {
    "duration": 18,
    "start_time": "2023-10-01T09:48:10.211Z"
   },
   {
    "duration": 34,
    "start_time": "2023-10-01T09:48:10.231Z"
   },
   {
    "duration": 4,
    "start_time": "2023-10-01T09:48:56.216Z"
   },
   {
    "duration": 1746,
    "start_time": "2023-10-01T09:48:56.222Z"
   },
   {
    "duration": 108,
    "start_time": "2023-10-01T09:48:57.971Z"
   },
   {
    "duration": 22,
    "start_time": "2023-10-01T09:48:58.081Z"
   },
   {
    "duration": 22,
    "start_time": "2023-10-01T09:48:58.105Z"
   },
   {
    "duration": 22,
    "start_time": "2023-10-01T09:48:58.129Z"
   },
   {
    "duration": 14,
    "start_time": "2023-10-01T09:48:58.152Z"
   },
   {
    "duration": 30,
    "start_time": "2023-10-01T09:48:58.168Z"
   },
   {
    "duration": 48,
    "start_time": "2023-10-01T09:48:58.199Z"
   },
   {
    "duration": 52,
    "start_time": "2023-10-01T09:48:58.251Z"
   },
   {
    "duration": 48,
    "start_time": "2023-10-01T09:48:58.306Z"
   },
   {
    "duration": 17,
    "start_time": "2023-10-01T09:48:58.356Z"
   },
   {
    "duration": 19,
    "start_time": "2023-10-01T09:48:58.375Z"
   },
   {
    "duration": 16,
    "start_time": "2023-10-01T09:48:58.395Z"
   },
   {
    "duration": 24,
    "start_time": "2023-10-01T09:48:58.413Z"
   },
   {
    "duration": 12,
    "start_time": "2023-10-01T09:48:58.439Z"
   },
   {
    "duration": 4,
    "start_time": "2023-10-01T09:49:08.629Z"
   },
   {
    "duration": 1691,
    "start_time": "2023-10-01T09:49:08.636Z"
   },
   {
    "duration": 119,
    "start_time": "2023-10-01T09:49:10.329Z"
   },
   {
    "duration": 22,
    "start_time": "2023-10-01T09:49:10.450Z"
   },
   {
    "duration": 24,
    "start_time": "2023-10-01T09:49:10.474Z"
   },
   {
    "duration": 47,
    "start_time": "2023-10-01T09:49:10.500Z"
   },
   {
    "duration": 29,
    "start_time": "2023-10-01T09:49:10.549Z"
   },
   {
    "duration": 24,
    "start_time": "2023-10-01T09:49:10.580Z"
   },
   {
    "duration": 26,
    "start_time": "2023-10-01T09:49:10.606Z"
   },
   {
    "duration": 32,
    "start_time": "2023-10-01T09:49:10.635Z"
   },
   {
    "duration": 54,
    "start_time": "2023-10-01T09:49:10.669Z"
   },
   {
    "duration": 51,
    "start_time": "2023-10-01T09:49:10.726Z"
   },
   {
    "duration": 5,
    "start_time": "2023-10-01T09:49:10.778Z"
   },
   {
    "duration": 11,
    "start_time": "2023-10-01T09:49:10.786Z"
   },
   {
    "duration": 25,
    "start_time": "2023-10-01T09:49:10.799Z"
   },
   {
    "duration": 35,
    "start_time": "2023-10-01T09:49:10.826Z"
   },
   {
    "duration": 2,
    "start_time": "2023-10-01T09:57:24.991Z"
   },
   {
    "duration": 9,
    "start_time": "2023-10-01T10:02:59.260Z"
   },
   {
    "duration": 8,
    "start_time": "2023-10-01T10:03:17.188Z"
   },
   {
    "duration": 11,
    "start_time": "2023-10-01T10:03:57.177Z"
   },
   {
    "duration": 9,
    "start_time": "2023-10-01T10:04:01.334Z"
   },
   {
    "duration": 7,
    "start_time": "2023-10-01T10:04:17.305Z"
   },
   {
    "duration": 3,
    "start_time": "2023-10-01T10:08:57.135Z"
   },
   {
    "duration": 185,
    "start_time": "2023-10-01T10:17:14.238Z"
   },
   {
    "duration": 314,
    "start_time": "2023-10-01T10:18:43.076Z"
   },
   {
    "duration": 118,
    "start_time": "2023-10-01T10:20:23.204Z"
   },
   {
    "duration": 142,
    "start_time": "2023-10-01T10:20:32.145Z"
   },
   {
    "duration": 163,
    "start_time": "2023-10-01T10:20:45.715Z"
   },
   {
    "duration": 197,
    "start_time": "2023-10-01T10:28:14.434Z"
   },
   {
    "duration": 11,
    "start_time": "2023-10-01T10:28:23.576Z"
   },
   {
    "duration": 9,
    "start_time": "2023-10-01T10:28:31.405Z"
   },
   {
    "duration": 2786,
    "start_time": "2023-10-01T10:28:38.810Z"
   },
   {
    "duration": 2038,
    "start_time": "2023-10-01T10:28:56.261Z"
   },
   {
    "duration": 121,
    "start_time": "2023-10-01T10:28:58.302Z"
   },
   {
    "duration": 21,
    "start_time": "2023-10-01T10:28:58.425Z"
   },
   {
    "duration": 25,
    "start_time": "2023-10-01T10:28:58.459Z"
   },
   {
    "duration": 36,
    "start_time": "2023-10-01T10:28:58.486Z"
   },
   {
    "duration": 42,
    "start_time": "2023-10-01T10:28:58.524Z"
   },
   {
    "duration": 17,
    "start_time": "2023-10-01T10:28:58.574Z"
   },
   {
    "duration": 32,
    "start_time": "2023-10-01T10:28:58.593Z"
   },
   {
    "duration": 174,
    "start_time": "2023-10-01T10:28:58.627Z"
   },
   {
    "duration": 0,
    "start_time": "2023-10-01T10:28:58.803Z"
   },
   {
    "duration": 0,
    "start_time": "2023-10-01T10:28:58.805Z"
   },
   {
    "duration": 0,
    "start_time": "2023-10-01T10:28:58.807Z"
   },
   {
    "duration": 0,
    "start_time": "2023-10-01T10:28:58.808Z"
   },
   {
    "duration": 0,
    "start_time": "2023-10-01T10:28:58.810Z"
   },
   {
    "duration": 0,
    "start_time": "2023-10-01T10:28:58.811Z"
   },
   {
    "duration": 0,
    "start_time": "2023-10-01T10:28:58.813Z"
   },
   {
    "duration": 10,
    "start_time": "2023-10-01T10:29:21.083Z"
   },
   {
    "duration": 2211,
    "start_time": "2023-10-01T10:29:30.380Z"
   },
   {
    "duration": 10,
    "start_time": "2023-10-01T10:30:30.800Z"
   },
   {
    "duration": 22,
    "start_time": "2023-10-01T10:30:40.150Z"
   },
   {
    "duration": 1706,
    "start_time": "2023-10-01T10:31:20.739Z"
   },
   {
    "duration": 16,
    "start_time": "2023-10-01T10:34:14.645Z"
   },
   {
    "duration": 4,
    "start_time": "2023-10-01T10:34:41.451Z"
   },
   {
    "duration": 8,
    "start_time": "2023-10-01T10:34:44.267Z"
   },
   {
    "duration": 18,
    "start_time": "2023-10-01T10:34:44.540Z"
   },
   {
    "duration": 1913,
    "start_time": "2023-10-01T10:34:55.031Z"
   },
   {
    "duration": 124,
    "start_time": "2023-10-01T10:34:56.948Z"
   },
   {
    "duration": 21,
    "start_time": "2023-10-01T10:34:57.073Z"
   },
   {
    "duration": 12,
    "start_time": "2023-10-01T10:34:57.097Z"
   },
   {
    "duration": 36,
    "start_time": "2023-10-01T10:34:57.110Z"
   },
   {
    "duration": 15,
    "start_time": "2023-10-01T10:34:57.148Z"
   },
   {
    "duration": 33,
    "start_time": "2023-10-01T10:34:57.168Z"
   },
   {
    "duration": 24,
    "start_time": "2023-10-01T10:34:57.203Z"
   },
   {
    "duration": 126,
    "start_time": "2023-10-01T10:34:57.229Z"
   },
   {
    "duration": 162,
    "start_time": "2023-10-01T10:34:57.358Z"
   },
   {
    "duration": 60,
    "start_time": "2023-10-01T10:34:57.521Z"
   },
   {
    "duration": 77,
    "start_time": "2023-10-01T10:34:57.584Z"
   },
   {
    "duration": 6,
    "start_time": "2023-10-01T10:34:57.663Z"
   },
   {
    "duration": 21,
    "start_time": "2023-10-01T10:34:57.671Z"
   },
   {
    "duration": 50,
    "start_time": "2023-10-01T10:34:57.694Z"
   },
   {
    "duration": 17,
    "start_time": "2023-10-01T10:34:57.748Z"
   },
   {
    "duration": 30,
    "start_time": "2023-10-01T10:35:24.860Z"
   },
   {
    "duration": 13,
    "start_time": "2023-10-01T10:38:10.161Z"
   },
   {
    "duration": 1753,
    "start_time": "2023-10-01T11:07:07.517Z"
   },
   {
    "duration": 110,
    "start_time": "2023-10-01T11:07:09.272Z"
   },
   {
    "duration": 21,
    "start_time": "2023-10-01T11:07:09.384Z"
   },
   {
    "duration": 8,
    "start_time": "2023-10-01T11:07:09.407Z"
   },
   {
    "duration": 21,
    "start_time": "2023-10-01T11:07:09.418Z"
   },
   {
    "duration": 14,
    "start_time": "2023-10-01T11:07:09.441Z"
   },
   {
    "duration": 12,
    "start_time": "2023-10-01T11:07:09.457Z"
   },
   {
    "duration": 15,
    "start_time": "2023-10-01T11:07:09.471Z"
   },
   {
    "duration": 37,
    "start_time": "2023-10-01T11:07:09.488Z"
   },
   {
    "duration": 44,
    "start_time": "2023-10-01T11:07:09.546Z"
   },
   {
    "duration": 18,
    "start_time": "2023-10-01T11:07:09.592Z"
   },
   {
    "duration": 71,
    "start_time": "2023-10-01T11:07:09.612Z"
   },
   {
    "duration": 11,
    "start_time": "2023-10-01T11:07:09.685Z"
   },
   {
    "duration": 17,
    "start_time": "2023-10-01T11:07:09.698Z"
   },
   {
    "duration": 34,
    "start_time": "2023-10-01T11:07:09.717Z"
   },
   {
    "duration": 26,
    "start_time": "2023-10-01T11:07:09.753Z"
   },
   {
    "duration": 25,
    "start_time": "2023-10-01T11:10:06.882Z"
   },
   {
    "duration": 7,
    "start_time": "2023-10-01T11:10:18.322Z"
   },
   {
    "duration": 6,
    "start_time": "2023-10-01T11:10:36.562Z"
   },
   {
    "duration": 3,
    "start_time": "2023-10-01T11:13:50.842Z"
   },
   {
    "duration": 174,
    "start_time": "2023-10-01T11:17:26.187Z"
   },
   {
    "duration": 12,
    "start_time": "2023-10-01T11:17:44.688Z"
   },
   {
    "duration": 27,
    "start_time": "2023-10-01T11:18:27.861Z"
   },
   {
    "duration": 13,
    "start_time": "2023-10-01T11:18:44.130Z"
   },
   {
    "duration": 21,
    "start_time": "2023-10-01T11:19:04.331Z"
   },
   {
    "duration": 48,
    "start_time": "2023-10-01T11:19:19.305Z"
   },
   {
    "duration": 6,
    "start_time": "2023-10-01T11:19:28.663Z"
   },
   {
    "duration": 8,
    "start_time": "2023-10-01T11:19:56.465Z"
   },
   {
    "duration": 1783,
    "start_time": "2023-10-01T11:20:10.071Z"
   },
   {
    "duration": 128,
    "start_time": "2023-10-01T11:20:11.859Z"
   },
   {
    "duration": 21,
    "start_time": "2023-10-01T11:20:11.989Z"
   },
   {
    "duration": 6,
    "start_time": "2023-10-01T11:20:12.013Z"
   },
   {
    "duration": 47,
    "start_time": "2023-10-01T11:20:12.022Z"
   },
   {
    "duration": 13,
    "start_time": "2023-10-01T11:20:12.071Z"
   },
   {
    "duration": 19,
    "start_time": "2023-10-01T11:20:12.086Z"
   },
   {
    "duration": 19,
    "start_time": "2023-10-01T11:20:12.107Z"
   },
   {
    "duration": 61,
    "start_time": "2023-10-01T11:20:12.127Z"
   },
   {
    "duration": 37,
    "start_time": "2023-10-01T11:20:12.190Z"
   },
   {
    "duration": 41,
    "start_time": "2023-10-01T11:20:12.228Z"
   },
   {
    "duration": 3,
    "start_time": "2023-10-01T11:20:12.271Z"
   },
   {
    "duration": 27,
    "start_time": "2023-10-01T11:20:12.276Z"
   },
   {
    "duration": 36,
    "start_time": "2023-10-01T11:20:12.307Z"
   },
   {
    "duration": 21,
    "start_time": "2023-10-01T11:20:12.348Z"
   },
   {
    "duration": 28,
    "start_time": "2023-10-01T11:20:12.371Z"
   },
   {
    "duration": 36,
    "start_time": "2023-10-01T11:20:12.401Z"
   },
   {
    "duration": 31,
    "start_time": "2023-10-01T11:20:12.439Z"
   },
   {
    "duration": 22,
    "start_time": "2023-10-01T11:20:12.472Z"
   },
   {
    "duration": 40,
    "start_time": "2023-10-01T11:20:12.496Z"
   },
   {
    "duration": 32,
    "start_time": "2023-10-01T11:20:12.538Z"
   },
   {
    "duration": 151,
    "start_time": "2023-10-01T11:21:30.029Z"
   },
   {
    "duration": 1700,
    "start_time": "2023-10-01T11:21:42.638Z"
   },
   {
    "duration": 121,
    "start_time": "2023-10-01T11:21:44.340Z"
   },
   {
    "duration": 20,
    "start_time": "2023-10-01T11:21:44.463Z"
   },
   {
    "duration": 7,
    "start_time": "2023-10-01T11:21:44.484Z"
   },
   {
    "duration": 21,
    "start_time": "2023-10-01T11:21:44.493Z"
   },
   {
    "duration": 11,
    "start_time": "2023-10-01T11:21:44.515Z"
   },
   {
    "duration": 37,
    "start_time": "2023-10-01T11:21:44.527Z"
   },
   {
    "duration": 16,
    "start_time": "2023-10-01T11:21:44.566Z"
   },
   {
    "duration": 43,
    "start_time": "2023-10-01T11:21:44.584Z"
   },
   {
    "duration": 66,
    "start_time": "2023-10-01T11:21:44.629Z"
   },
   {
    "duration": 19,
    "start_time": "2023-10-01T11:21:44.697Z"
   },
   {
    "duration": 3,
    "start_time": "2023-10-01T11:21:44.718Z"
   },
   {
    "duration": 38,
    "start_time": "2023-10-01T11:21:44.722Z"
   },
   {
    "duration": 22,
    "start_time": "2023-10-01T11:21:44.763Z"
   },
   {
    "duration": 12,
    "start_time": "2023-10-01T11:21:44.787Z"
   },
   {
    "duration": 22,
    "start_time": "2023-10-01T11:21:44.800Z"
   },
   {
    "duration": 5,
    "start_time": "2023-10-01T11:21:44.824Z"
   },
   {
    "duration": 30,
    "start_time": "2023-10-01T11:21:44.830Z"
   },
   {
    "duration": 12,
    "start_time": "2023-10-01T11:21:44.862Z"
   },
   {
    "duration": 36,
    "start_time": "2023-10-01T11:21:44.876Z"
   },
   {
    "duration": 6,
    "start_time": "2023-10-01T11:21:44.914Z"
   },
   {
    "duration": 99,
    "start_time": "2023-10-01T11:21:44.921Z"
   },
   {
    "duration": 5,
    "start_time": "2023-10-01T11:23:18.129Z"
   },
   {
    "duration": 48,
    "start_time": "2023-10-01T11:26:17.021Z"
   },
   {
    "duration": 34,
    "start_time": "2023-10-01T11:27:20.993Z"
   },
   {
    "duration": 27,
    "start_time": "2023-10-01T11:27:32.638Z"
   },
   {
    "duration": 136,
    "start_time": "2023-10-01T11:28:22.700Z"
   },
   {
    "duration": 16,
    "start_time": "2023-10-01T11:28:27.559Z"
   },
   {
    "duration": 141,
    "start_time": "2023-10-01T11:28:40.135Z"
   },
   {
    "duration": 124,
    "start_time": "2023-10-01T11:30:30.319Z"
   },
   {
    "duration": 22,
    "start_time": "2023-10-01T11:31:14.063Z"
   },
   {
    "duration": 29,
    "start_time": "2023-10-01T11:31:25.731Z"
   },
   {
    "duration": 16,
    "start_time": "2023-10-01T11:32:43.866Z"
   },
   {
    "duration": 162,
    "start_time": "2023-10-01T11:32:48.603Z"
   },
   {
    "duration": 18,
    "start_time": "2023-10-01T11:33:13.464Z"
   },
   {
    "duration": 289,
    "start_time": "2023-10-01T11:33:27.015Z"
   },
   {
    "duration": 186,
    "start_time": "2023-10-01T11:35:46.241Z"
   },
   {
    "duration": 165,
    "start_time": "2023-10-01T11:36:12.193Z"
   },
   {
    "duration": 1528,
    "start_time": "2023-10-01T11:37:55.674Z"
   },
   {
    "duration": 1546,
    "start_time": "2023-10-01T11:38:08.909Z"
   },
   {
    "duration": 198,
    "start_time": "2023-10-01T11:39:05.972Z"
   },
   {
    "duration": 12526,
    "start_time": "2023-10-01T11:39:21.369Z"
   },
   {
    "duration": 29,
    "start_time": "2023-10-01T11:40:14.447Z"
   },
   {
    "duration": 23,
    "start_time": "2023-10-01T11:41:10.752Z"
   },
   {
    "duration": 278,
    "start_time": "2023-10-01T11:41:15.201Z"
   },
   {
    "duration": 20,
    "start_time": "2023-10-01T11:41:42.059Z"
   },
   {
    "duration": 29,
    "start_time": "2023-10-01T11:41:56.223Z"
   },
   {
    "duration": 146,
    "start_time": "2023-10-01T11:42:06.358Z"
   },
   {
    "duration": 17,
    "start_time": "2023-10-01T11:42:18.159Z"
   },
   {
    "duration": 30,
    "start_time": "2023-10-01T11:42:25.887Z"
   },
   {
    "duration": 171,
    "start_time": "2023-10-01T11:42:26.523Z"
   },
   {
    "duration": 178,
    "start_time": "2023-10-01T11:44:02.588Z"
   },
   {
    "duration": 196,
    "start_time": "2023-10-01T11:46:14.993Z"
   },
   {
    "duration": 10,
    "start_time": "2023-10-01T11:52:39.877Z"
   },
   {
    "duration": 11,
    "start_time": "2023-10-01T11:52:45.261Z"
   },
   {
    "duration": 222,
    "start_time": "2023-10-01T11:52:57.304Z"
   },
   {
    "duration": 244,
    "start_time": "2023-10-01T11:53:07.316Z"
   },
   {
    "duration": 7,
    "start_time": "2023-10-01T11:54:48.954Z"
   },
   {
    "duration": 19,
    "start_time": "2023-10-01T11:54:55.140Z"
   },
   {
    "duration": 8,
    "start_time": "2023-10-01T11:56:46.874Z"
   },
   {
    "duration": 10,
    "start_time": "2023-10-01T11:56:52.496Z"
   },
   {
    "duration": 26,
    "start_time": "2023-10-01T11:57:24.647Z"
   },
   {
    "duration": 24,
    "start_time": "2023-10-01T11:58:07.619Z"
   },
   {
    "duration": 56,
    "start_time": "2023-10-01T12:06:45.926Z"
   },
   {
    "duration": 23,
    "start_time": "2023-10-01T12:07:08.421Z"
   },
   {
    "duration": 32,
    "start_time": "2023-10-01T12:07:34.147Z"
   },
   {
    "duration": 21,
    "start_time": "2023-10-01T12:07:48.961Z"
   },
   {
    "duration": 19,
    "start_time": "2023-10-01T12:08:24.341Z"
   },
   {
    "duration": 14,
    "start_time": "2023-10-01T12:08:31.985Z"
   },
   {
    "duration": 17,
    "start_time": "2023-10-01T12:08:38.483Z"
   },
   {
    "duration": 14,
    "start_time": "2023-10-01T12:09:46.792Z"
   },
   {
    "duration": 24,
    "start_time": "2023-10-01T12:10:09.544Z"
   },
   {
    "duration": 17,
    "start_time": "2023-10-01T12:11:54.166Z"
   },
   {
    "duration": 17,
    "start_time": "2023-10-01T12:12:11.245Z"
   },
   {
    "duration": 18,
    "start_time": "2023-10-01T12:13:24.123Z"
   },
   {
    "duration": 10,
    "start_time": "2023-10-01T12:13:39.809Z"
   },
   {
    "duration": 41,
    "start_time": "2023-10-01T12:13:49.413Z"
   },
   {
    "duration": 12,
    "start_time": "2023-10-01T12:13:59.174Z"
   },
   {
    "duration": 38,
    "start_time": "2023-10-01T12:13:59.844Z"
   },
   {
    "duration": 15,
    "start_time": "2023-10-01T12:14:01.094Z"
   },
   {
    "duration": 31,
    "start_time": "2023-10-01T12:14:01.576Z"
   },
   {
    "duration": 14,
    "start_time": "2023-10-01T12:14:25.821Z"
   },
   {
    "duration": 29,
    "start_time": "2023-10-01T12:15:23.962Z"
   },
   {
    "duration": 1758,
    "start_time": "2023-10-01T12:15:51.287Z"
   },
   {
    "duration": 121,
    "start_time": "2023-10-01T12:15:53.047Z"
   },
   {
    "duration": 22,
    "start_time": "2023-10-01T12:15:53.172Z"
   },
   {
    "duration": 14,
    "start_time": "2023-10-01T12:15:53.196Z"
   },
   {
    "duration": 23,
    "start_time": "2023-10-01T12:15:53.211Z"
   },
   {
    "duration": 34,
    "start_time": "2023-10-01T12:15:53.235Z"
   },
   {
    "duration": 15,
    "start_time": "2023-10-01T12:15:53.271Z"
   },
   {
    "duration": 22,
    "start_time": "2023-10-01T12:15:53.287Z"
   },
   {
    "duration": 60,
    "start_time": "2023-10-01T12:15:53.311Z"
   },
   {
    "duration": 35,
    "start_time": "2023-10-01T12:15:53.374Z"
   },
   {
    "duration": 36,
    "start_time": "2023-10-01T12:15:53.411Z"
   },
   {
    "duration": 8,
    "start_time": "2023-10-01T12:15:53.448Z"
   },
   {
    "duration": 39,
    "start_time": "2023-10-01T12:15:53.458Z"
   },
   {
    "duration": 30,
    "start_time": "2023-10-01T12:15:53.498Z"
   },
   {
    "duration": 14,
    "start_time": "2023-10-01T12:15:53.530Z"
   },
   {
    "duration": 47,
    "start_time": "2023-10-01T12:15:53.546Z"
   },
   {
    "duration": 89,
    "start_time": "2023-10-01T12:15:53.595Z"
   },
   {
    "duration": 32,
    "start_time": "2023-10-01T12:15:53.686Z"
   },
   {
    "duration": 42,
    "start_time": "2023-10-01T12:15:53.719Z"
   },
   {
    "duration": 52,
    "start_time": "2023-10-01T12:15:53.762Z"
   },
   {
    "duration": 7,
    "start_time": "2023-10-01T12:15:53.816Z"
   },
   {
    "duration": 27,
    "start_time": "2023-10-01T12:15:53.827Z"
   },
   {
    "duration": 51,
    "start_time": "2023-10-01T12:15:53.856Z"
   },
   {
    "duration": 31,
    "start_time": "2023-10-01T12:15:53.908Z"
   },
   {
    "duration": 176,
    "start_time": "2023-10-01T12:15:53.941Z"
   },
   {
    "duration": 11,
    "start_time": "2023-10-01T12:15:54.119Z"
   },
   {
    "duration": 57,
    "start_time": "2023-10-01T12:15:54.132Z"
   },
   {
    "duration": 32,
    "start_time": "2023-10-01T12:15:54.194Z"
   },
   {
    "duration": 28,
    "start_time": "2023-10-01T12:15:54.228Z"
   },
   {
    "duration": 7,
    "start_time": "2023-10-01T12:19:11.586Z"
   },
   {
    "duration": 15,
    "start_time": "2023-10-01T12:19:16.563Z"
   },
   {
    "duration": 171,
    "start_time": "2023-10-01T12:19:59.969Z"
   },
   {
    "duration": 15,
    "start_time": "2023-10-01T12:20:09.172Z"
   },
   {
    "duration": 7,
    "start_time": "2023-10-01T12:20:41.690Z"
   },
   {
    "duration": 12,
    "start_time": "2023-10-01T12:20:47.722Z"
   },
   {
    "duration": 220,
    "start_time": "2023-10-01T12:21:57.616Z"
   },
   {
    "duration": 2221,
    "start_time": "2023-10-01T12:22:22.471Z"
   },
   {
    "duration": 291,
    "start_time": "2023-10-01T12:23:46.281Z"
   },
   {
    "duration": 363,
    "start_time": "2023-10-01T12:24:05.696Z"
   },
   {
    "duration": 331,
    "start_time": "2023-10-01T12:24:43.371Z"
   },
   {
    "duration": 400,
    "start_time": "2023-10-01T12:25:54.756Z"
   },
   {
    "duration": 329,
    "start_time": "2023-10-01T12:26:22.835Z"
   },
   {
    "duration": 367,
    "start_time": "2023-10-01T12:26:33.963Z"
   },
   {
    "duration": 310,
    "start_time": "2023-10-01T12:26:55.621Z"
   },
   {
    "duration": 199,
    "start_time": "2023-10-01T12:28:39.347Z"
   },
   {
    "duration": 10,
    "start_time": "2023-10-01T12:28:42.890Z"
   },
   {
    "duration": 21,
    "start_time": "2023-10-01T12:28:43.165Z"
   },
   {
    "duration": 37,
    "start_time": "2023-10-01T12:28:43.717Z"
   },
   {
    "duration": 18,
    "start_time": "2023-10-01T12:28:44.120Z"
   },
   {
    "duration": 14,
    "start_time": "2023-10-01T12:28:44.498Z"
   },
   {
    "duration": 414,
    "start_time": "2023-10-01T12:28:44.901Z"
   },
   {
    "duration": 407,
    "start_time": "2023-10-01T12:29:04.701Z"
   },
   {
    "duration": 16,
    "start_time": "2023-10-01T12:29:43.969Z"
   },
   {
    "duration": 497,
    "start_time": "2023-10-01T12:29:45.270Z"
   },
   {
    "duration": 24,
    "start_time": "2023-10-01T12:31:23.789Z"
   },
   {
    "duration": 10,
    "start_time": "2023-10-01T12:31:35.263Z"
   },
   {
    "duration": 14,
    "start_time": "2023-10-01T12:31:40.840Z"
   },
   {
    "duration": 376,
    "start_time": "2023-10-01T12:32:48.518Z"
   },
   {
    "duration": 15,
    "start_time": "2023-10-01T12:34:46.705Z"
   },
   {
    "duration": 12,
    "start_time": "2023-10-01T12:34:50.928Z"
   },
   {
    "duration": 22,
    "start_time": "2023-10-01T12:34:56.377Z"
   },
   {
    "duration": 22,
    "start_time": "2023-10-01T12:35:17.047Z"
   },
   {
    "duration": 16,
    "start_time": "2023-10-01T12:35:33.117Z"
   },
   {
    "duration": 16,
    "start_time": "2023-10-01T12:35:38.607Z"
   },
   {
    "duration": 13,
    "start_time": "2023-10-01T12:35:53.212Z"
   },
   {
    "duration": 27,
    "start_time": "2023-10-01T12:35:57.635Z"
   },
   {
    "duration": 410,
    "start_time": "2023-10-01T12:37:06.907Z"
   },
   {
    "duration": 440,
    "start_time": "2023-10-01T12:48:03.235Z"
   },
   {
    "duration": 83,
    "start_time": "2023-10-01T12:48:47.445Z"
   },
   {
    "duration": 9,
    "start_time": "2023-10-01T12:50:15.586Z"
   },
   {
    "duration": 24,
    "start_time": "2023-10-01T12:50:20.412Z"
   },
   {
    "duration": 18,
    "start_time": "2023-10-01T12:52:02.064Z"
   },
   {
    "duration": 26,
    "start_time": "2023-10-01T12:52:43.018Z"
   },
   {
    "duration": 17,
    "start_time": "2023-10-01T12:54:54.169Z"
   },
   {
    "duration": 22,
    "start_time": "2023-10-01T12:55:29.792Z"
   },
   {
    "duration": 24,
    "start_time": "2023-10-01T12:56:18.074Z"
   },
   {
    "duration": 1771,
    "start_time": "2023-10-01T12:56:24.895Z"
   },
   {
    "duration": 91,
    "start_time": "2023-10-01T12:57:04.506Z"
   },
   {
    "duration": 244,
    "start_time": "2023-10-01T12:57:54.579Z"
   },
   {
    "duration": 1416,
    "start_time": "2023-10-01T12:58:48.498Z"
   },
   {
    "duration": 444,
    "start_time": "2023-10-01T12:59:25.185Z"
   },
   {
    "duration": 24,
    "start_time": "2023-10-01T13:02:14.214Z"
   },
   {
    "duration": 21,
    "start_time": "2023-10-01T13:02:22.859Z"
   },
   {
    "duration": 188,
    "start_time": "2023-10-01T13:02:48.167Z"
   },
   {
    "duration": 17,
    "start_time": "2023-10-01T13:03:33.939Z"
   },
   {
    "duration": 181,
    "start_time": "2023-10-01T13:04:05.008Z"
   },
   {
    "duration": 30,
    "start_time": "2023-10-01T13:04:13.276Z"
   },
   {
    "duration": 29,
    "start_time": "2023-10-01T13:06:34.866Z"
   },
   {
    "duration": 18,
    "start_time": "2023-10-01T13:07:14.540Z"
   },
   {
    "duration": 15,
    "start_time": "2023-10-01T13:07:41.938Z"
   },
   {
    "duration": 25,
    "start_time": "2023-10-01T13:07:48.116Z"
   },
   {
    "duration": 25,
    "start_time": "2023-10-01T13:08:29.075Z"
   },
   {
    "duration": 19,
    "start_time": "2023-10-01T13:10:33.894Z"
   },
   {
    "duration": 1409,
    "start_time": "2023-10-01T13:10:51.157Z"
   },
   {
    "duration": 9,
    "start_time": "2023-10-01T13:11:04.049Z"
   },
   {
    "duration": 7,
    "start_time": "2023-10-01T13:11:11.967Z"
   },
   {
    "duration": 13,
    "start_time": "2023-10-01T13:11:16.329Z"
   },
   {
    "duration": 1302,
    "start_time": "2023-10-01T13:11:19.182Z"
   },
   {
    "duration": 17,
    "start_time": "2023-10-01T13:11:28.736Z"
   },
   {
    "duration": 401,
    "start_time": "2023-10-01T13:13:00.912Z"
   },
   {
    "duration": 35,
    "start_time": "2023-10-01T13:17:11.148Z"
   },
   {
    "duration": 49,
    "start_time": "2023-10-01T13:17:20.508Z"
   },
   {
    "duration": 1721,
    "start_time": "2023-10-01T13:17:47.602Z"
   },
   {
    "duration": 110,
    "start_time": "2023-10-01T13:17:49.325Z"
   },
   {
    "duration": 21,
    "start_time": "2023-10-01T13:17:49.437Z"
   },
   {
    "duration": 23,
    "start_time": "2023-10-01T13:17:49.459Z"
   },
   {
    "duration": 57,
    "start_time": "2023-10-01T13:17:49.485Z"
   },
   {
    "duration": 54,
    "start_time": "2023-10-01T13:17:49.544Z"
   },
   {
    "duration": 54,
    "start_time": "2023-10-01T13:17:49.600Z"
   },
   {
    "duration": 58,
    "start_time": "2023-10-01T13:17:49.656Z"
   },
   {
    "duration": 62,
    "start_time": "2023-10-01T13:17:49.716Z"
   },
   {
    "duration": 68,
    "start_time": "2023-10-01T13:17:49.780Z"
   },
   {
    "duration": 19,
    "start_time": "2023-10-01T13:17:49.851Z"
   },
   {
    "duration": 42,
    "start_time": "2023-10-01T13:17:49.872Z"
   },
   {
    "duration": 60,
    "start_time": "2023-10-01T13:17:49.916Z"
   },
   {
    "duration": 40,
    "start_time": "2023-10-01T13:17:49.979Z"
   },
   {
    "duration": 48,
    "start_time": "2023-10-01T13:17:50.021Z"
   },
   {
    "duration": 34,
    "start_time": "2023-10-01T13:17:50.072Z"
   },
   {
    "duration": 43,
    "start_time": "2023-10-01T13:17:50.108Z"
   },
   {
    "duration": 38,
    "start_time": "2023-10-01T13:17:50.153Z"
   },
   {
    "duration": 36,
    "start_time": "2023-10-01T13:17:50.193Z"
   },
   {
    "duration": 68,
    "start_time": "2023-10-01T13:17:50.230Z"
   },
   {
    "duration": 23,
    "start_time": "2023-10-01T13:17:50.300Z"
   },
   {
    "duration": 42,
    "start_time": "2023-10-01T13:17:50.325Z"
   },
   {
    "duration": 64,
    "start_time": "2023-10-01T13:17:50.369Z"
   },
   {
    "duration": 42,
    "start_time": "2023-10-01T13:17:50.435Z"
   },
   {
    "duration": 215,
    "start_time": "2023-10-01T13:17:50.478Z"
   },
   {
    "duration": 13,
    "start_time": "2023-10-01T13:17:50.696Z"
   },
   {
    "duration": 42,
    "start_time": "2023-10-01T13:17:50.712Z"
   },
   {
    "duration": 42,
    "start_time": "2023-10-01T13:17:50.756Z"
   },
   {
    "duration": 17,
    "start_time": "2023-10-01T13:17:50.800Z"
   },
   {
    "duration": 31,
    "start_time": "2023-10-01T13:17:50.819Z"
   },
   {
    "duration": 512,
    "start_time": "2023-10-01T13:17:50.852Z"
   },
   {
    "duration": 27,
    "start_time": "2023-10-01T13:17:51.366Z"
   },
   {
    "duration": 19,
    "start_time": "2023-10-01T13:17:51.395Z"
   },
   {
    "duration": 83,
    "start_time": "2023-10-01T13:17:51.416Z"
   },
   {
    "duration": 29,
    "start_time": "2023-10-01T13:17:51.502Z"
   },
   {
    "duration": 449,
    "start_time": "2023-10-01T13:17:51.533Z"
   },
   {
    "duration": 25,
    "start_time": "2023-10-01T13:17:51.984Z"
   },
   {
    "duration": 70,
    "start_time": "2023-10-01T13:17:52.011Z"
   },
   {
    "duration": 53,
    "start_time": "2023-10-01T13:17:52.083Z"
   },
   {
    "duration": 466,
    "start_time": "2023-10-01T13:17:52.138Z"
   },
   {
    "duration": 22,
    "start_time": "2023-10-01T13:17:52.608Z"
   },
   {
    "duration": 210,
    "start_time": "2023-10-01T13:17:52.633Z"
   },
   {
    "duration": 53,
    "start_time": "2023-10-01T13:18:47.523Z"
   },
   {
    "duration": 4,
    "start_time": "2023-10-01T13:19:35.104Z"
   },
   {
    "duration": 82,
    "start_time": "2023-10-01T13:22:04.616Z"
   },
   {
    "duration": 6,
    "start_time": "2023-10-01T13:22:27.565Z"
   },
   {
    "duration": 190,
    "start_time": "2023-10-01T13:22:47.262Z"
   },
   {
    "duration": 1762,
    "start_time": "2023-10-01T13:23:18.896Z"
   },
   {
    "duration": 115,
    "start_time": "2023-10-01T13:23:20.660Z"
   },
   {
    "duration": 25,
    "start_time": "2023-10-01T13:23:20.777Z"
   },
   {
    "duration": 32,
    "start_time": "2023-10-01T13:23:20.804Z"
   },
   {
    "duration": 48,
    "start_time": "2023-10-01T13:23:20.840Z"
   },
   {
    "duration": 17,
    "start_time": "2023-10-01T13:23:20.891Z"
   },
   {
    "duration": 43,
    "start_time": "2023-10-01T13:23:20.911Z"
   },
   {
    "duration": 45,
    "start_time": "2023-10-01T13:23:20.956Z"
   },
   {
    "duration": 45,
    "start_time": "2023-10-01T13:23:21.002Z"
   },
   {
    "duration": 94,
    "start_time": "2023-10-01T13:23:21.049Z"
   },
   {
    "duration": 21,
    "start_time": "2023-10-01T13:23:21.145Z"
   },
   {
    "duration": 25,
    "start_time": "2023-10-01T13:23:21.168Z"
   },
   {
    "duration": 19,
    "start_time": "2023-10-01T13:23:21.195Z"
   },
   {
    "duration": 19,
    "start_time": "2023-10-01T13:23:21.218Z"
   },
   {
    "duration": 11,
    "start_time": "2023-10-01T13:23:21.247Z"
   },
   {
    "duration": 125,
    "start_time": "2023-10-01T13:23:21.260Z"
   },
   {
    "duration": 41,
    "start_time": "2023-10-01T13:23:21.387Z"
   },
   {
    "duration": 25,
    "start_time": "2023-10-01T13:23:21.431Z"
   },
   {
    "duration": 23,
    "start_time": "2023-10-01T13:23:21.459Z"
   },
   {
    "duration": 51,
    "start_time": "2023-10-01T13:23:21.484Z"
   },
   {
    "duration": 31,
    "start_time": "2023-10-01T13:23:21.538Z"
   },
   {
    "duration": 33,
    "start_time": "2023-10-01T13:23:21.571Z"
   },
   {
    "duration": 44,
    "start_time": "2023-10-01T13:23:21.606Z"
   },
   {
    "duration": 36,
    "start_time": "2023-10-01T13:23:21.653Z"
   },
   {
    "duration": 213,
    "start_time": "2023-10-01T13:23:21.691Z"
   },
   {
    "duration": 11,
    "start_time": "2023-10-01T13:23:21.906Z"
   },
   {
    "duration": 47,
    "start_time": "2023-10-01T13:23:21.919Z"
   },
   {
    "duration": 35,
    "start_time": "2023-10-01T13:23:21.968Z"
   },
   {
    "duration": 35,
    "start_time": "2023-10-01T13:23:22.005Z"
   },
   {
    "duration": 33,
    "start_time": "2023-10-01T13:23:22.042Z"
   },
   {
    "duration": 518,
    "start_time": "2023-10-01T13:23:22.077Z"
   },
   {
    "duration": 25,
    "start_time": "2023-10-01T13:23:22.597Z"
   },
   {
    "duration": 30,
    "start_time": "2023-10-01T13:23:22.623Z"
   },
   {
    "duration": 54,
    "start_time": "2023-10-01T13:23:22.656Z"
   },
   {
    "duration": 35,
    "start_time": "2023-10-01T13:23:22.712Z"
   },
   {
    "duration": 547,
    "start_time": "2023-10-01T13:23:22.750Z"
   },
   {
    "duration": 20,
    "start_time": "2023-10-01T13:23:23.299Z"
   },
   {
    "duration": 40,
    "start_time": "2023-10-01T13:23:23.320Z"
   },
   {
    "duration": 22,
    "start_time": "2023-10-01T13:23:23.363Z"
   },
   {
    "duration": 527,
    "start_time": "2023-10-01T13:23:23.387Z"
   },
   {
    "duration": 31,
    "start_time": "2023-10-01T13:23:23.918Z"
   },
   {
    "duration": 196,
    "start_time": "2023-10-01T13:23:23.951Z"
   },
   {
    "duration": 48,
    "start_time": "2023-10-01T13:23:24.149Z"
   },
   {
    "duration": 9,
    "start_time": "2023-10-01T13:23:24.199Z"
   },
   {
    "duration": 1829,
    "start_time": "2023-10-01T14:37:43.896Z"
   },
   {
    "duration": 143,
    "start_time": "2023-10-01T14:37:45.728Z"
   },
   {
    "duration": 26,
    "start_time": "2023-10-01T14:37:45.873Z"
   },
   {
    "duration": 8,
    "start_time": "2023-10-01T14:37:45.901Z"
   },
   {
    "duration": 28,
    "start_time": "2023-10-01T14:37:45.911Z"
   },
   {
    "duration": 26,
    "start_time": "2023-10-01T14:37:45.942Z"
   },
   {
    "duration": 14,
    "start_time": "2023-10-01T14:37:45.970Z"
   },
   {
    "duration": 22,
    "start_time": "2023-10-01T14:37:45.986Z"
   },
   {
    "duration": 29,
    "start_time": "2023-10-01T14:37:46.010Z"
   },
   {
    "duration": 61,
    "start_time": "2023-10-01T14:37:46.040Z"
   },
   {
    "duration": 32,
    "start_time": "2023-10-01T14:37:46.103Z"
   },
   {
    "duration": 3,
    "start_time": "2023-10-01T14:37:46.137Z"
   },
   {
    "duration": 37,
    "start_time": "2023-10-01T14:37:46.151Z"
   },
   {
    "duration": 23,
    "start_time": "2023-10-01T14:37:46.193Z"
   },
   {
    "duration": 12,
    "start_time": "2023-10-01T14:37:46.219Z"
   },
   {
    "duration": 33,
    "start_time": "2023-10-01T14:37:46.233Z"
   },
   {
    "duration": 6,
    "start_time": "2023-10-01T14:37:46.268Z"
   },
   {
    "duration": 7,
    "start_time": "2023-10-01T14:37:46.276Z"
   },
   {
    "duration": 16,
    "start_time": "2023-10-01T14:37:46.285Z"
   },
   {
    "duration": 66,
    "start_time": "2023-10-01T14:37:46.303Z"
   },
   {
    "duration": 7,
    "start_time": "2023-10-01T14:37:46.371Z"
   },
   {
    "duration": 14,
    "start_time": "2023-10-01T14:37:46.379Z"
   },
   {
    "duration": 60,
    "start_time": "2023-10-01T14:37:46.395Z"
   },
   {
    "duration": 42,
    "start_time": "2023-10-01T14:37:46.466Z"
   },
   {
    "duration": 213,
    "start_time": "2023-10-01T14:37:46.510Z"
   },
   {
    "duration": 25,
    "start_time": "2023-10-01T14:37:46.725Z"
   },
   {
    "duration": 25,
    "start_time": "2023-10-01T14:37:46.765Z"
   },
   {
    "duration": 25,
    "start_time": "2023-10-01T14:37:46.792Z"
   },
   {
    "duration": 22,
    "start_time": "2023-10-01T14:37:46.819Z"
   },
   {
    "duration": 22,
    "start_time": "2023-10-01T14:37:46.856Z"
   },
   {
    "duration": 428,
    "start_time": "2023-10-01T14:37:46.880Z"
   },
   {
    "duration": 38,
    "start_time": "2023-10-01T14:37:47.310Z"
   },
   {
    "duration": 16,
    "start_time": "2023-10-01T14:37:47.357Z"
   },
   {
    "duration": 26,
    "start_time": "2023-10-01T14:37:47.376Z"
   },
   {
    "duration": 16,
    "start_time": "2023-10-01T14:37:47.403Z"
   },
   {
    "duration": 434,
    "start_time": "2023-10-01T14:37:47.421Z"
   },
   {
    "duration": 24,
    "start_time": "2023-10-01T14:37:47.856Z"
   },
   {
    "duration": 20,
    "start_time": "2023-10-01T14:37:47.882Z"
   },
   {
    "duration": 23,
    "start_time": "2023-10-01T14:37:47.904Z"
   },
   {
    "duration": 633,
    "start_time": "2023-10-01T14:37:47.949Z"
   },
   {
    "duration": 30,
    "start_time": "2023-10-01T14:37:48.588Z"
   },
   {
    "duration": 273,
    "start_time": "2023-10-01T14:37:48.621Z"
   },
   {
    "duration": 68,
    "start_time": "2023-10-01T14:37:48.897Z"
   },
   {
    "duration": 8,
    "start_time": "2023-10-01T14:37:48.972Z"
   },
   {
    "duration": 13,
    "start_time": "2023-10-01T14:43:34.065Z"
   },
   {
    "duration": 2214,
    "start_time": "2023-10-01T14:43:47.392Z"
   },
   {
    "duration": 144,
    "start_time": "2023-10-01T14:43:49.610Z"
   },
   {
    "duration": 37,
    "start_time": "2023-10-01T14:43:49.760Z"
   },
   {
    "duration": 11,
    "start_time": "2023-10-01T14:43:49.799Z"
   },
   {
    "duration": 46,
    "start_time": "2023-10-01T14:43:49.814Z"
   },
   {
    "duration": 18,
    "start_time": "2023-10-01T14:43:49.863Z"
   },
   {
    "duration": 12,
    "start_time": "2023-10-01T14:43:49.884Z"
   },
   {
    "duration": 17,
    "start_time": "2023-10-01T14:43:49.898Z"
   },
   {
    "duration": 48,
    "start_time": "2023-10-01T14:43:49.950Z"
   },
   {
    "duration": 58,
    "start_time": "2023-10-01T14:43:50.003Z"
   },
   {
    "duration": 38,
    "start_time": "2023-10-01T14:43:50.069Z"
   },
   {
    "duration": 67,
    "start_time": "2023-10-01T14:43:50.110Z"
   },
   {
    "duration": 54,
    "start_time": "2023-10-01T14:43:50.179Z"
   },
   {
    "duration": 45,
    "start_time": "2023-10-01T14:43:50.239Z"
   },
   {
    "duration": 12,
    "start_time": "2023-10-01T14:43:50.286Z"
   },
   {
    "duration": 87,
    "start_time": "2023-10-01T14:43:50.301Z"
   },
   {
    "duration": 75,
    "start_time": "2023-10-01T14:43:50.390Z"
   },
   {
    "duration": 22,
    "start_time": "2023-10-01T14:43:50.467Z"
   },
   {
    "duration": 18,
    "start_time": "2023-10-01T14:43:50.491Z"
   },
   {
    "duration": 40,
    "start_time": "2023-10-01T14:43:50.512Z"
   },
   {
    "duration": 14,
    "start_time": "2023-10-01T14:43:50.557Z"
   },
   {
    "duration": 9,
    "start_time": "2023-10-01T14:43:50.577Z"
   },
   {
    "duration": 48,
    "start_time": "2023-10-01T14:43:50.588Z"
   },
   {
    "duration": 43,
    "start_time": "2023-10-01T14:43:50.647Z"
   },
   {
    "duration": 319,
    "start_time": "2023-10-01T14:43:50.692Z"
   },
   {
    "duration": 13,
    "start_time": "2023-10-01T14:43:51.014Z"
   },
   {
    "duration": 57,
    "start_time": "2023-10-01T14:43:51.030Z"
   },
   {
    "duration": 52,
    "start_time": "2023-10-01T14:43:51.089Z"
   },
   {
    "duration": 32,
    "start_time": "2023-10-01T14:43:51.144Z"
   },
   {
    "duration": 26,
    "start_time": "2023-10-01T14:43:51.178Z"
   },
   {
    "duration": 572,
    "start_time": "2023-10-01T14:43:51.206Z"
   },
   {
    "duration": 25,
    "start_time": "2023-10-01T14:43:51.781Z"
   },
   {
    "duration": 30,
    "start_time": "2023-10-01T14:43:51.809Z"
   },
   {
    "duration": 38,
    "start_time": "2023-10-01T14:43:51.850Z"
   },
   {
    "duration": 24,
    "start_time": "2023-10-01T14:43:51.891Z"
   },
   {
    "duration": 470,
    "start_time": "2023-10-01T14:43:51.918Z"
   },
   {
    "duration": 24,
    "start_time": "2023-10-01T14:43:52.391Z"
   },
   {
    "duration": 41,
    "start_time": "2023-10-01T14:43:52.417Z"
   },
   {
    "duration": 25,
    "start_time": "2023-10-01T14:43:52.460Z"
   },
   {
    "duration": 551,
    "start_time": "2023-10-01T14:43:52.488Z"
   },
   {
    "duration": 30,
    "start_time": "2023-10-01T14:43:53.050Z"
   },
   {
    "duration": 284,
    "start_time": "2023-10-01T14:43:53.082Z"
   },
   {
    "duration": 60,
    "start_time": "2023-10-01T14:43:53.368Z"
   },
   {
    "duration": 24,
    "start_time": "2023-10-01T14:43:53.430Z"
   },
   {
    "duration": 20,
    "start_time": "2023-10-01T14:46:17.132Z"
   },
   {
    "duration": 11,
    "start_time": "2023-10-01T14:47:36.410Z"
   },
   {
    "duration": 224,
    "start_time": "2023-10-01T14:55:36.828Z"
   },
   {
    "duration": 271,
    "start_time": "2023-10-01T14:55:52.636Z"
   },
   {
    "duration": 280,
    "start_time": "2023-10-01T14:55:59.812Z"
   },
   {
    "duration": 189,
    "start_time": "2023-10-01T14:57:09.855Z"
   },
   {
    "duration": 152,
    "start_time": "2023-10-01T14:59:49.129Z"
   },
   {
    "duration": 11,
    "start_time": "2023-10-01T14:59:56.748Z"
   },
   {
    "duration": 14,
    "start_time": "2023-10-01T15:00:00.587Z"
   },
   {
    "duration": 280,
    "start_time": "2023-10-01T15:00:05.353Z"
   },
   {
    "duration": 241,
    "start_time": "2023-10-01T15:00:57.926Z"
   },
   {
    "duration": 191,
    "start_time": "2023-10-01T15:02:31.117Z"
   },
   {
    "duration": 187,
    "start_time": "2023-10-01T15:03:11.411Z"
   },
   {
    "duration": 194,
    "start_time": "2023-10-01T15:05:04.391Z"
   },
   {
    "duration": 7,
    "start_time": "2023-10-01T15:05:11.925Z"
   },
   {
    "duration": 9,
    "start_time": "2023-10-01T15:05:18.040Z"
   },
   {
    "duration": 9,
    "start_time": "2023-10-01T15:06:14.928Z"
   },
   {
    "duration": 8,
    "start_time": "2023-10-01T15:06:21.190Z"
   },
   {
    "duration": 9,
    "start_time": "2023-10-01T15:06:48.379Z"
   },
   {
    "duration": 17,
    "start_time": "2023-10-01T15:07:53.262Z"
   },
   {
    "duration": 75,
    "start_time": "2023-10-01T15:10:33.404Z"
   },
   {
    "duration": 18,
    "start_time": "2023-10-01T15:10:38.466Z"
   },
   {
    "duration": 12,
    "start_time": "2023-10-01T15:12:53.252Z"
   },
   {
    "duration": 16,
    "start_time": "2023-10-01T15:13:24.221Z"
   },
   {
    "duration": 22,
    "start_time": "2023-10-01T15:14:11.316Z"
   },
   {
    "duration": 9,
    "start_time": "2023-10-01T15:14:20.130Z"
   },
   {
    "duration": 232,
    "start_time": "2023-10-01T15:16:24.304Z"
   },
   {
    "duration": 181,
    "start_time": "2023-10-01T15:16:55.754Z"
   },
   {
    "duration": 1664,
    "start_time": "2023-10-01T15:23:53.673Z"
   },
   {
    "duration": 145,
    "start_time": "2023-10-01T15:23:55.341Z"
   },
   {
    "duration": 21,
    "start_time": "2023-10-01T15:23:55.488Z"
   },
   {
    "duration": 8,
    "start_time": "2023-10-01T15:23:55.512Z"
   },
   {
    "duration": 21,
    "start_time": "2023-10-01T15:23:55.522Z"
   },
   {
    "duration": 25,
    "start_time": "2023-10-01T15:23:55.545Z"
   },
   {
    "duration": 13,
    "start_time": "2023-10-01T15:23:55.572Z"
   },
   {
    "duration": 20,
    "start_time": "2023-10-01T15:23:55.587Z"
   },
   {
    "duration": 49,
    "start_time": "2023-10-01T15:23:55.609Z"
   },
   {
    "duration": 39,
    "start_time": "2023-10-01T15:23:55.662Z"
   },
   {
    "duration": 20,
    "start_time": "2023-10-01T15:23:55.702Z"
   },
   {
    "duration": 51,
    "start_time": "2023-10-01T15:23:55.723Z"
   },
   {
    "duration": 13,
    "start_time": "2023-10-01T15:23:55.776Z"
   },
   {
    "duration": 28,
    "start_time": "2023-10-01T15:23:55.790Z"
   },
   {
    "duration": 30,
    "start_time": "2023-10-01T15:23:55.819Z"
   },
   {
    "duration": 13,
    "start_time": "2023-10-01T15:23:55.851Z"
   },
   {
    "duration": 40,
    "start_time": "2023-10-01T15:23:55.866Z"
   },
   {
    "duration": 57,
    "start_time": "2023-10-01T15:23:55.908Z"
   },
   {
    "duration": 33,
    "start_time": "2023-10-01T15:23:55.966Z"
   },
   {
    "duration": 60,
    "start_time": "2023-10-01T15:23:56.001Z"
   },
   {
    "duration": 9,
    "start_time": "2023-10-01T15:23:56.064Z"
   },
   {
    "duration": 147,
    "start_time": "2023-10-01T15:23:56.074Z"
   },
   {
    "duration": 45,
    "start_time": "2023-10-01T15:23:56.222Z"
   },
   {
    "duration": 8,
    "start_time": "2023-10-01T15:23:56.269Z"
   },
   {
    "duration": 17,
    "start_time": "2023-10-01T15:23:56.279Z"
   },
   {
    "duration": 66,
    "start_time": "2023-10-01T15:23:56.298Z"
   },
   {
    "duration": 31,
    "start_time": "2023-10-01T15:23:56.366Z"
   },
   {
    "duration": 221,
    "start_time": "2023-10-01T15:23:56.402Z"
   },
   {
    "duration": 21,
    "start_time": "2023-10-01T15:23:56.626Z"
   },
   {
    "duration": 19,
    "start_time": "2023-10-01T15:23:56.661Z"
   },
   {
    "duration": 23,
    "start_time": "2023-10-01T15:23:56.682Z"
   },
   {
    "duration": 16,
    "start_time": "2023-10-01T15:23:56.707Z"
   },
   {
    "duration": 40,
    "start_time": "2023-10-01T15:23:56.726Z"
   },
   {
    "duration": 430,
    "start_time": "2023-10-01T15:23:56.768Z"
   },
   {
    "duration": 25,
    "start_time": "2023-10-01T15:23:57.200Z"
   },
   {
    "duration": 38,
    "start_time": "2023-10-01T15:23:57.226Z"
   },
   {
    "duration": 33,
    "start_time": "2023-10-01T15:23:57.266Z"
   },
   {
    "duration": 16,
    "start_time": "2023-10-01T15:23:57.301Z"
   },
   {
    "duration": 505,
    "start_time": "2023-10-01T15:23:57.319Z"
   },
   {
    "duration": 36,
    "start_time": "2023-10-01T15:23:57.826Z"
   },
   {
    "duration": 20,
    "start_time": "2023-10-01T15:23:57.864Z"
   },
   {
    "duration": 16,
    "start_time": "2023-10-01T15:23:57.885Z"
   },
   {
    "duration": 457,
    "start_time": "2023-10-01T15:23:57.903Z"
   },
   {
    "duration": 21,
    "start_time": "2023-10-01T15:23:58.364Z"
   },
   {
    "duration": 193,
    "start_time": "2023-10-01T15:23:58.387Z"
   },
   {
    "duration": 46,
    "start_time": "2023-10-01T15:23:58.582Z"
   },
   {
    "duration": 25,
    "start_time": "2023-10-01T15:23:58.629Z"
   },
   {
    "duration": 66,
    "start_time": "2023-10-01T15:24:13.801Z"
   },
   {
    "duration": 141,
    "start_time": "2023-10-01T15:31:27.269Z"
   },
   {
    "duration": 1545,
    "start_time": "2023-10-01T15:31:47.895Z"
   },
   {
    "duration": 1963,
    "start_time": "2023-10-01T17:51:14.841Z"
   },
   {
    "duration": 285,
    "start_time": "2023-10-01T17:51:16.810Z"
   },
   {
    "duration": 23,
    "start_time": "2023-10-01T17:51:17.096Z"
   },
   {
    "duration": 8,
    "start_time": "2023-10-01T17:51:17.122Z"
   },
   {
    "duration": 38,
    "start_time": "2023-10-01T17:51:17.132Z"
   },
   {
    "duration": 18,
    "start_time": "2023-10-01T17:51:17.172Z"
   },
   {
    "duration": 40,
    "start_time": "2023-10-01T17:51:17.191Z"
   },
   {
    "duration": 15,
    "start_time": "2023-10-01T17:51:17.234Z"
   },
   {
    "duration": 24,
    "start_time": "2023-10-01T17:51:17.251Z"
   },
   {
    "duration": 60,
    "start_time": "2023-10-01T17:51:17.277Z"
   },
   {
    "duration": 18,
    "start_time": "2023-10-01T17:51:17.339Z"
   },
   {
    "duration": 29,
    "start_time": "2023-10-01T17:51:17.358Z"
   },
   {
    "duration": 35,
    "start_time": "2023-10-01T17:51:17.389Z"
   },
   {
    "duration": 21,
    "start_time": "2023-10-01T17:51:17.426Z"
   },
   {
    "duration": 11,
    "start_time": "2023-10-01T17:51:17.450Z"
   },
   {
    "duration": 13,
    "start_time": "2023-10-01T17:51:17.463Z"
   },
   {
    "duration": 42,
    "start_time": "2023-10-01T17:51:17.478Z"
   },
   {
    "duration": 15,
    "start_time": "2023-10-01T17:51:17.522Z"
   },
   {
    "duration": 20,
    "start_time": "2023-10-01T17:51:17.540Z"
   },
   {
    "duration": 16,
    "start_time": "2023-10-01T17:51:17.561Z"
   },
   {
    "duration": 10,
    "start_time": "2023-10-01T17:51:17.578Z"
   },
   {
    "duration": 135,
    "start_time": "2023-10-01T17:51:17.617Z"
   },
   {
    "duration": 29,
    "start_time": "2023-10-01T17:51:17.754Z"
   },
   {
    "duration": 9,
    "start_time": "2023-10-01T17:51:17.785Z"
   },
   {
    "duration": 17,
    "start_time": "2023-10-01T17:51:17.796Z"
   },
   {
    "duration": 39,
    "start_time": "2023-10-01T17:51:17.815Z"
   },
   {
    "duration": 46,
    "start_time": "2023-10-01T17:51:17.855Z"
   },
   {
    "duration": 221,
    "start_time": "2023-10-01T17:51:17.913Z"
   },
   {
    "duration": 9,
    "start_time": "2023-10-01T17:51:18.137Z"
   },
   {
    "duration": 18,
    "start_time": "2023-10-01T17:51:18.148Z"
   },
   {
    "duration": 23,
    "start_time": "2023-10-01T17:51:18.169Z"
   },
   {
    "duration": 42,
    "start_time": "2023-10-01T17:51:18.194Z"
   },
   {
    "duration": 16,
    "start_time": "2023-10-01T17:51:18.237Z"
   },
   {
    "duration": 443,
    "start_time": "2023-10-01T17:51:18.254Z"
   },
   {
    "duration": 40,
    "start_time": "2023-10-01T17:51:18.698Z"
   },
   {
    "duration": 16,
    "start_time": "2023-10-01T17:51:18.740Z"
   },
   {
    "duration": 28,
    "start_time": "2023-10-01T17:51:18.758Z"
   },
   {
    "duration": 49,
    "start_time": "2023-10-01T17:51:18.788Z"
   },
   {
    "duration": 512,
    "start_time": "2023-10-01T17:51:18.839Z"
   },
   {
    "duration": 19,
    "start_time": "2023-10-01T17:51:19.353Z"
   },
   {
    "duration": 18,
    "start_time": "2023-10-01T17:51:19.374Z"
   },
   {
    "duration": 36,
    "start_time": "2023-10-01T17:51:19.393Z"
   },
   {
    "duration": 428,
    "start_time": "2023-10-01T17:51:19.431Z"
   },
   {
    "duration": 20,
    "start_time": "2023-10-01T17:51:19.861Z"
   },
   {
    "duration": 207,
    "start_time": "2023-10-01T17:51:19.883Z"
   },
   {
    "duration": 67,
    "start_time": "2023-10-01T17:51:20.093Z"
   },
   {
    "duration": 6,
    "start_time": "2023-10-01T17:51:20.162Z"
   },
   {
    "duration": 6,
    "start_time": "2023-10-01T17:54:28.986Z"
   },
   {
    "duration": 20,
    "start_time": "2023-10-01T17:56:12.261Z"
   },
   {
    "duration": 23,
    "start_time": "2023-10-01T17:57:39.671Z"
   },
   {
    "duration": 13,
    "start_time": "2023-10-01T18:00:59.380Z"
   },
   {
    "duration": 24,
    "start_time": "2023-10-01T18:01:15.605Z"
   },
   {
    "duration": 868,
    "start_time": "2023-10-01T18:02:14.137Z"
   },
   {
    "duration": 892,
    "start_time": "2023-10-01T18:02:24.655Z"
   },
   {
    "duration": 33,
    "start_time": "2023-10-01T18:09:13.292Z"
   },
   {
    "duration": 12,
    "start_time": "2023-10-01T18:10:27.936Z"
   },
   {
    "duration": 25,
    "start_time": "2023-10-01T18:11:01.408Z"
   },
   {
    "duration": 7,
    "start_time": "2023-10-01T18:11:35.738Z"
   },
   {
    "duration": 14,
    "start_time": "2023-10-01T18:11:39.219Z"
   },
   {
    "duration": 55,
    "start_time": "2023-10-01T18:12:54.531Z"
   },
   {
    "duration": 17,
    "start_time": "2023-10-01T18:13:31.439Z"
   },
   {
    "duration": 1812,
    "start_time": "2023-10-01T18:14:44.433Z"
   },
   {
    "duration": 129,
    "start_time": "2023-10-01T18:14:46.247Z"
   },
   {
    "duration": 21,
    "start_time": "2023-10-01T18:14:46.377Z"
   },
   {
    "duration": 147,
    "start_time": "2023-10-01T18:14:46.400Z"
   },
   {
    "duration": 27,
    "start_time": "2023-10-01T18:14:46.550Z"
   },
   {
    "duration": 12,
    "start_time": "2023-10-01T18:14:46.579Z"
   },
   {
    "duration": 26,
    "start_time": "2023-10-01T18:14:46.593Z"
   },
   {
    "duration": 36,
    "start_time": "2023-10-01T18:14:46.622Z"
   },
   {
    "duration": 28,
    "start_time": "2023-10-01T18:14:46.662Z"
   },
   {
    "duration": 61,
    "start_time": "2023-10-01T18:14:46.693Z"
   },
   {
    "duration": 29,
    "start_time": "2023-10-01T18:14:46.756Z"
   },
   {
    "duration": 60,
    "start_time": "2023-10-01T18:14:46.787Z"
   },
   {
    "duration": 14,
    "start_time": "2023-10-01T18:14:46.850Z"
   },
   {
    "duration": 23,
    "start_time": "2023-10-01T18:14:46.867Z"
   },
   {
    "duration": 43,
    "start_time": "2023-10-01T18:14:46.892Z"
   },
   {
    "duration": 11,
    "start_time": "2023-10-01T18:14:46.939Z"
   },
   {
    "duration": 13,
    "start_time": "2023-10-01T18:14:46.952Z"
   },
   {
    "duration": 8,
    "start_time": "2023-10-01T18:14:46.967Z"
   },
   {
    "duration": 22,
    "start_time": "2023-10-01T18:14:46.977Z"
   },
   {
    "duration": 43,
    "start_time": "2023-10-01T18:14:47.001Z"
   },
   {
    "duration": 11,
    "start_time": "2023-10-01T18:14:47.046Z"
   },
   {
    "duration": 142,
    "start_time": "2023-10-01T18:14:47.059Z"
   },
   {
    "duration": 76,
    "start_time": "2023-10-01T18:14:47.203Z"
   },
   {
    "duration": 23,
    "start_time": "2023-10-01T18:14:47.281Z"
   },
   {
    "duration": 30,
    "start_time": "2023-10-01T18:14:47.306Z"
   },
   {
    "duration": 40,
    "start_time": "2023-10-01T18:14:47.346Z"
   },
   {
    "duration": 43,
    "start_time": "2023-10-01T18:14:47.388Z"
   },
   {
    "duration": 216,
    "start_time": "2023-10-01T18:14:47.433Z"
   },
   {
    "duration": 10,
    "start_time": "2023-10-01T18:14:47.651Z"
   },
   {
    "duration": 18,
    "start_time": "2023-10-01T18:14:47.663Z"
   },
   {
    "duration": 59,
    "start_time": "2023-10-01T18:14:47.683Z"
   },
   {
    "duration": 16,
    "start_time": "2023-10-01T18:14:47.744Z"
   },
   {
    "duration": 21,
    "start_time": "2023-10-01T18:14:47.763Z"
   },
   {
    "duration": 411,
    "start_time": "2023-10-01T18:14:47.786Z"
   },
   {
    "duration": 46,
    "start_time": "2023-10-01T18:14:48.199Z"
   },
   {
    "duration": 16,
    "start_time": "2023-10-01T18:14:48.247Z"
   },
   {
    "duration": 26,
    "start_time": "2023-10-01T18:14:48.265Z"
   },
   {
    "duration": 55,
    "start_time": "2023-10-01T18:14:48.292Z"
   },
   {
    "duration": 534,
    "start_time": "2023-10-01T18:14:48.349Z"
   },
   {
    "duration": 31,
    "start_time": "2023-10-01T18:14:48.885Z"
   },
   {
    "duration": 32,
    "start_time": "2023-10-01T18:14:48.921Z"
   },
   {
    "duration": 15,
    "start_time": "2023-10-01T18:14:48.955Z"
   },
   {
    "duration": 410,
    "start_time": "2023-10-01T18:14:48.972Z"
   },
   {
    "duration": 45,
    "start_time": "2023-10-01T18:14:49.384Z"
   },
   {
    "duration": 206,
    "start_time": "2023-10-01T18:14:49.434Z"
   },
   {
    "duration": 51,
    "start_time": "2023-10-01T18:14:49.642Z"
   },
   {
    "duration": 38,
    "start_time": "2023-10-01T18:14:49.695Z"
   },
   {
    "duration": 27,
    "start_time": "2023-10-01T18:14:49.737Z"
   },
   {
    "duration": 912,
    "start_time": "2023-10-01T18:14:49.766Z"
   },
   {
    "duration": 36,
    "start_time": "2023-10-01T18:16:27.228Z"
   },
   {
    "duration": 177,
    "start_time": "2023-10-01T18:16:58.985Z"
   },
   {
    "duration": 56,
    "start_time": "2023-10-01T18:17:23.293Z"
   },
   {
    "duration": 60,
    "start_time": "2023-10-01T18:17:34.468Z"
   },
   {
    "duration": 36,
    "start_time": "2023-10-01T18:18:01.434Z"
   },
   {
    "duration": 5,
    "start_time": "2023-10-01T18:18:24.784Z"
   },
   {
    "duration": 50,
    "start_time": "2023-10-01T18:21:39.302Z"
   },
   {
    "duration": 1827,
    "start_time": "2023-10-01T18:21:44.645Z"
   },
   {
    "duration": 125,
    "start_time": "2023-10-01T18:21:46.474Z"
   },
   {
    "duration": 35,
    "start_time": "2023-10-01T18:21:46.601Z"
   },
   {
    "duration": 32,
    "start_time": "2023-10-01T18:21:46.638Z"
   },
   {
    "duration": 26,
    "start_time": "2023-10-01T18:21:46.674Z"
   },
   {
    "duration": 40,
    "start_time": "2023-10-01T18:21:46.702Z"
   },
   {
    "duration": 26,
    "start_time": "2023-10-01T18:21:46.744Z"
   },
   {
    "duration": 65,
    "start_time": "2023-10-01T18:21:46.772Z"
   },
   {
    "duration": 37,
    "start_time": "2023-10-01T18:21:46.843Z"
   },
   {
    "duration": 31,
    "start_time": "2023-10-01T18:21:46.882Z"
   },
   {
    "duration": 49,
    "start_time": "2023-10-01T18:21:46.915Z"
   },
   {
    "duration": 14,
    "start_time": "2023-10-01T18:21:46.966Z"
   },
   {
    "duration": 35,
    "start_time": "2023-10-01T18:21:46.982Z"
   },
   {
    "duration": 14,
    "start_time": "2023-10-01T18:21:47.029Z"
   },
   {
    "duration": 39,
    "start_time": "2023-10-01T18:21:47.044Z"
   },
   {
    "duration": 61,
    "start_time": "2023-10-01T18:21:47.085Z"
   },
   {
    "duration": 30,
    "start_time": "2023-10-01T18:21:47.148Z"
   },
   {
    "duration": 20,
    "start_time": "2023-10-01T18:21:47.181Z"
   },
   {
    "duration": 50,
    "start_time": "2023-10-01T18:21:47.204Z"
   },
   {
    "duration": 20,
    "start_time": "2023-10-01T18:21:47.255Z"
   },
   {
    "duration": 133,
    "start_time": "2023-10-01T18:21:47.276Z"
   },
   {
    "duration": 43,
    "start_time": "2023-10-01T18:21:47.411Z"
   },
   {
    "duration": 7,
    "start_time": "2023-10-01T18:21:47.455Z"
   },
   {
    "duration": 8,
    "start_time": "2023-10-01T18:21:47.464Z"
   },
   {
    "duration": 79,
    "start_time": "2023-10-01T18:21:47.474Z"
   },
   {
    "duration": 30,
    "start_time": "2023-10-01T18:21:47.555Z"
   },
   {
    "duration": 213,
    "start_time": "2023-10-01T18:21:47.587Z"
   },
   {
    "duration": 10,
    "start_time": "2023-10-01T18:21:47.802Z"
   },
   {
    "duration": 35,
    "start_time": "2023-10-01T18:21:47.818Z"
   },
   {
    "duration": 28,
    "start_time": "2023-10-01T18:21:47.854Z"
   },
   {
    "duration": 15,
    "start_time": "2023-10-01T18:21:47.884Z"
   },
   {
    "duration": 43,
    "start_time": "2023-10-01T18:21:47.900Z"
   },
   {
    "duration": 436,
    "start_time": "2023-10-01T18:21:47.945Z"
   },
   {
    "duration": 32,
    "start_time": "2023-10-01T18:21:48.382Z"
   },
   {
    "duration": 53,
    "start_time": "2023-10-01T18:21:48.417Z"
   },
   {
    "duration": 89,
    "start_time": "2023-10-01T18:21:48.472Z"
   },
   {
    "duration": 66,
    "start_time": "2023-10-01T18:21:48.563Z"
   },
   {
    "duration": 608,
    "start_time": "2023-10-01T18:21:48.632Z"
   },
   {
    "duration": 21,
    "start_time": "2023-10-01T18:21:49.247Z"
   },
   {
    "duration": 64,
    "start_time": "2023-10-01T18:21:49.270Z"
   },
   {
    "duration": 22,
    "start_time": "2023-10-01T18:21:49.339Z"
   },
   {
    "duration": 440,
    "start_time": "2023-10-01T18:21:49.363Z"
   },
   {
    "duration": 41,
    "start_time": "2023-10-01T18:21:49.805Z"
   },
   {
    "duration": 210,
    "start_time": "2023-10-01T18:21:49.848Z"
   },
   {
    "duration": 68,
    "start_time": "2023-10-01T18:21:50.060Z"
   },
   {
    "duration": 8,
    "start_time": "2023-10-01T18:21:50.130Z"
   },
   {
    "duration": 31,
    "start_time": "2023-10-01T18:21:50.140Z"
   },
   {
    "duration": 922,
    "start_time": "2023-10-01T18:21:50.173Z"
   },
   {
    "duration": 4,
    "start_time": "2023-10-01T18:22:46.852Z"
   },
   {
    "duration": 3432,
    "start_time": "2023-10-01T18:23:15.159Z"
   },
   {
    "duration": 182,
    "start_time": "2023-10-01T18:24:40.566Z"
   },
   {
    "duration": 3212,
    "start_time": "2023-10-01T18:24:48.022Z"
   },
   {
    "duration": 3195,
    "start_time": "2023-10-01T18:25:15.989Z"
   },
   {
    "duration": 89,
    "start_time": "2023-10-01T18:44:53.832Z"
   },
   {
    "duration": 5,
    "start_time": "2023-10-01T18:45:42.292Z"
   },
   {
    "duration": 2434,
    "start_time": "2023-10-01T18:46:06.120Z"
   },
   {
    "duration": 2542,
    "start_time": "2023-10-01T18:46:31.529Z"
   },
   {
    "duration": 18,
    "start_time": "2023-10-01T18:49:11.691Z"
   },
   {
    "duration": 2282,
    "start_time": "2023-10-01T18:55:56.392Z"
   },
   {
    "duration": 18,
    "start_time": "2023-10-01T18:56:11.385Z"
   },
   {
    "duration": 2287,
    "start_time": "2023-10-01T18:57:05.442Z"
   },
   {
    "duration": 19,
    "start_time": "2023-10-01T19:00:57.849Z"
   },
   {
    "duration": 18,
    "start_time": "2023-10-01T19:01:17.563Z"
   },
   {
    "duration": 5,
    "start_time": "2023-10-01T19:03:36.364Z"
   },
   {
    "duration": 4,
    "start_time": "2023-10-01T19:07:36.381Z"
   },
   {
    "duration": 16,
    "start_time": "2023-10-01T19:07:44.381Z"
   },
   {
    "duration": 14,
    "start_time": "2023-10-01T19:12:01.813Z"
   },
   {
    "duration": 10,
    "start_time": "2023-10-01T19:12:22.181Z"
   },
   {
    "duration": 6,
    "start_time": "2023-10-01T19:15:29.220Z"
   },
   {
    "duration": 20,
    "start_time": "2023-10-01T19:15:37.816Z"
   },
   {
    "duration": 14,
    "start_time": "2023-10-01T19:15:50.831Z"
   },
   {
    "duration": 9,
    "start_time": "2023-10-01T19:16:04.466Z"
   },
   {
    "duration": 5,
    "start_time": "2023-10-01T19:16:24.930Z"
   },
   {
    "duration": 1658,
    "start_time": "2023-10-01T19:16:30.268Z"
   },
   {
    "duration": 132,
    "start_time": "2023-10-01T19:16:31.928Z"
   },
   {
    "duration": 19,
    "start_time": "2023-10-01T19:16:32.062Z"
   },
   {
    "duration": 62,
    "start_time": "2023-10-01T19:16:32.083Z"
   },
   {
    "duration": 21,
    "start_time": "2023-10-01T19:16:32.147Z"
   },
   {
    "duration": 28,
    "start_time": "2023-10-01T19:16:32.169Z"
   },
   {
    "duration": 34,
    "start_time": "2023-10-01T19:16:32.199Z"
   },
   {
    "duration": 50,
    "start_time": "2023-10-01T19:16:32.236Z"
   },
   {
    "duration": 40,
    "start_time": "2023-10-01T19:16:32.289Z"
   },
   {
    "duration": 21,
    "start_time": "2023-10-01T19:16:32.333Z"
   },
   {
    "duration": 54,
    "start_time": "2023-10-01T19:16:32.356Z"
   },
   {
    "duration": 17,
    "start_time": "2023-10-01T19:16:32.412Z"
   },
   {
    "duration": 26,
    "start_time": "2023-10-01T19:16:32.431Z"
   },
   {
    "duration": 39,
    "start_time": "2023-10-01T19:16:32.459Z"
   },
   {
    "duration": 43,
    "start_time": "2023-10-01T19:16:32.500Z"
   },
   {
    "duration": 60,
    "start_time": "2023-10-01T19:16:32.546Z"
   },
   {
    "duration": 25,
    "start_time": "2023-10-01T19:16:32.608Z"
   },
   {
    "duration": 45,
    "start_time": "2023-10-01T19:16:32.635Z"
   },
   {
    "duration": 54,
    "start_time": "2023-10-01T19:16:32.683Z"
   },
   {
    "duration": 9,
    "start_time": "2023-10-01T19:16:32.739Z"
   },
   {
    "duration": 129,
    "start_time": "2023-10-01T19:16:32.750Z"
   },
   {
    "duration": 37,
    "start_time": "2023-10-01T19:16:32.882Z"
   },
   {
    "duration": 15,
    "start_time": "2023-10-01T19:16:32.921Z"
   },
   {
    "duration": 15,
    "start_time": "2023-10-01T19:16:32.938Z"
   },
   {
    "duration": 43,
    "start_time": "2023-10-01T19:16:32.955Z"
   },
   {
    "duration": 33,
    "start_time": "2023-10-01T19:16:33.008Z"
   },
   {
    "duration": 192,
    "start_time": "2023-10-01T19:16:33.043Z"
   },
   {
    "duration": 10,
    "start_time": "2023-10-01T19:16:33.240Z"
   },
   {
    "duration": 19,
    "start_time": "2023-10-01T19:16:33.252Z"
   },
   {
    "duration": 50,
    "start_time": "2023-10-01T19:16:33.273Z"
   },
   {
    "duration": 15,
    "start_time": "2023-10-01T19:16:33.325Z"
   },
   {
    "duration": 15,
    "start_time": "2023-10-01T19:16:33.342Z"
   },
   {
    "duration": 393,
    "start_time": "2023-10-01T19:16:33.359Z"
   },
   {
    "duration": 25,
    "start_time": "2023-10-01T19:16:33.754Z"
   },
   {
    "duration": 38,
    "start_time": "2023-10-01T19:16:33.780Z"
   },
   {
    "duration": 27,
    "start_time": "2023-10-01T19:16:33.819Z"
   },
   {
    "duration": 16,
    "start_time": "2023-10-01T19:16:33.848Z"
   },
   {
    "duration": 478,
    "start_time": "2023-10-01T19:16:33.865Z"
   },
   {
    "duration": 17,
    "start_time": "2023-10-01T19:16:34.345Z"
   },
   {
    "duration": 18,
    "start_time": "2023-10-01T19:16:34.364Z"
   },
   {
    "duration": 36,
    "start_time": "2023-10-01T19:16:34.383Z"
   },
   {
    "duration": 438,
    "start_time": "2023-10-01T19:16:34.421Z"
   },
   {
    "duration": 22,
    "start_time": "2023-10-01T19:16:34.861Z"
   },
   {
    "duration": 186,
    "start_time": "2023-10-01T19:16:34.884Z"
   },
   {
    "duration": 67,
    "start_time": "2023-10-01T19:16:35.072Z"
   },
   {
    "duration": 6,
    "start_time": "2023-10-01T19:16:35.141Z"
   },
   {
    "duration": 28,
    "start_time": "2023-10-01T19:16:35.149Z"
   },
   {
    "duration": 855,
    "start_time": "2023-10-01T19:16:35.179Z"
   },
   {
    "duration": 2403,
    "start_time": "2023-10-01T19:16:36.036Z"
   },
   {
    "duration": 19,
    "start_time": "2023-10-01T19:16:38.440Z"
   },
   {
    "duration": 11,
    "start_time": "2023-10-01T19:16:38.461Z"
   },
   {
    "duration": 67,
    "start_time": "2023-10-01T19:16:38.474Z"
   },
   {
    "duration": 0,
    "start_time": "2023-10-01T19:16:38.543Z"
   },
   {
    "duration": 0,
    "start_time": "2023-10-01T19:16:38.544Z"
   },
   {
    "duration": 6,
    "start_time": "2023-10-01T19:16:54.055Z"
   },
   {
    "duration": 15,
    "start_time": "2023-10-01T19:17:00.916Z"
   },
   {
    "duration": 15,
    "start_time": "2023-10-01T19:17:10.725Z"
   },
   {
    "duration": 6,
    "start_time": "2023-10-01T19:17:36.105Z"
   },
   {
    "duration": 2439,
    "start_time": "2023-10-09T20:04:15.801Z"
   },
   {
    "duration": 411,
    "start_time": "2023-10-09T20:04:18.244Z"
   },
   {
    "duration": 23,
    "start_time": "2023-10-09T20:04:18.657Z"
   },
   {
    "duration": 29,
    "start_time": "2023-10-09T20:04:18.682Z"
   },
   {
    "duration": 22,
    "start_time": "2023-10-09T20:04:18.714Z"
   },
   {
    "duration": 19,
    "start_time": "2023-10-09T20:04:18.738Z"
   },
   {
    "duration": 35,
    "start_time": "2023-10-09T20:04:18.758Z"
   },
   {
    "duration": 23,
    "start_time": "2023-10-09T20:04:18.795Z"
   },
   {
    "duration": 69,
    "start_time": "2023-10-09T20:04:18.819Z"
   },
   {
    "duration": 26,
    "start_time": "2023-10-09T20:04:18.891Z"
   },
   {
    "duration": 54,
    "start_time": "2023-10-09T20:04:18.919Z"
   },
   {
    "duration": 23,
    "start_time": "2023-10-09T20:04:18.975Z"
   },
   {
    "duration": 16,
    "start_time": "2023-10-09T20:04:19.000Z"
   },
   {
    "duration": 24,
    "start_time": "2023-10-09T20:04:19.032Z"
   },
   {
    "duration": 13,
    "start_time": "2023-10-09T20:04:19.060Z"
   },
   {
    "duration": 17,
    "start_time": "2023-10-09T20:04:19.080Z"
   },
   {
    "duration": 6,
    "start_time": "2023-10-09T20:04:19.099Z"
   },
   {
    "duration": 29,
    "start_time": "2023-10-09T20:04:19.107Z"
   },
   {
    "duration": 25,
    "start_time": "2023-10-09T20:04:19.143Z"
   },
   {
    "duration": 22,
    "start_time": "2023-10-09T20:04:19.170Z"
   },
   {
    "duration": 171,
    "start_time": "2023-10-09T20:04:19.195Z"
   },
   {
    "duration": 45,
    "start_time": "2023-10-09T20:04:19.368Z"
   },
   {
    "duration": 18,
    "start_time": "2023-10-09T20:04:19.415Z"
   },
   {
    "duration": 13,
    "start_time": "2023-10-09T20:04:19.435Z"
   },
   {
    "duration": 64,
    "start_time": "2023-10-09T20:04:19.450Z"
   },
   {
    "duration": 47,
    "start_time": "2023-10-09T20:04:19.515Z"
   },
   {
    "duration": 241,
    "start_time": "2023-10-09T20:04:19.564Z"
   },
   {
    "duration": 11,
    "start_time": "2023-10-09T20:04:19.807Z"
   },
   {
    "duration": 31,
    "start_time": "2023-10-09T20:04:19.823Z"
   },
   {
    "duration": 34,
    "start_time": "2023-10-09T20:04:19.857Z"
   },
   {
    "duration": 43,
    "start_time": "2023-10-09T20:04:19.893Z"
   },
   {
    "duration": 23,
    "start_time": "2023-10-09T20:04:19.938Z"
   },
   {
    "duration": 583,
    "start_time": "2023-10-09T20:04:19.963Z"
   },
   {
    "duration": 52,
    "start_time": "2023-10-09T20:04:20.548Z"
   },
   {
    "duration": 196,
    "start_time": "2023-10-09T20:04:20.602Z"
   },
   {
    "duration": 231,
    "start_time": "2023-10-09T20:04:20.801Z"
   },
   {
    "duration": 28,
    "start_time": "2023-10-09T20:04:21.034Z"
   },
   {
    "duration": 624,
    "start_time": "2023-10-09T20:04:21.064Z"
   },
   {
    "duration": 27,
    "start_time": "2023-10-09T20:04:21.692Z"
   },
   {
    "duration": 68,
    "start_time": "2023-10-09T20:04:21.721Z"
   },
   {
    "duration": 18,
    "start_time": "2023-10-09T20:04:21.795Z"
   },
   {
    "duration": 486,
    "start_time": "2023-10-09T20:04:21.815Z"
   },
   {
    "duration": 29,
    "start_time": "2023-10-09T20:04:22.304Z"
   },
   {
    "duration": 263,
    "start_time": "2023-10-09T20:04:22.335Z"
   },
   {
    "duration": 86,
    "start_time": "2023-10-09T20:04:22.599Z"
   },
   {
    "duration": 8,
    "start_time": "2023-10-09T20:04:22.687Z"
   },
   {
    "duration": 1065,
    "start_time": "2023-10-09T20:04:22.699Z"
   },
   {
    "duration": 3008,
    "start_time": "2023-10-09T20:04:23.766Z"
   },
   {
    "duration": 24,
    "start_time": "2023-10-09T20:04:26.780Z"
   },
   {
    "duration": 75,
    "start_time": "2023-10-09T20:04:26.806Z"
   },
   {
    "duration": 68,
    "start_time": "2023-10-09T20:04:26.886Z"
   },
   {
    "duration": 144,
    "start_time": "2023-10-09T20:04:26.956Z"
   },
   {
    "duration": 0,
    "start_time": "2023-10-09T20:04:27.102Z"
   },
   {
    "duration": 0,
    "start_time": "2023-10-09T20:04:27.104Z"
   },
   {
    "duration": 6,
    "start_time": "2023-10-09T20:04:32.886Z"
   },
   {
    "duration": 176,
    "start_time": "2023-10-09T20:04:33.598Z"
   },
   {
    "duration": 26,
    "start_time": "2023-10-09T20:10:08.940Z"
   },
   {
    "duration": 8,
    "start_time": "2023-10-09T20:14:29.907Z"
   },
   {
    "duration": 29,
    "start_time": "2023-10-09T20:14:36.987Z"
   },
   {
    "duration": 14,
    "start_time": "2023-10-09T20:14:50.887Z"
   },
   {
    "duration": 176,
    "start_time": "2023-10-09T20:15:48.402Z"
   },
   {
    "duration": 1894,
    "start_time": "2023-10-09T20:16:25.988Z"
   },
   {
    "duration": 129,
    "start_time": "2023-10-09T20:16:27.884Z"
   },
   {
    "duration": 22,
    "start_time": "2023-10-09T20:16:28.015Z"
   },
   {
    "duration": 28,
    "start_time": "2023-10-09T20:16:28.039Z"
   },
   {
    "duration": 12,
    "start_time": "2023-10-09T20:16:28.070Z"
   },
   {
    "duration": 20,
    "start_time": "2023-10-09T20:16:28.083Z"
   },
   {
    "duration": 48,
    "start_time": "2023-10-09T20:16:28.104Z"
   },
   {
    "duration": 37,
    "start_time": "2023-10-09T20:16:28.154Z"
   },
   {
    "duration": 44,
    "start_time": "2023-10-09T20:16:28.193Z"
   },
   {
    "duration": 27,
    "start_time": "2023-10-09T20:16:28.239Z"
   },
   {
    "duration": 35,
    "start_time": "2023-10-09T20:16:28.268Z"
   },
   {
    "duration": 27,
    "start_time": "2023-10-09T20:16:28.305Z"
   },
   {
    "duration": 47,
    "start_time": "2023-10-09T20:16:28.334Z"
   },
   {
    "duration": 12,
    "start_time": "2023-10-09T20:16:28.385Z"
   },
   {
    "duration": 41,
    "start_time": "2023-10-09T20:16:28.399Z"
   },
   {
    "duration": 16,
    "start_time": "2023-10-09T20:16:28.442Z"
   },
   {
    "duration": 38,
    "start_time": "2023-10-09T20:16:28.460Z"
   },
   {
    "duration": 49,
    "start_time": "2023-10-09T20:16:28.500Z"
   },
   {
    "duration": 26,
    "start_time": "2023-10-09T20:16:28.552Z"
   },
   {
    "duration": 7,
    "start_time": "2023-10-09T20:16:28.580Z"
   },
   {
    "duration": 174,
    "start_time": "2023-10-09T20:16:28.588Z"
   },
   {
    "duration": 32,
    "start_time": "2023-10-09T20:16:28.769Z"
   },
   {
    "duration": 6,
    "start_time": "2023-10-09T20:16:28.802Z"
   },
   {
    "duration": 9,
    "start_time": "2023-10-09T20:16:28.810Z"
   },
   {
    "duration": 62,
    "start_time": "2023-10-09T20:16:28.833Z"
   },
   {
    "duration": 48,
    "start_time": "2023-10-09T20:16:28.897Z"
   },
   {
    "duration": 204,
    "start_time": "2023-10-09T20:16:28.952Z"
   },
   {
    "duration": 17,
    "start_time": "2023-10-09T20:16:29.158Z"
   },
   {
    "duration": 24,
    "start_time": "2023-10-09T20:16:29.177Z"
   },
   {
    "duration": 33,
    "start_time": "2023-10-09T20:16:29.203Z"
   },
   {
    "duration": 18,
    "start_time": "2023-10-09T20:16:29.239Z"
   },
   {
    "duration": 83,
    "start_time": "2023-10-09T20:16:29.259Z"
   },
   {
    "duration": 539,
    "start_time": "2023-10-09T20:16:29.344Z"
   },
   {
    "duration": 25,
    "start_time": "2023-10-09T20:16:29.885Z"
   },
   {
    "duration": 81,
    "start_time": "2023-10-09T20:16:29.912Z"
   },
   {
    "duration": 111,
    "start_time": "2023-10-09T20:16:29.995Z"
   },
   {
    "duration": 233,
    "start_time": "2023-10-09T20:16:30.108Z"
   },
   {
    "duration": 701,
    "start_time": "2023-10-09T20:16:30.343Z"
   },
   {
    "duration": 31,
    "start_time": "2023-10-09T20:16:31.054Z"
   },
   {
    "duration": 95,
    "start_time": "2023-10-09T20:16:31.087Z"
   },
   {
    "duration": 61,
    "start_time": "2023-10-09T20:16:31.187Z"
   },
   {
    "duration": 466,
    "start_time": "2023-10-09T20:16:31.250Z"
   },
   {
    "duration": 39,
    "start_time": "2023-10-09T20:16:31.717Z"
   },
   {
    "duration": 216,
    "start_time": "2023-10-09T20:16:31.758Z"
   },
   {
    "duration": 63,
    "start_time": "2023-10-09T20:16:31.976Z"
   },
   {
    "duration": 12,
    "start_time": "2023-10-09T20:16:32.041Z"
   },
   {
    "duration": 1095,
    "start_time": "2023-10-09T20:16:32.055Z"
   },
   {
    "duration": 2787,
    "start_time": "2023-10-09T20:16:33.152Z"
   },
   {
    "duration": 30,
    "start_time": "2023-10-09T20:16:35.941Z"
   },
   {
    "duration": 69,
    "start_time": "2023-10-09T20:16:35.973Z"
   },
   {
    "duration": 69,
    "start_time": "2023-10-09T20:16:36.044Z"
   },
   {
    "duration": 30,
    "start_time": "2023-10-09T20:16:36.115Z"
   },
   {
    "duration": 21,
    "start_time": "2023-10-09T20:16:36.156Z"
   },
   {
    "duration": 17,
    "start_time": "2023-10-09T20:16:36.180Z"
   },
   {
    "duration": 27,
    "start_time": "2023-10-09T20:18:57.212Z"
   },
   {
    "duration": 16,
    "start_time": "2023-10-09T20:19:03.084Z"
   },
   {
    "duration": 26,
    "start_time": "2023-10-09T20:19:09.120Z"
   },
   {
    "duration": 16,
    "start_time": "2023-10-09T20:19:36.262Z"
   },
   {
    "duration": 22,
    "start_time": "2023-10-09T20:27:04.000Z"
   },
   {
    "duration": 778,
    "start_time": "2023-10-09T20:28:42.906Z"
   },
   {
    "duration": 808,
    "start_time": "2023-10-09T20:28:50.023Z"
   },
   {
    "duration": 85,
    "start_time": "2023-10-09T20:30:43.899Z"
   },
   {
    "duration": 4,
    "start_time": "2023-10-09T20:30:49.288Z"
   },
   {
    "duration": 16,
    "start_time": "2023-10-09T20:30:55.720Z"
   },
   {
    "duration": 28,
    "start_time": "2023-10-09T20:31:35.825Z"
   },
   {
    "duration": 4,
    "start_time": "2023-10-09T20:32:42.303Z"
   },
   {
    "duration": 10,
    "start_time": "2023-10-09T20:32:48.880Z"
   },
   {
    "duration": 333,
    "start_time": "2023-10-09T20:32:56.442Z"
   },
   {
    "duration": 1644,
    "start_time": "2023-10-09T20:33:27.513Z"
   },
   {
    "duration": 111,
    "start_time": "2023-10-09T20:33:29.160Z"
   },
   {
    "duration": 24,
    "start_time": "2023-10-09T20:33:29.273Z"
   },
   {
    "duration": 27,
    "start_time": "2023-10-09T20:33:29.299Z"
   },
   {
    "duration": 15,
    "start_time": "2023-10-09T20:33:29.333Z"
   },
   {
    "duration": 13,
    "start_time": "2023-10-09T20:33:29.350Z"
   },
   {
    "duration": 15,
    "start_time": "2023-10-09T20:33:29.364Z"
   },
   {
    "duration": 22,
    "start_time": "2023-10-09T20:33:29.381Z"
   },
   {
    "duration": 58,
    "start_time": "2023-10-09T20:33:29.405Z"
   },
   {
    "duration": 18,
    "start_time": "2023-10-09T20:33:29.465Z"
   },
   {
    "duration": 51,
    "start_time": "2023-10-09T20:33:29.485Z"
   },
   {
    "duration": 16,
    "start_time": "2023-10-09T20:33:29.539Z"
   },
   {
    "duration": 20,
    "start_time": "2023-10-09T20:33:29.557Z"
   },
   {
    "duration": 15,
    "start_time": "2023-10-09T20:33:29.581Z"
   },
   {
    "duration": 34,
    "start_time": "2023-10-09T20:33:29.598Z"
   },
   {
    "duration": 18,
    "start_time": "2023-10-09T20:33:29.642Z"
   },
   {
    "duration": 12,
    "start_time": "2023-10-09T20:33:29.662Z"
   },
   {
    "duration": 12,
    "start_time": "2023-10-09T20:33:29.676Z"
   },
   {
    "duration": 21,
    "start_time": "2023-10-09T20:33:29.690Z"
   },
   {
    "duration": 30,
    "start_time": "2023-10-09T20:33:29.712Z"
   },
   {
    "duration": 119,
    "start_time": "2023-10-09T20:33:29.744Z"
   },
   {
    "duration": 28,
    "start_time": "2023-10-09T20:33:29.865Z"
   },
   {
    "duration": 10,
    "start_time": "2023-10-09T20:33:29.895Z"
   },
   {
    "duration": 21,
    "start_time": "2023-10-09T20:33:29.923Z"
   },
   {
    "duration": 40,
    "start_time": "2023-10-09T20:33:29.948Z"
   },
   {
    "duration": 30,
    "start_time": "2023-10-09T20:33:29.990Z"
   },
   {
    "duration": 189,
    "start_time": "2023-10-09T20:33:30.028Z"
   },
   {
    "duration": 12,
    "start_time": "2023-10-09T20:33:30.219Z"
   },
   {
    "duration": 53,
    "start_time": "2023-10-09T20:33:30.235Z"
   },
   {
    "duration": 92,
    "start_time": "2023-10-09T20:33:30.290Z"
   },
   {
    "duration": 91,
    "start_time": "2023-10-09T20:33:30.384Z"
   },
   {
    "duration": 41,
    "start_time": "2023-10-09T20:33:30.477Z"
   },
   {
    "duration": 454,
    "start_time": "2023-10-09T20:33:30.520Z"
   },
   {
    "duration": 21,
    "start_time": "2023-10-09T20:33:30.976Z"
   },
   {
    "duration": 97,
    "start_time": "2023-10-09T20:33:30.999Z"
   },
   {
    "duration": 93,
    "start_time": "2023-10-09T20:33:31.098Z"
   },
   {
    "duration": 71,
    "start_time": "2023-10-09T20:33:31.193Z"
   },
   {
    "duration": 573,
    "start_time": "2023-10-09T20:33:31.266Z"
   },
   {
    "duration": 23,
    "start_time": "2023-10-09T20:33:31.841Z"
   },
   {
    "duration": 44,
    "start_time": "2023-10-09T20:33:31.866Z"
   },
   {
    "duration": 23,
    "start_time": "2023-10-09T20:33:31.915Z"
   },
   {
    "duration": 459,
    "start_time": "2023-10-09T20:33:31.940Z"
   },
   {
    "duration": 30,
    "start_time": "2023-10-09T20:33:32.401Z"
   },
   {
    "duration": 184,
    "start_time": "2023-10-09T20:33:32.436Z"
   },
   {
    "duration": 60,
    "start_time": "2023-10-09T20:33:32.621Z"
   },
   {
    "duration": 6,
    "start_time": "2023-10-09T20:33:32.683Z"
   },
   {
    "duration": 861,
    "start_time": "2023-10-09T20:33:32.691Z"
   },
   {
    "duration": 2295,
    "start_time": "2023-10-09T20:33:33.554Z"
   },
   {
    "duration": 23,
    "start_time": "2023-10-09T20:33:35.851Z"
   },
   {
    "duration": 13,
    "start_time": "2023-10-09T20:33:35.877Z"
   },
   {
    "duration": 36,
    "start_time": "2023-10-09T20:33:35.892Z"
   },
   {
    "duration": 14,
    "start_time": "2023-10-09T20:33:35.932Z"
   },
   {
    "duration": 18,
    "start_time": "2023-10-09T20:33:35.948Z"
   },
   {
    "duration": 21,
    "start_time": "2023-10-09T20:33:35.969Z"
   },
   {
    "duration": 7,
    "start_time": "2023-10-09T20:33:35.992Z"
   },
   {
    "duration": 808,
    "start_time": "2023-10-09T20:35:04.512Z"
   },
   {
    "duration": 54,
    "start_time": "2023-10-09T20:39:21.791Z"
   },
   {
    "duration": 58,
    "start_time": "2023-10-09T20:39:30.499Z"
   },
   {
    "duration": 51,
    "start_time": "2023-10-09T20:40:05.520Z"
   },
   {
    "duration": 65,
    "start_time": "2023-10-09T20:41:37.996Z"
   },
   {
    "duration": 43,
    "start_time": "2023-10-09T20:41:50.166Z"
   },
   {
    "duration": 69,
    "start_time": "2023-10-09T20:42:06.912Z"
   },
   {
    "duration": 5,
    "start_time": "2023-10-09T20:43:13.978Z"
   },
   {
    "duration": 12,
    "start_time": "2023-10-09T20:43:27.077Z"
   },
   {
    "duration": 184,
    "start_time": "2023-10-09T20:45:07.925Z"
   },
   {
    "duration": 18,
    "start_time": "2023-10-09T20:47:33.009Z"
   },
   {
    "duration": 19,
    "start_time": "2023-10-09T20:47:47.282Z"
   },
   {
    "duration": 856,
    "start_time": "2023-10-09T20:48:40.873Z"
   },
   {
    "duration": 820,
    "start_time": "2023-10-09T20:48:49.399Z"
   },
   {
    "duration": 1735,
    "start_time": "2023-10-09T20:48:54.867Z"
   },
   {
    "duration": 141,
    "start_time": "2023-10-09T20:48:56.604Z"
   },
   {
    "duration": 27,
    "start_time": "2023-10-09T20:48:56.747Z"
   },
   {
    "duration": 31,
    "start_time": "2023-10-09T20:48:56.776Z"
   },
   {
    "duration": 26,
    "start_time": "2023-10-09T20:48:56.810Z"
   },
   {
    "duration": 14,
    "start_time": "2023-10-09T20:48:56.843Z"
   },
   {
    "duration": 14,
    "start_time": "2023-10-09T20:48:56.858Z"
   },
   {
    "duration": 28,
    "start_time": "2023-10-09T20:48:56.874Z"
   },
   {
    "duration": 62,
    "start_time": "2023-10-09T20:48:56.904Z"
   },
   {
    "duration": 19,
    "start_time": "2023-10-09T20:48:56.967Z"
   },
   {
    "duration": 66,
    "start_time": "2023-10-09T20:48:56.988Z"
   },
   {
    "duration": 18,
    "start_time": "2023-10-09T20:48:57.056Z"
   },
   {
    "duration": 22,
    "start_time": "2023-10-09T20:48:57.076Z"
   },
   {
    "duration": 15,
    "start_time": "2023-10-09T20:48:57.128Z"
   },
   {
    "duration": 10,
    "start_time": "2023-10-09T20:48:57.147Z"
   },
   {
    "duration": 14,
    "start_time": "2023-10-09T20:48:57.159Z"
   },
   {
    "duration": 6,
    "start_time": "2023-10-09T20:48:57.175Z"
   },
   {
    "duration": 12,
    "start_time": "2023-10-09T20:48:57.183Z"
   },
   {
    "duration": 23,
    "start_time": "2023-10-09T20:48:57.226Z"
   },
   {
    "duration": 10,
    "start_time": "2023-10-09T20:48:57.251Z"
   },
   {
    "duration": 133,
    "start_time": "2023-10-09T20:48:57.263Z"
   },
   {
    "duration": 43,
    "start_time": "2023-10-09T20:48:57.397Z"
   },
   {
    "duration": 6,
    "start_time": "2023-10-09T20:48:57.443Z"
   },
   {
    "duration": 20,
    "start_time": "2023-10-09T20:48:57.453Z"
   },
   {
    "duration": 56,
    "start_time": "2023-10-09T20:48:57.475Z"
   },
   {
    "duration": 35,
    "start_time": "2023-10-09T20:48:57.532Z"
   },
   {
    "duration": 202,
    "start_time": "2023-10-09T20:48:57.569Z"
   },
   {
    "duration": 9,
    "start_time": "2023-10-09T20:48:57.773Z"
   },
   {
    "duration": 18,
    "start_time": "2023-10-09T20:48:57.784Z"
   },
   {
    "duration": 53,
    "start_time": "2023-10-09T20:48:57.803Z"
   },
   {
    "duration": 15,
    "start_time": "2023-10-09T20:48:57.858Z"
   },
   {
    "duration": 16,
    "start_time": "2023-10-09T20:48:57.875Z"
   },
   {
    "duration": 451,
    "start_time": "2023-10-09T20:48:57.893Z"
   },
   {
    "duration": 24,
    "start_time": "2023-10-09T20:48:58.346Z"
   },
   {
    "duration": 13,
    "start_time": "2023-10-09T20:48:58.372Z"
   },
   {
    "duration": 49,
    "start_time": "2023-10-09T20:48:58.387Z"
   },
   {
    "duration": 21,
    "start_time": "2023-10-09T20:48:58.441Z"
   },
   {
    "duration": 531,
    "start_time": "2023-10-09T20:48:58.463Z"
   },
   {
    "duration": 31,
    "start_time": "2023-10-09T20:48:58.996Z"
   },
   {
    "duration": 136,
    "start_time": "2023-10-09T20:48:59.029Z"
   },
   {
    "duration": 16,
    "start_time": "2023-10-09T20:48:59.170Z"
   },
   {
    "duration": 578,
    "start_time": "2023-10-09T20:48:59.188Z"
   },
   {
    "duration": 23,
    "start_time": "2023-10-09T20:48:59.767Z"
   },
   {
    "duration": 212,
    "start_time": "2023-10-09T20:48:59.792Z"
   },
   {
    "duration": 76,
    "start_time": "2023-10-09T20:49:00.006Z"
   },
   {
    "duration": 93,
    "start_time": "2023-10-09T20:49:00.084Z"
   },
   {
    "duration": 1062,
    "start_time": "2023-10-09T20:49:00.179Z"
   },
   {
    "duration": 2474,
    "start_time": "2023-10-09T20:49:01.243Z"
   },
   {
    "duration": 23,
    "start_time": "2023-10-09T20:49:03.719Z"
   },
   {
    "duration": 19,
    "start_time": "2023-10-09T20:49:03.744Z"
   },
   {
    "duration": 18,
    "start_time": "2023-10-09T20:49:03.765Z"
   },
   {
    "duration": 16,
    "start_time": "2023-10-09T20:49:03.785Z"
   },
   {
    "duration": 38,
    "start_time": "2023-10-09T20:49:03.803Z"
   },
   {
    "duration": 7,
    "start_time": "2023-10-09T20:49:03.844Z"
   },
   {
    "duration": 9,
    "start_time": "2023-10-09T20:49:03.853Z"
   },
   {
    "duration": 18,
    "start_time": "2023-10-09T20:49:10.404Z"
   },
   {
    "duration": 24,
    "start_time": "2023-10-09T20:50:28.904Z"
   },
   {
    "duration": 9,
    "start_time": "2023-10-09T20:51:18.541Z"
   },
   {
    "duration": 18,
    "start_time": "2023-10-09T20:51:41.058Z"
   },
   {
    "duration": 26,
    "start_time": "2023-10-09T20:51:54.756Z"
   },
   {
    "duration": 13,
    "start_time": "2023-10-09T20:52:17.368Z"
   },
   {
    "duration": 27,
    "start_time": "2023-10-09T20:53:47.691Z"
   },
   {
    "duration": 15,
    "start_time": "2023-10-09T20:53:55.774Z"
   },
   {
    "duration": 6,
    "start_time": "2023-10-09T20:54:32.644Z"
   },
   {
    "duration": 20,
    "start_time": "2023-10-09T20:55:07.179Z"
   },
   {
    "duration": 21,
    "start_time": "2023-10-09T20:55:25.215Z"
   },
   {
    "duration": 14,
    "start_time": "2023-10-09T20:55:41.942Z"
   },
   {
    "duration": 21,
    "start_time": "2023-10-09T20:57:40.373Z"
   },
   {
    "duration": 13,
    "start_time": "2023-10-09T20:57:54.608Z"
   },
   {
    "duration": 12,
    "start_time": "2023-10-09T21:31:16.907Z"
   },
   {
    "duration": 13,
    "start_time": "2023-10-09T21:34:45.810Z"
   },
   {
    "duration": 128,
    "start_time": "2023-10-09T21:35:37.316Z"
   },
   {
    "duration": 5,
    "start_time": "2023-10-09T21:35:43.572Z"
   },
   {
    "duration": 13,
    "start_time": "2023-10-09T21:35:49.845Z"
   },
   {
    "duration": 8,
    "start_time": "2023-10-09T21:36:09.773Z"
   },
   {
    "duration": 6,
    "start_time": "2023-10-09T21:36:24.077Z"
   },
   {
    "duration": 9,
    "start_time": "2023-10-09T21:36:38.321Z"
   },
   {
    "duration": 11,
    "start_time": "2023-10-09T21:41:02.259Z"
   },
   {
    "duration": 7,
    "start_time": "2023-10-09T21:41:30.041Z"
   },
   {
    "duration": 6,
    "start_time": "2023-10-09T21:41:48.962Z"
   },
   {
    "duration": 18,
    "start_time": "2023-10-09T21:45:22.625Z"
   },
   {
    "duration": 3,
    "start_time": "2023-10-09T21:46:55.985Z"
   },
   {
    "duration": 5,
    "start_time": "2023-10-09T21:47:03.980Z"
   },
   {
    "duration": 6,
    "start_time": "2023-10-09T21:47:16.188Z"
   },
   {
    "duration": 23,
    "start_time": "2023-10-09T21:48:59.428Z"
   },
   {
    "duration": 10,
    "start_time": "2023-10-09T21:49:12.611Z"
   },
   {
    "duration": 15,
    "start_time": "2023-10-09T21:49:19.338Z"
   },
   {
    "duration": 15,
    "start_time": "2023-10-09T21:49:47.473Z"
   },
   {
    "duration": 16,
    "start_time": "2023-10-09T21:50:54.511Z"
   },
   {
    "duration": 1675,
    "start_time": "2023-10-09T21:56:12.137Z"
   },
   {
    "duration": 129,
    "start_time": "2023-10-09T21:56:13.814Z"
   },
   {
    "duration": 23,
    "start_time": "2023-10-09T21:56:13.945Z"
   },
   {
    "duration": 111,
    "start_time": "2023-10-09T21:56:13.969Z"
   },
   {
    "duration": 117,
    "start_time": "2023-10-09T21:56:14.083Z"
   },
   {
    "duration": 65,
    "start_time": "2023-10-09T21:56:14.202Z"
   },
   {
    "duration": 134,
    "start_time": "2023-10-09T21:56:14.269Z"
   },
   {
    "duration": 52,
    "start_time": "2023-10-09T21:56:14.405Z"
   },
   {
    "duration": 36,
    "start_time": "2023-10-09T21:56:14.458Z"
   },
   {
    "duration": 169,
    "start_time": "2023-10-09T21:56:14.496Z"
   },
   {
    "duration": 81,
    "start_time": "2023-10-09T21:56:14.667Z"
   },
   {
    "duration": 108,
    "start_time": "2023-10-09T21:56:14.750Z"
   },
   {
    "duration": 50,
    "start_time": "2023-10-09T21:56:14.860Z"
   },
   {
    "duration": 35,
    "start_time": "2023-10-09T21:56:14.913Z"
   },
   {
    "duration": 50,
    "start_time": "2023-10-09T21:56:14.950Z"
   },
   {
    "duration": 191,
    "start_time": "2023-10-09T21:56:15.001Z"
   },
   {
    "duration": 50,
    "start_time": "2023-10-09T21:56:15.194Z"
   },
   {
    "duration": 60,
    "start_time": "2023-10-09T21:56:15.245Z"
   },
   {
    "duration": 57,
    "start_time": "2023-10-09T21:56:15.307Z"
   },
   {
    "duration": 35,
    "start_time": "2023-10-09T21:56:15.366Z"
   },
   {
    "duration": 137,
    "start_time": "2023-10-09T21:56:15.403Z"
   },
   {
    "duration": 25,
    "start_time": "2023-10-09T21:56:15.542Z"
   },
   {
    "duration": 71,
    "start_time": "2023-10-09T21:56:15.568Z"
   },
   {
    "duration": 80,
    "start_time": "2023-10-09T21:56:15.641Z"
   },
   {
    "duration": 63,
    "start_time": "2023-10-09T21:56:15.723Z"
   },
   {
    "duration": 33,
    "start_time": "2023-10-09T21:56:15.788Z"
   },
   {
    "duration": 227,
    "start_time": "2023-10-09T21:56:15.827Z"
   },
   {
    "duration": 9,
    "start_time": "2023-10-09T21:56:16.056Z"
   },
   {
    "duration": 34,
    "start_time": "2023-10-09T21:56:16.066Z"
   },
   {
    "duration": 32,
    "start_time": "2023-10-09T21:56:16.102Z"
   },
   {
    "duration": 17,
    "start_time": "2023-10-09T21:56:16.136Z"
   },
   {
    "duration": 34,
    "start_time": "2023-10-09T21:56:16.154Z"
   },
   {
    "duration": 380,
    "start_time": "2023-10-09T21:56:16.190Z"
   },
   {
    "duration": 22,
    "start_time": "2023-10-09T21:56:16.572Z"
   },
   {
    "duration": 50,
    "start_time": "2023-10-09T21:56:16.596Z"
   },
   {
    "duration": 65,
    "start_time": "2023-10-09T21:56:16.648Z"
   },
   {
    "duration": 15,
    "start_time": "2023-10-09T21:56:16.714Z"
   },
   {
    "duration": 531,
    "start_time": "2023-10-09T21:56:16.731Z"
   },
   {
    "duration": 18,
    "start_time": "2023-10-09T21:56:17.264Z"
   },
   {
    "duration": 78,
    "start_time": "2023-10-09T21:56:17.284Z"
   },
   {
    "duration": 132,
    "start_time": "2023-10-09T21:56:17.367Z"
   },
   {
    "duration": 493,
    "start_time": "2023-10-09T21:56:17.502Z"
   },
   {
    "duration": 38,
    "start_time": "2023-10-09T21:56:17.998Z"
   },
   {
    "duration": 299,
    "start_time": "2023-10-09T21:56:18.038Z"
   },
   {
    "duration": 53,
    "start_time": "2023-10-09T21:56:18.339Z"
   },
   {
    "duration": 86,
    "start_time": "2023-10-09T21:56:18.394Z"
   },
   {
    "duration": 910,
    "start_time": "2023-10-09T21:56:18.482Z"
   },
   {
    "duration": 2401,
    "start_time": "2023-10-09T21:56:19.394Z"
   },
   {
    "duration": 39,
    "start_time": "2023-10-09T21:56:21.797Z"
   },
   {
    "duration": 33,
    "start_time": "2023-10-09T21:56:21.839Z"
   },
   {
    "duration": 56,
    "start_time": "2023-10-09T21:56:21.874Z"
   },
   {
    "duration": 35,
    "start_time": "2023-10-09T21:56:21.940Z"
   },
   {
    "duration": 110,
    "start_time": "2023-10-09T21:56:21.977Z"
   },
   {
    "duration": 92,
    "start_time": "2023-10-09T21:56:22.088Z"
   },
   {
    "duration": 0,
    "start_time": "2023-10-09T21:56:22.182Z"
   },
   {
    "duration": 0,
    "start_time": "2023-10-09T21:56:22.183Z"
   },
   {
    "duration": 0,
    "start_time": "2023-10-09T21:56:22.184Z"
   },
   {
    "duration": 0,
    "start_time": "2023-10-09T21:56:22.186Z"
   },
   {
    "duration": 0,
    "start_time": "2023-10-09T21:56:22.187Z"
   },
   {
    "duration": 0,
    "start_time": "2023-10-09T21:56:22.189Z"
   },
   {
    "duration": 0,
    "start_time": "2023-10-09T21:56:22.190Z"
   },
   {
    "duration": 1622,
    "start_time": "2023-10-09T21:56:39.860Z"
   },
   {
    "duration": 112,
    "start_time": "2023-10-09T21:56:41.484Z"
   },
   {
    "duration": 19,
    "start_time": "2023-10-09T21:56:41.598Z"
   },
   {
    "duration": 27,
    "start_time": "2023-10-09T21:56:41.619Z"
   },
   {
    "duration": 10,
    "start_time": "2023-10-09T21:56:41.648Z"
   },
   {
    "duration": 12,
    "start_time": "2023-10-09T21:56:41.660Z"
   },
   {
    "duration": 28,
    "start_time": "2023-10-09T21:56:41.675Z"
   },
   {
    "duration": 48,
    "start_time": "2023-10-09T21:56:41.705Z"
   },
   {
    "duration": 36,
    "start_time": "2023-10-09T21:56:41.755Z"
   },
   {
    "duration": 49,
    "start_time": "2023-10-09T21:56:41.792Z"
   },
   {
    "duration": 36,
    "start_time": "2023-10-09T21:56:41.843Z"
   },
   {
    "duration": 11,
    "start_time": "2023-10-09T21:56:41.881Z"
   },
   {
    "duration": 41,
    "start_time": "2023-10-09T21:56:41.895Z"
   },
   {
    "duration": 10,
    "start_time": "2023-10-09T21:56:41.941Z"
   },
   {
    "duration": 22,
    "start_time": "2023-10-09T21:56:41.953Z"
   },
   {
    "duration": 18,
    "start_time": "2023-10-09T21:56:41.977Z"
   },
   {
    "duration": 18,
    "start_time": "2023-10-09T21:56:41.996Z"
   },
   {
    "duration": 19,
    "start_time": "2023-10-09T21:56:42.015Z"
   },
   {
    "duration": 19,
    "start_time": "2023-10-09T21:56:42.040Z"
   },
   {
    "duration": 8,
    "start_time": "2023-10-09T21:56:42.061Z"
   },
   {
    "duration": 120,
    "start_time": "2023-10-09T21:56:42.071Z"
   },
   {
    "duration": 44,
    "start_time": "2023-10-09T21:56:42.193Z"
   },
   {
    "duration": 7,
    "start_time": "2023-10-09T21:56:42.240Z"
   },
   {
    "duration": 33,
    "start_time": "2023-10-09T21:56:42.249Z"
   },
   {
    "duration": 37,
    "start_time": "2023-10-09T21:56:42.284Z"
   },
   {
    "duration": 31,
    "start_time": "2023-10-09T21:56:42.323Z"
   },
   {
    "duration": 187,
    "start_time": "2023-10-09T21:56:42.355Z"
   },
   {
    "duration": 9,
    "start_time": "2023-10-09T21:56:42.547Z"
   },
   {
    "duration": 53,
    "start_time": "2023-10-09T21:56:42.558Z"
   },
   {
    "duration": 29,
    "start_time": "2023-10-09T21:56:42.613Z"
   },
   {
    "duration": 32,
    "start_time": "2023-10-09T21:56:42.643Z"
   },
   {
    "duration": 17,
    "start_time": "2023-10-09T21:56:42.676Z"
   },
   {
    "duration": 383,
    "start_time": "2023-10-09T21:56:42.695Z"
   },
   {
    "duration": 22,
    "start_time": "2023-10-09T21:56:43.080Z"
   },
   {
    "duration": 36,
    "start_time": "2023-10-09T21:56:43.105Z"
   },
   {
    "duration": 35,
    "start_time": "2023-10-09T21:56:43.143Z"
   },
   {
    "duration": 22,
    "start_time": "2023-10-09T21:56:43.179Z"
   },
   {
    "duration": 471,
    "start_time": "2023-10-09T21:56:43.203Z"
   },
   {
    "duration": 18,
    "start_time": "2023-10-09T21:56:43.676Z"
   },
   {
    "duration": 47,
    "start_time": "2023-10-09T21:56:43.695Z"
   },
   {
    "duration": 15,
    "start_time": "2023-10-09T21:56:43.746Z"
   },
   {
    "duration": 421,
    "start_time": "2023-10-09T21:56:43.764Z"
   },
   {
    "duration": 19,
    "start_time": "2023-10-09T21:56:44.187Z"
   },
   {
    "duration": 185,
    "start_time": "2023-10-09T21:56:44.208Z"
   },
   {
    "duration": 58,
    "start_time": "2023-10-09T21:56:44.394Z"
   },
   {
    "duration": 6,
    "start_time": "2023-10-09T21:56:44.453Z"
   },
   {
    "duration": 807,
    "start_time": "2023-10-09T21:56:44.460Z"
   },
   {
    "duration": 2385,
    "start_time": "2023-10-09T21:56:45.269Z"
   },
   {
    "duration": 18,
    "start_time": "2023-10-09T21:56:47.655Z"
   },
   {
    "duration": 45,
    "start_time": "2023-10-09T21:56:47.675Z"
   },
   {
    "duration": 30,
    "start_time": "2023-10-09T21:56:47.722Z"
   },
   {
    "duration": 34,
    "start_time": "2023-10-09T21:56:47.754Z"
   },
   {
    "duration": 22,
    "start_time": "2023-10-09T21:56:47.791Z"
   },
   {
    "duration": 40,
    "start_time": "2023-10-09T21:56:47.815Z"
   },
   {
    "duration": 20,
    "start_time": "2023-10-09T21:56:47.857Z"
   },
   {
    "duration": 25,
    "start_time": "2023-10-09T21:56:47.879Z"
   },
   {
    "duration": 56,
    "start_time": "2023-10-09T21:56:47.906Z"
   },
   {
    "duration": 16,
    "start_time": "2023-10-09T21:56:47.964Z"
   },
   {
    "duration": 28,
    "start_time": "2023-10-09T21:56:47.982Z"
   },
   {
    "duration": 6,
    "start_time": "2023-10-09T21:56:48.012Z"
   },
   {
    "duration": 1460,
    "start_time": "2023-10-10T06:54:07.972Z"
   },
   {
    "duration": 100,
    "start_time": "2023-10-10T06:54:09.433Z"
   },
   {
    "duration": 17,
    "start_time": "2023-10-10T06:54:09.534Z"
   },
   {
    "duration": 23,
    "start_time": "2023-10-10T06:54:09.552Z"
   },
   {
    "duration": 14,
    "start_time": "2023-10-10T06:54:09.576Z"
   },
   {
    "duration": 18,
    "start_time": "2023-10-10T06:54:09.592Z"
   },
   {
    "duration": 31,
    "start_time": "2023-10-10T06:54:09.612Z"
   },
   {
    "duration": 52,
    "start_time": "2023-10-10T06:54:09.645Z"
   },
   {
    "duration": 28,
    "start_time": "2023-10-10T06:54:09.698Z"
   },
   {
    "duration": 43,
    "start_time": "2023-10-10T06:54:09.728Z"
   },
   {
    "duration": 35,
    "start_time": "2023-10-10T06:54:09.773Z"
   },
   {
    "duration": 12,
    "start_time": "2023-10-10T06:54:09.809Z"
   },
   {
    "duration": 29,
    "start_time": "2023-10-10T06:54:09.822Z"
   },
   {
    "duration": 37,
    "start_time": "2023-10-10T06:54:09.853Z"
   },
   {
    "duration": 12,
    "start_time": "2023-10-10T06:54:09.891Z"
   },
   {
    "duration": 24,
    "start_time": "2023-10-10T06:54:09.904Z"
   },
   {
    "duration": 31,
    "start_time": "2023-10-10T06:54:09.929Z"
   },
   {
    "duration": 32,
    "start_time": "2023-10-10T06:54:09.961Z"
   },
   {
    "duration": 49,
    "start_time": "2023-10-10T06:54:09.994Z"
   },
   {
    "duration": 7,
    "start_time": "2023-10-10T06:54:10.044Z"
   },
   {
    "duration": 119,
    "start_time": "2023-10-10T06:54:10.053Z"
   },
   {
    "duration": 23,
    "start_time": "2023-10-10T06:54:10.174Z"
   },
   {
    "duration": 27,
    "start_time": "2023-10-10T06:54:10.199Z"
   },
   {
    "duration": 14,
    "start_time": "2023-10-10T06:54:10.227Z"
   },
   {
    "duration": 65,
    "start_time": "2023-10-10T06:54:10.242Z"
   },
   {
    "duration": 23,
    "start_time": "2023-10-10T06:54:10.309Z"
   },
   {
    "duration": 148,
    "start_time": "2023-10-10T06:54:10.333Z"
   },
   {
    "duration": 8,
    "start_time": "2023-10-10T06:54:10.485Z"
   },
   {
    "duration": 46,
    "start_time": "2023-10-10T06:54:10.494Z"
   },
   {
    "duration": 48,
    "start_time": "2023-10-10T06:54:10.542Z"
   },
   {
    "duration": 28,
    "start_time": "2023-10-10T06:54:10.592Z"
   },
   {
    "duration": 21,
    "start_time": "2023-10-10T06:54:10.621Z"
   },
   {
    "duration": 401,
    "start_time": "2023-10-10T06:54:10.643Z"
   },
   {
    "duration": 20,
    "start_time": "2023-10-10T06:54:11.050Z"
   },
   {
    "duration": 11,
    "start_time": "2023-10-10T06:54:11.071Z"
   },
   {
    "duration": 41,
    "start_time": "2023-10-10T06:54:11.084Z"
   },
   {
    "duration": 12,
    "start_time": "2023-10-10T06:54:11.127Z"
   },
   {
    "duration": 417,
    "start_time": "2023-10-10T06:54:11.140Z"
   },
   {
    "duration": 14,
    "start_time": "2023-10-10T06:54:11.559Z"
   },
   {
    "duration": 25,
    "start_time": "2023-10-10T06:54:11.574Z"
   },
   {
    "duration": 14,
    "start_time": "2023-10-10T06:54:11.600Z"
   },
   {
    "duration": 435,
    "start_time": "2023-10-10T06:54:11.615Z"
   },
   {
    "duration": 17,
    "start_time": "2023-10-10T06:54:12.051Z"
   },
   {
    "duration": 163,
    "start_time": "2023-10-10T06:54:12.070Z"
   },
   {
    "duration": 45,
    "start_time": "2023-10-10T06:54:12.235Z"
   },
   {
    "duration": 5,
    "start_time": "2023-10-10T06:54:12.281Z"
   },
   {
    "duration": 730,
    "start_time": "2023-10-10T06:54:12.287Z"
   },
   {
    "duration": 2115,
    "start_time": "2023-10-10T06:54:13.018Z"
   },
   {
    "duration": 22,
    "start_time": "2023-10-10T06:54:15.134Z"
   },
   {
    "duration": 24,
    "start_time": "2023-10-10T06:54:15.157Z"
   },
   {
    "duration": 14,
    "start_time": "2023-10-10T06:54:15.182Z"
   },
   {
    "duration": 9,
    "start_time": "2023-10-10T06:54:15.198Z"
   },
   {
    "duration": 14,
    "start_time": "2023-10-10T06:54:15.208Z"
   },
   {
    "duration": 7,
    "start_time": "2023-10-10T06:54:15.224Z"
   },
   {
    "duration": 25,
    "start_time": "2023-10-10T06:54:15.232Z"
   },
   {
    "duration": 9,
    "start_time": "2023-10-10T06:54:15.258Z"
   },
   {
    "duration": 17,
    "start_time": "2023-10-10T06:54:19.748Z"
   },
   {
    "duration": 11,
    "start_time": "2023-10-10T06:54:32.664Z"
   },
   {
    "duration": 6,
    "start_time": "2023-10-10T06:54:32.902Z"
   },
   {
    "duration": 10,
    "start_time": "2023-10-10T06:54:35.277Z"
   },
   {
    "duration": 6,
    "start_time": "2023-10-10T06:54:37.244Z"
   },
   {
    "duration": 11,
    "start_time": "2023-10-10T06:55:13.757Z"
   },
   {
    "duration": 1618,
    "start_time": "2023-10-10T08:08:40.870Z"
   },
   {
    "duration": 691,
    "start_time": "2023-10-10T08:08:42.490Z"
   },
   {
    "duration": 20,
    "start_time": "2023-10-10T08:08:43.183Z"
   },
   {
    "duration": 32,
    "start_time": "2023-10-10T08:08:43.205Z"
   },
   {
    "duration": 37,
    "start_time": "2023-10-10T08:08:43.239Z"
   },
   {
    "duration": 50,
    "start_time": "2023-10-10T08:08:43.278Z"
   },
   {
    "duration": 37,
    "start_time": "2023-10-10T08:08:43.329Z"
   },
   {
    "duration": 32,
    "start_time": "2023-10-10T08:08:43.368Z"
   },
   {
    "duration": 51,
    "start_time": "2023-10-10T08:08:43.401Z"
   },
   {
    "duration": 26,
    "start_time": "2023-10-10T08:08:43.455Z"
   },
   {
    "duration": 50,
    "start_time": "2023-10-10T08:08:43.483Z"
   },
   {
    "duration": 11,
    "start_time": "2023-10-10T08:08:43.535Z"
   },
   {
    "duration": 54,
    "start_time": "2023-10-10T08:08:43.547Z"
   },
   {
    "duration": 34,
    "start_time": "2023-10-10T08:08:43.602Z"
   },
   {
    "duration": 20,
    "start_time": "2023-10-10T08:08:43.637Z"
   },
   {
    "duration": 52,
    "start_time": "2023-10-10T08:08:43.658Z"
   },
   {
    "duration": 21,
    "start_time": "2023-10-10T08:08:43.712Z"
   },
   {
    "duration": 44,
    "start_time": "2023-10-10T08:08:43.735Z"
   },
   {
    "duration": 38,
    "start_time": "2023-10-10T08:08:43.781Z"
   },
   {
    "duration": 25,
    "start_time": "2023-10-10T08:08:43.820Z"
   },
   {
    "duration": 119,
    "start_time": "2023-10-10T08:08:43.847Z"
   },
   {
    "duration": 23,
    "start_time": "2023-10-10T08:08:43.967Z"
   },
   {
    "duration": 48,
    "start_time": "2023-10-10T08:08:43.992Z"
   },
   {
    "duration": 19,
    "start_time": "2023-10-10T08:08:44.041Z"
   },
   {
    "duration": 76,
    "start_time": "2023-10-10T08:08:44.061Z"
   },
   {
    "duration": 28,
    "start_time": "2023-10-10T08:08:44.140Z"
   },
   {
    "duration": 203,
    "start_time": "2023-10-10T08:08:44.170Z"
   },
   {
    "duration": 8,
    "start_time": "2023-10-10T08:08:44.377Z"
   },
   {
    "duration": 50,
    "start_time": "2023-10-10T08:08:44.386Z"
   },
   {
    "duration": 37,
    "start_time": "2023-10-10T08:08:44.438Z"
   },
   {
    "duration": 32,
    "start_time": "2023-10-10T08:08:44.477Z"
   },
   {
    "duration": 33,
    "start_time": "2023-10-10T08:08:44.510Z"
   },
   {
    "duration": 457,
    "start_time": "2023-10-10T08:08:44.545Z"
   },
   {
    "duration": 20,
    "start_time": "2023-10-10T08:08:45.004Z"
   },
   {
    "duration": 45,
    "start_time": "2023-10-10T08:08:45.026Z"
   },
   {
    "duration": 49,
    "start_time": "2023-10-10T08:08:45.073Z"
   },
   {
    "duration": 29,
    "start_time": "2023-10-10T08:08:45.124Z"
   },
   {
    "duration": 427,
    "start_time": "2023-10-10T08:08:45.155Z"
   },
   {
    "duration": 16,
    "start_time": "2023-10-10T08:08:45.584Z"
   },
   {
    "duration": 27,
    "start_time": "2023-10-10T08:08:45.601Z"
   },
   {
    "duration": 23,
    "start_time": "2023-10-10T08:08:45.630Z"
   },
   {
    "duration": 398,
    "start_time": "2023-10-10T08:08:45.654Z"
   },
   {
    "duration": 20,
    "start_time": "2023-10-10T08:08:46.054Z"
   },
   {
    "duration": 180,
    "start_time": "2023-10-10T08:08:46.075Z"
   },
   {
    "duration": 49,
    "start_time": "2023-10-10T08:08:46.258Z"
   },
   {
    "duration": 5,
    "start_time": "2023-10-10T08:08:46.309Z"
   },
   {
    "duration": 765,
    "start_time": "2023-10-10T08:08:46.316Z"
   },
   {
    "duration": 2115,
    "start_time": "2023-10-10T08:08:47.083Z"
   },
   {
    "duration": 16,
    "start_time": "2023-10-10T08:08:49.199Z"
   },
   {
    "duration": 14,
    "start_time": "2023-10-10T08:08:49.216Z"
   },
   {
    "duration": 25,
    "start_time": "2023-10-10T08:08:49.232Z"
   },
   {
    "duration": 33,
    "start_time": "2023-10-10T08:08:49.259Z"
   },
   {
    "duration": 23,
    "start_time": "2023-10-10T08:08:49.293Z"
   },
   {
    "duration": 8,
    "start_time": "2023-10-10T08:08:49.317Z"
   },
   {
    "duration": 10,
    "start_time": "2023-10-10T08:08:49.326Z"
   },
   {
    "duration": 9,
    "start_time": "2023-10-10T08:08:49.338Z"
   },
   {
    "duration": 15,
    "start_time": "2023-10-10T08:08:49.349Z"
   },
   {
    "duration": 5,
    "start_time": "2023-10-10T08:08:49.366Z"
   },
   {
    "duration": 12,
    "start_time": "2023-10-10T08:08:49.372Z"
   },
   {
    "duration": 5,
    "start_time": "2023-10-10T08:08:49.385Z"
   },
   {
    "duration": 15,
    "start_time": "2023-10-10T08:10:22.354Z"
   },
   {
    "duration": 2451,
    "start_time": "2023-10-10T08:12:23.181Z"
   },
   {
    "duration": 1728,
    "start_time": "2023-10-10T08:12:50.441Z"
   },
   {
    "duration": 16,
    "start_time": "2023-10-10T08:13:27.816Z"
   },
   {
    "duration": 13,
    "start_time": "2023-10-10T08:13:45.712Z"
   },
   {
    "duration": 15,
    "start_time": "2023-10-10T08:13:54.616Z"
   },
   {
    "duration": 339,
    "start_time": "2023-10-10T08:15:41.080Z"
   },
   {
    "duration": 388,
    "start_time": "2023-10-10T08:15:45.921Z"
   },
   {
    "duration": 550,
    "start_time": "2023-10-10T08:16:39.997Z"
   },
   {
    "duration": 561,
    "start_time": "2023-10-10T08:16:45.748Z"
   },
   {
    "duration": 663,
    "start_time": "2023-10-10T08:18:27.517Z"
   },
   {
    "duration": 375,
    "start_time": "2023-10-10T08:23:56.184Z"
   },
   {
    "duration": 52,
    "start_time": "2023-10-10T10:13:52.165Z"
   },
   {
    "duration": 1528,
    "start_time": "2023-10-10T10:13:57.834Z"
   },
   {
    "duration": 102,
    "start_time": "2023-10-10T10:13:59.364Z"
   },
   {
    "duration": 18,
    "start_time": "2023-10-10T10:13:59.468Z"
   },
   {
    "duration": 18,
    "start_time": "2023-10-10T10:13:59.488Z"
   },
   {
    "duration": 24,
    "start_time": "2023-10-10T10:13:59.508Z"
   },
   {
    "duration": 24,
    "start_time": "2023-10-10T10:13:59.534Z"
   },
   {
    "duration": 31,
    "start_time": "2023-10-10T10:13:59.559Z"
   },
   {
    "duration": 31,
    "start_time": "2023-10-10T10:13:59.591Z"
   },
   {
    "duration": 30,
    "start_time": "2023-10-10T10:13:59.623Z"
   },
   {
    "duration": 17,
    "start_time": "2023-10-10T10:13:59.655Z"
   },
   {
    "duration": 30,
    "start_time": "2023-10-10T10:13:59.674Z"
   },
   {
    "duration": 31,
    "start_time": "2023-10-10T10:13:59.706Z"
   },
   {
    "duration": 14,
    "start_time": "2023-10-10T10:13:59.738Z"
   },
   {
    "duration": 14,
    "start_time": "2023-10-10T10:13:59.755Z"
   },
   {
    "duration": 33,
    "start_time": "2023-10-10T10:13:59.770Z"
   },
   {
    "duration": 36,
    "start_time": "2023-10-10T10:13:59.805Z"
   },
   {
    "duration": 14,
    "start_time": "2023-10-10T10:13:59.842Z"
   },
   {
    "duration": 30,
    "start_time": "2023-10-10T10:13:59.858Z"
   },
   {
    "duration": 39,
    "start_time": "2023-10-10T10:13:59.890Z"
   },
   {
    "duration": 8,
    "start_time": "2023-10-10T10:13:59.930Z"
   },
   {
    "duration": 1017,
    "start_time": "2023-10-10T10:13:59.939Z"
   },
   {
    "duration": 18,
    "start_time": "2023-10-10T10:14:00.957Z"
   },
   {
    "duration": 144,
    "start_time": "2023-10-10T10:14:00.976Z"
   },
   {
    "duration": 36,
    "start_time": "2023-10-10T10:14:01.121Z"
   },
   {
    "duration": 37,
    "start_time": "2023-10-10T10:14:01.158Z"
   },
   {
    "duration": 150,
    "start_time": "2023-10-10T10:14:01.197Z"
   },
   {
    "duration": 80,
    "start_time": "2023-10-10T10:14:01.348Z"
   },
   {
    "duration": 63,
    "start_time": "2023-10-10T10:14:01.429Z"
   },
   {
    "duration": 177,
    "start_time": "2023-10-10T10:14:01.494Z"
   },
   {
    "duration": 8,
    "start_time": "2023-10-10T10:14:01.673Z"
   },
   {
    "duration": 217,
    "start_time": "2023-10-10T10:14:01.683Z"
   },
   {
    "duration": 195,
    "start_time": "2023-10-10T10:14:01.901Z"
   },
   {
    "duration": 159,
    "start_time": "2023-10-10T10:14:02.097Z"
   },
   {
    "duration": 50,
    "start_time": "2023-10-10T10:14:02.258Z"
   },
   {
    "duration": 460,
    "start_time": "2023-10-10T10:14:02.310Z"
   },
   {
    "duration": 24,
    "start_time": "2023-10-10T10:14:02.772Z"
   },
   {
    "duration": 28,
    "start_time": "2023-10-10T10:14:02.798Z"
   },
   {
    "duration": 62,
    "start_time": "2023-10-10T10:14:02.828Z"
   },
   {
    "duration": 25,
    "start_time": "2023-10-10T10:14:02.892Z"
   },
   {
    "duration": 431,
    "start_time": "2023-10-10T10:14:02.919Z"
   },
   {
    "duration": 17,
    "start_time": "2023-10-10T10:14:03.354Z"
   },
   {
    "duration": 25,
    "start_time": "2023-10-10T10:14:03.373Z"
   },
   {
    "duration": 25,
    "start_time": "2023-10-10T10:14:03.399Z"
   },
   {
    "duration": 383,
    "start_time": "2023-10-10T10:14:03.426Z"
   },
   {
    "duration": 18,
    "start_time": "2023-10-10T10:14:03.811Z"
   },
   {
    "duration": 165,
    "start_time": "2023-10-10T10:14:03.830Z"
   },
   {
    "duration": 70,
    "start_time": "2023-10-10T10:14:03.997Z"
   },
   {
    "duration": 7,
    "start_time": "2023-10-10T10:14:04.069Z"
   },
   {
    "duration": 762,
    "start_time": "2023-10-10T10:14:04.078Z"
   },
   {
    "duration": 2062,
    "start_time": "2023-10-10T10:14:04.845Z"
   },
   {
    "duration": 14,
    "start_time": "2023-10-10T10:14:06.909Z"
   },
   {
    "duration": 21,
    "start_time": "2023-10-10T10:14:06.925Z"
   },
   {
    "duration": 27,
    "start_time": "2023-10-10T10:14:06.948Z"
   },
   {
    "duration": 23,
    "start_time": "2023-10-10T10:14:06.977Z"
   },
   {
    "duration": 65,
    "start_time": "2023-10-10T10:14:07.002Z"
   },
   {
    "duration": 36,
    "start_time": "2023-10-10T10:14:07.069Z"
   },
   {
    "duration": 19,
    "start_time": "2023-10-10T10:14:07.107Z"
   },
   {
    "duration": 38,
    "start_time": "2023-10-10T10:14:07.127Z"
   },
   {
    "duration": 45,
    "start_time": "2023-10-10T10:14:07.167Z"
   },
   {
    "duration": 13,
    "start_time": "2023-10-10T10:14:07.214Z"
   },
   {
    "duration": 28,
    "start_time": "2023-10-10T10:14:07.229Z"
   },
   {
    "duration": 21,
    "start_time": "2023-10-10T10:14:07.258Z"
   },
   {
    "duration": 542,
    "start_time": "2023-10-10T10:18:31.390Z"
   },
   {
    "duration": 574,
    "start_time": "2023-10-10T10:18:37.394Z"
   },
   {
    "duration": 569,
    "start_time": "2023-10-10T10:22:15.641Z"
   },
   {
    "duration": 536,
    "start_time": "2023-10-10T10:22:19.362Z"
   },
   {
    "duration": 575,
    "start_time": "2023-10-10T10:22:40.669Z"
   },
   {
    "duration": 120,
    "start_time": "2023-10-10T10:25:03.029Z"
   },
   {
    "duration": 569,
    "start_time": "2023-10-10T10:25:38.360Z"
   },
   {
    "duration": 623,
    "start_time": "2023-10-10T10:26:21.658Z"
   },
   {
    "duration": 612,
    "start_time": "2023-10-10T10:26:31.314Z"
   },
   {
    "duration": 558,
    "start_time": "2023-10-10T10:27:17.015Z"
   },
   {
    "duration": 557,
    "start_time": "2023-10-10T10:28:24.933Z"
   },
   {
    "duration": 12,
    "start_time": "2023-10-10T10:28:37.034Z"
   },
   {
    "duration": 230,
    "start_time": "2023-10-10T10:47:47.302Z"
   },
   {
    "duration": 232,
    "start_time": "2023-10-10T10:50:11.816Z"
   },
   {
    "duration": 32,
    "start_time": "2023-10-10T10:50:24.161Z"
   },
   {
    "duration": 12,
    "start_time": "2023-10-10T10:50:29.944Z"
   },
   {
    "duration": 10,
    "start_time": "2023-10-10T10:50:37.344Z"
   },
   {
    "duration": 159,
    "start_time": "2023-10-10T10:51:09.757Z"
   },
   {
    "duration": 10,
    "start_time": "2023-10-10T10:52:09.190Z"
   },
   {
    "duration": 15,
    "start_time": "2023-10-10T10:52:22.519Z"
   },
   {
    "duration": 284,
    "start_time": "2023-10-10T10:53:31.106Z"
   },
   {
    "duration": 231,
    "start_time": "2023-10-10T10:53:40.514Z"
   },
   {
    "duration": 34,
    "start_time": "2023-10-10T10:54:38.214Z"
   },
   {
    "duration": 32,
    "start_time": "2023-10-10T10:55:06.033Z"
   },
   {
    "duration": 1634,
    "start_time": "2023-10-10T10:55:19.022Z"
   },
   {
    "duration": 102,
    "start_time": "2023-10-10T10:55:20.661Z"
   },
   {
    "duration": 19,
    "start_time": "2023-10-10T10:55:20.764Z"
   },
   {
    "duration": 55,
    "start_time": "2023-10-10T10:55:20.785Z"
   },
   {
    "duration": 34,
    "start_time": "2023-10-10T10:55:20.842Z"
   },
   {
    "duration": 82,
    "start_time": "2023-10-10T10:55:20.878Z"
   },
   {
    "duration": 24,
    "start_time": "2023-10-10T10:55:20.962Z"
   },
   {
    "duration": 41,
    "start_time": "2023-10-10T10:55:20.988Z"
   },
   {
    "duration": 50,
    "start_time": "2023-10-10T10:55:21.031Z"
   },
   {
    "duration": 26,
    "start_time": "2023-10-10T10:55:21.084Z"
   },
   {
    "duration": 54,
    "start_time": "2023-10-10T10:55:21.112Z"
   },
   {
    "duration": 12,
    "start_time": "2023-10-10T10:55:21.168Z"
   },
   {
    "duration": 16,
    "start_time": "2023-10-10T10:55:21.181Z"
   },
   {
    "duration": 27,
    "start_time": "2023-10-10T10:55:21.198Z"
   },
   {
    "duration": 37,
    "start_time": "2023-10-10T10:55:21.226Z"
   },
   {
    "duration": 27,
    "start_time": "2023-10-10T10:55:21.265Z"
   },
   {
    "duration": 31,
    "start_time": "2023-10-10T10:55:21.294Z"
   },
   {
    "duration": 46,
    "start_time": "2023-10-10T10:55:21.327Z"
   },
   {
    "duration": 55,
    "start_time": "2023-10-10T10:55:21.375Z"
   },
   {
    "duration": 10,
    "start_time": "2023-10-10T10:55:21.432Z"
   },
   {
    "duration": 537,
    "start_time": "2023-10-10T10:55:21.444Z"
   },
   {
    "duration": 29,
    "start_time": "2023-10-10T10:55:21.983Z"
   },
   {
    "duration": 48,
    "start_time": "2023-10-10T10:55:22.014Z"
   },
   {
    "duration": 10,
    "start_time": "2023-10-10T10:55:22.064Z"
   },
   {
    "duration": 22,
    "start_time": "2023-10-10T10:55:22.075Z"
   },
   {
    "duration": 49,
    "start_time": "2023-10-10T10:55:22.099Z"
   },
   {
    "duration": 36,
    "start_time": "2023-10-10T10:55:22.149Z"
   },
   {
    "duration": 119,
    "start_time": "2023-10-10T10:55:22.189Z"
   },
   {
    "duration": 38,
    "start_time": "2023-10-10T10:55:22.309Z"
   },
   {
    "duration": 14,
    "start_time": "2023-10-10T10:55:22.352Z"
   },
   {
    "duration": 7,
    "start_time": "2023-10-10T10:55:22.367Z"
   },
   {
    "duration": 71,
    "start_time": "2023-10-10T10:55:22.375Z"
   },
   {
    "duration": 33,
    "start_time": "2023-10-10T10:55:22.447Z"
   },
   {
    "duration": 187,
    "start_time": "2023-10-10T10:55:22.481Z"
   },
   {
    "duration": 8,
    "start_time": "2023-10-10T10:55:22.670Z"
   },
   {
    "duration": 32,
    "start_time": "2023-10-10T10:55:22.680Z"
   },
   {
    "duration": 37,
    "start_time": "2023-10-10T10:55:22.714Z"
   },
   {
    "duration": 18,
    "start_time": "2023-10-10T10:55:22.752Z"
   },
   {
    "duration": 24,
    "start_time": "2023-10-10T10:55:22.772Z"
   },
   {
    "duration": 482,
    "start_time": "2023-10-10T10:55:22.798Z"
   },
   {
    "duration": 21,
    "start_time": "2023-10-10T10:55:23.281Z"
   },
   {
    "duration": 32,
    "start_time": "2023-10-10T10:55:23.303Z"
   },
   {
    "duration": 29,
    "start_time": "2023-10-10T10:55:23.337Z"
   },
   {
    "duration": 24,
    "start_time": "2023-10-10T10:55:23.368Z"
   },
   {
    "duration": 398,
    "start_time": "2023-10-10T10:55:23.395Z"
   },
   {
    "duration": 24,
    "start_time": "2023-10-10T10:55:23.794Z"
   },
   {
    "duration": 43,
    "start_time": "2023-10-10T10:55:23.820Z"
   },
   {
    "duration": 28,
    "start_time": "2023-10-10T10:55:23.865Z"
   },
   {
    "duration": 450,
    "start_time": "2023-10-10T10:55:23.895Z"
   },
   {
    "duration": 28,
    "start_time": "2023-10-10T10:55:24.347Z"
   },
   {
    "duration": 209,
    "start_time": "2023-10-10T10:55:24.377Z"
   },
   {
    "duration": 68,
    "start_time": "2023-10-10T10:55:24.587Z"
   },
   {
    "duration": 9,
    "start_time": "2023-10-10T10:55:24.657Z"
   },
   {
    "duration": 860,
    "start_time": "2023-10-10T10:55:24.667Z"
   },
   {
    "duration": 2575,
    "start_time": "2023-10-10T10:55:25.528Z"
   },
   {
    "duration": 41,
    "start_time": "2023-10-10T10:55:28.106Z"
   },
   {
    "duration": 14,
    "start_time": "2023-10-10T10:55:28.150Z"
   },
   {
    "duration": 13,
    "start_time": "2023-10-10T10:55:28.166Z"
   },
   {
    "duration": 16,
    "start_time": "2023-10-10T10:55:28.181Z"
   },
   {
    "duration": 28,
    "start_time": "2023-10-10T10:55:28.199Z"
   },
   {
    "duration": 27,
    "start_time": "2023-10-10T10:55:28.228Z"
   },
   {
    "duration": 27,
    "start_time": "2023-10-10T10:55:28.257Z"
   },
   {
    "duration": 42,
    "start_time": "2023-10-10T10:55:28.286Z"
   },
   {
    "duration": 30,
    "start_time": "2023-10-10T10:55:28.330Z"
   },
   {
    "duration": 7,
    "start_time": "2023-10-10T10:55:28.362Z"
   },
   {
    "duration": 21,
    "start_time": "2023-10-10T10:55:28.370Z"
   },
   {
    "duration": 14,
    "start_time": "2023-10-10T10:55:28.393Z"
   },
   {
    "duration": 26,
    "start_time": "2023-10-10T10:57:34.737Z"
   },
   {
    "duration": 14,
    "start_time": "2023-10-10T10:57:43.462Z"
   },
   {
    "duration": 19,
    "start_time": "2023-10-10T10:57:48.174Z"
   },
   {
    "duration": 24,
    "start_time": "2023-10-10T10:58:10.362Z"
   },
   {
    "duration": 32,
    "start_time": "2023-10-10T10:58:47.946Z"
   },
   {
    "duration": 24,
    "start_time": "2023-10-10T10:59:04.002Z"
   },
   {
    "duration": 32,
    "start_time": "2023-10-10T10:59:12.421Z"
   },
   {
    "duration": 21,
    "start_time": "2023-10-10T10:59:17.874Z"
   },
   {
    "duration": 11,
    "start_time": "2023-10-10T11:00:38.562Z"
   },
   {
    "duration": 132,
    "start_time": "2023-10-10T11:06:25.263Z"
   },
   {
    "duration": 116,
    "start_time": "2023-10-10T11:09:03.545Z"
   },
   {
    "duration": 133,
    "start_time": "2023-10-10T11:10:03.067Z"
   },
   {
    "duration": 131,
    "start_time": "2023-10-10T11:11:42.764Z"
   },
   {
    "duration": 26,
    "start_time": "2023-10-10T11:12:26.487Z"
   },
   {
    "duration": 30,
    "start_time": "2023-10-10T11:13:49.504Z"
   },
   {
    "duration": 13,
    "start_time": "2023-10-10T11:14:05.111Z"
   },
   {
    "duration": 157,
    "start_time": "2023-10-10T11:14:18.526Z"
   },
   {
    "duration": 6,
    "start_time": "2023-10-10T11:18:43.077Z"
   },
   {
    "duration": 24,
    "start_time": "2023-10-10T11:18:49.474Z"
   },
   {
    "duration": 8,
    "start_time": "2023-10-10T11:18:57.539Z"
   },
   {
    "duration": 15,
    "start_time": "2023-10-10T11:19:56.375Z"
   },
   {
    "duration": 2431,
    "start_time": "2023-10-10T11:20:01.642Z"
   },
   {
    "duration": 151,
    "start_time": "2023-10-10T11:20:04.084Z"
   },
   {
    "duration": 24,
    "start_time": "2023-10-10T11:20:04.237Z"
   },
   {
    "duration": 24,
    "start_time": "2023-10-10T11:20:04.263Z"
   },
   {
    "duration": 12,
    "start_time": "2023-10-10T11:20:04.290Z"
   },
   {
    "duration": 22,
    "start_time": "2023-10-10T11:20:04.305Z"
   },
   {
    "duration": 36,
    "start_time": "2023-10-10T11:20:04.330Z"
   },
   {
    "duration": 32,
    "start_time": "2023-10-10T11:20:04.368Z"
   },
   {
    "duration": 67,
    "start_time": "2023-10-10T11:20:04.403Z"
   },
   {
    "duration": 22,
    "start_time": "2023-10-10T11:20:04.475Z"
   },
   {
    "duration": 56,
    "start_time": "2023-10-10T11:20:04.499Z"
   },
   {
    "duration": 15,
    "start_time": "2023-10-10T11:20:04.557Z"
   },
   {
    "duration": 26,
    "start_time": "2023-10-10T11:20:04.574Z"
   },
   {
    "duration": 18,
    "start_time": "2023-10-10T11:20:04.602Z"
   },
   {
    "duration": 47,
    "start_time": "2023-10-10T11:20:04.622Z"
   },
   {
    "duration": 43,
    "start_time": "2023-10-10T11:20:04.671Z"
   },
   {
    "duration": 39,
    "start_time": "2023-10-10T11:20:04.716Z"
   },
   {
    "duration": 47,
    "start_time": "2023-10-10T11:20:04.764Z"
   },
   {
    "duration": 20,
    "start_time": "2023-10-10T11:20:04.814Z"
   },
   {
    "duration": 23,
    "start_time": "2023-10-10T11:20:04.836Z"
   },
   {
    "duration": 490,
    "start_time": "2023-10-10T11:20:04.863Z"
   },
   {
    "duration": 25,
    "start_time": "2023-10-10T11:20:05.357Z"
   },
   {
    "duration": 38,
    "start_time": "2023-10-10T11:20:05.384Z"
   },
   {
    "duration": 19,
    "start_time": "2023-10-10T11:20:05.424Z"
   },
   {
    "duration": 32,
    "start_time": "2023-10-10T11:20:05.445Z"
   },
   {
    "duration": 25,
    "start_time": "2023-10-10T11:20:05.478Z"
   },
   {
    "duration": 9,
    "start_time": "2023-10-10T11:20:05.505Z"
   },
   {
    "duration": 196,
    "start_time": "2023-10-10T11:20:05.518Z"
   },
   {
    "duration": 44,
    "start_time": "2023-10-10T11:20:05.716Z"
   },
   {
    "duration": 24,
    "start_time": "2023-10-10T11:20:05.762Z"
   },
   {
    "duration": 30,
    "start_time": "2023-10-10T11:20:05.789Z"
   },
   {
    "duration": 47,
    "start_time": "2023-10-10T11:20:05.821Z"
   },
   {
    "duration": 48,
    "start_time": "2023-10-10T11:20:05.870Z"
   },
   {
    "duration": 38,
    "start_time": "2023-10-10T11:20:05.920Z"
   },
   {
    "duration": 198,
    "start_time": "2023-10-10T11:20:05.960Z"
   },
   {
    "duration": 12,
    "start_time": "2023-10-10T11:20:06.162Z"
   },
   {
    "duration": 38,
    "start_time": "2023-10-10T11:20:06.176Z"
   },
   {
    "duration": 44,
    "start_time": "2023-10-10T11:20:06.215Z"
   },
   {
    "duration": 17,
    "start_time": "2023-10-10T11:20:06.261Z"
   },
   {
    "duration": 44,
    "start_time": "2023-10-10T11:20:06.280Z"
   },
   {
    "duration": 517,
    "start_time": "2023-10-10T11:20:06.326Z"
   },
   {
    "duration": 32,
    "start_time": "2023-10-10T11:20:06.848Z"
   },
   {
    "duration": 40,
    "start_time": "2023-10-10T11:20:06.882Z"
   },
   {
    "duration": 41,
    "start_time": "2023-10-10T11:20:06.924Z"
   },
   {
    "duration": 14,
    "start_time": "2023-10-10T11:20:06.967Z"
   },
   {
    "duration": 398,
    "start_time": "2023-10-10T11:20:06.982Z"
   },
   {
    "duration": 21,
    "start_time": "2023-10-10T11:20:07.382Z"
   },
   {
    "duration": 41,
    "start_time": "2023-10-10T11:20:07.405Z"
   },
   {
    "duration": 56,
    "start_time": "2023-10-10T11:20:07.449Z"
   },
   {
    "duration": 415,
    "start_time": "2023-10-10T11:20:07.507Z"
   },
   {
    "duration": 22,
    "start_time": "2023-10-10T11:20:07.923Z"
   },
   {
    "duration": 184,
    "start_time": "2023-10-10T11:20:07.946Z"
   },
   {
    "duration": 64,
    "start_time": "2023-10-10T11:20:08.132Z"
   },
   {
    "duration": 6,
    "start_time": "2023-10-10T11:20:08.198Z"
   },
   {
    "duration": 862,
    "start_time": "2023-10-10T11:20:08.206Z"
   },
   {
    "duration": 2334,
    "start_time": "2023-10-10T11:20:09.070Z"
   },
   {
    "duration": 17,
    "start_time": "2023-10-10T11:20:11.406Z"
   },
   {
    "duration": 41,
    "start_time": "2023-10-10T11:20:11.425Z"
   },
   {
    "duration": 90,
    "start_time": "2023-10-10T11:20:11.467Z"
   },
   {
    "duration": 20,
    "start_time": "2023-10-10T11:20:11.559Z"
   },
   {
    "duration": 49,
    "start_time": "2023-10-10T11:20:11.580Z"
   },
   {
    "duration": 37,
    "start_time": "2023-10-10T11:20:11.631Z"
   },
   {
    "duration": 25,
    "start_time": "2023-10-10T11:20:11.669Z"
   },
   {
    "duration": 33,
    "start_time": "2023-10-10T11:20:11.696Z"
   },
   {
    "duration": 38,
    "start_time": "2023-10-10T11:20:11.731Z"
   },
   {
    "duration": 7,
    "start_time": "2023-10-10T11:20:11.771Z"
   },
   {
    "duration": 39,
    "start_time": "2023-10-10T11:20:11.780Z"
   },
   {
    "duration": 22,
    "start_time": "2023-10-10T11:20:11.821Z"
   },
   {
    "duration": 18,
    "start_time": "2023-10-10T11:21:17.440Z"
   },
   {
    "duration": 214,
    "start_time": "2023-10-10T11:21:34.053Z"
   },
   {
    "duration": 139,
    "start_time": "2023-10-10T11:22:29.980Z"
   },
   {
    "duration": 147,
    "start_time": "2023-10-10T11:22:45.691Z"
   },
   {
    "duration": 151,
    "start_time": "2023-10-10T11:23:10.407Z"
   },
   {
    "duration": 145,
    "start_time": "2023-10-10T11:23:18.866Z"
   },
   {
    "duration": 144,
    "start_time": "2023-10-10T11:23:32.727Z"
   },
   {
    "duration": 134,
    "start_time": "2023-10-10T11:23:43.259Z"
   },
   {
    "duration": 149,
    "start_time": "2023-10-10T11:23:56.143Z"
   },
   {
    "duration": 236,
    "start_time": "2023-10-10T11:24:06.135Z"
   },
   {
    "duration": 145,
    "start_time": "2023-10-10T11:24:19.662Z"
   },
   {
    "duration": 131,
    "start_time": "2023-10-10T11:24:27.504Z"
   },
   {
    "duration": 1582,
    "start_time": "2023-10-10T11:24:45.080Z"
   },
   {
    "duration": 105,
    "start_time": "2023-10-10T11:24:46.665Z"
   },
   {
    "duration": 19,
    "start_time": "2023-10-10T11:24:46.772Z"
   },
   {
    "duration": 73,
    "start_time": "2023-10-10T11:24:46.793Z"
   },
   {
    "duration": 21,
    "start_time": "2023-10-10T11:24:46.868Z"
   },
   {
    "duration": 31,
    "start_time": "2023-10-10T11:24:46.890Z"
   },
   {
    "duration": 46,
    "start_time": "2023-10-10T11:24:46.923Z"
   },
   {
    "duration": 52,
    "start_time": "2023-10-10T11:24:46.971Z"
   },
   {
    "duration": 49,
    "start_time": "2023-10-10T11:24:47.026Z"
   },
   {
    "duration": 22,
    "start_time": "2023-10-10T11:24:47.077Z"
   },
   {
    "duration": 60,
    "start_time": "2023-10-10T11:24:47.101Z"
   },
   {
    "duration": 11,
    "start_time": "2023-10-10T11:24:47.164Z"
   },
   {
    "duration": 42,
    "start_time": "2023-10-10T11:24:47.177Z"
   },
   {
    "duration": 32,
    "start_time": "2023-10-10T11:24:47.222Z"
   },
   {
    "duration": 32,
    "start_time": "2023-10-10T11:24:47.256Z"
   },
   {
    "duration": 50,
    "start_time": "2023-10-10T11:24:47.290Z"
   },
   {
    "duration": 73,
    "start_time": "2023-10-10T11:24:47.342Z"
   },
   {
    "duration": 46,
    "start_time": "2023-10-10T11:24:47.417Z"
   },
   {
    "duration": 28,
    "start_time": "2023-10-10T11:24:47.464Z"
   },
   {
    "duration": 20,
    "start_time": "2023-10-10T11:24:47.494Z"
   },
   {
    "duration": 509,
    "start_time": "2023-10-10T11:24:47.516Z"
   },
   {
    "duration": 46,
    "start_time": "2023-10-10T11:24:48.027Z"
   },
   {
    "duration": 39,
    "start_time": "2023-10-10T11:24:48.075Z"
   },
   {
    "duration": 48,
    "start_time": "2023-10-10T11:24:48.116Z"
   },
   {
    "duration": 47,
    "start_time": "2023-10-10T11:24:48.166Z"
   },
   {
    "duration": 37,
    "start_time": "2023-10-10T11:24:48.215Z"
   },
   {
    "duration": 25,
    "start_time": "2023-10-10T11:24:48.253Z"
   },
   {
    "duration": 181,
    "start_time": "2023-10-10T11:24:48.279Z"
   },
   {
    "duration": 158,
    "start_time": "2023-10-10T11:24:48.462Z"
   },
   {
    "duration": 34,
    "start_time": "2023-10-10T11:24:48.622Z"
   },
   {
    "duration": 11,
    "start_time": "2023-10-10T11:24:48.665Z"
   },
   {
    "duration": 36,
    "start_time": "2023-10-10T11:24:48.678Z"
   },
   {
    "duration": 61,
    "start_time": "2023-10-10T11:24:48.716Z"
   },
   {
    "duration": 156,
    "start_time": "2023-10-10T11:24:48.779Z"
   },
   {
    "duration": 252,
    "start_time": "2023-10-10T11:24:48.936Z"
   },
   {
    "duration": 10,
    "start_time": "2023-10-10T11:24:49.189Z"
   },
   {
    "duration": 30,
    "start_time": "2023-10-10T11:24:49.201Z"
   },
   {
    "duration": 45,
    "start_time": "2023-10-10T11:24:49.233Z"
   },
   {
    "duration": 32,
    "start_time": "2023-10-10T11:24:49.279Z"
   },
   {
    "duration": 19,
    "start_time": "2023-10-10T11:24:49.313Z"
   },
   {
    "duration": 377,
    "start_time": "2023-10-10T11:24:49.336Z"
   },
   {
    "duration": 43,
    "start_time": "2023-10-10T11:24:49.715Z"
   },
   {
    "duration": 12,
    "start_time": "2023-10-10T11:24:49.760Z"
   },
   {
    "duration": 24,
    "start_time": "2023-10-10T11:24:49.773Z"
   },
   {
    "duration": 14,
    "start_time": "2023-10-10T11:24:49.799Z"
   },
   {
    "duration": 381,
    "start_time": "2023-10-10T11:24:49.814Z"
   },
   {
    "duration": 17,
    "start_time": "2023-10-10T11:24:50.197Z"
   },
   {
    "duration": 34,
    "start_time": "2023-10-10T11:24:50.215Z"
   },
   {
    "duration": 16,
    "start_time": "2023-10-10T11:24:50.251Z"
   },
   {
    "duration": 413,
    "start_time": "2023-10-10T11:24:50.269Z"
   },
   {
    "duration": 19,
    "start_time": "2023-10-10T11:24:50.684Z"
   },
   {
    "duration": 176,
    "start_time": "2023-10-10T11:24:50.704Z"
   },
   {
    "duration": 71,
    "start_time": "2023-10-10T11:24:50.882Z"
   },
   {
    "duration": 7,
    "start_time": "2023-10-10T11:24:50.958Z"
   },
   {
    "duration": 776,
    "start_time": "2023-10-10T11:24:50.967Z"
   },
   {
    "duration": 2248,
    "start_time": "2023-10-10T11:24:51.745Z"
   },
   {
    "duration": 16,
    "start_time": "2023-10-10T11:24:53.995Z"
   },
   {
    "duration": 34,
    "start_time": "2023-10-10T11:24:54.013Z"
   },
   {
    "duration": 43,
    "start_time": "2023-10-10T11:24:54.050Z"
   },
   {
    "duration": 42,
    "start_time": "2023-10-10T11:24:54.095Z"
   },
   {
    "duration": 41,
    "start_time": "2023-10-10T11:24:54.138Z"
   },
   {
    "duration": 19,
    "start_time": "2023-10-10T11:24:54.181Z"
   },
   {
    "duration": 39,
    "start_time": "2023-10-10T11:24:54.202Z"
   },
   {
    "duration": 37,
    "start_time": "2023-10-10T11:24:54.244Z"
   },
   {
    "duration": 26,
    "start_time": "2023-10-10T11:24:54.283Z"
   },
   {
    "duration": 27,
    "start_time": "2023-10-10T11:24:54.312Z"
   },
   {
    "duration": 24,
    "start_time": "2023-10-10T11:24:54.341Z"
   },
   {
    "duration": 32,
    "start_time": "2023-10-10T11:24:54.367Z"
   },
   {
    "duration": 148,
    "start_time": "2023-10-10T11:25:53.783Z"
   },
   {
    "duration": 120,
    "start_time": "2023-10-10T11:26:29.756Z"
   },
   {
    "duration": 166,
    "start_time": "2023-10-10T11:33:00.080Z"
   },
   {
    "duration": 136,
    "start_time": "2023-10-10T11:34:01.933Z"
   },
   {
    "duration": 110,
    "start_time": "2023-10-10T11:34:10.606Z"
   },
   {
    "duration": 120,
    "start_time": "2023-10-10T11:34:17.924Z"
   },
   {
    "duration": 128,
    "start_time": "2023-10-10T11:34:28.690Z"
   },
   {
    "duration": 207,
    "start_time": "2023-10-10T11:34:36.529Z"
   },
   {
    "duration": 125,
    "start_time": "2023-10-10T11:34:40.929Z"
   },
   {
    "duration": 115,
    "start_time": "2023-10-10T11:34:59.015Z"
   },
   {
    "duration": 147,
    "start_time": "2023-10-10T11:35:09.634Z"
   },
   {
    "duration": 116,
    "start_time": "2023-10-10T11:35:16.511Z"
   },
   {
    "duration": 128,
    "start_time": "2023-10-10T11:35:25.185Z"
   },
   {
    "duration": 143,
    "start_time": "2023-10-10T11:35:32.729Z"
   },
   {
    "duration": 128,
    "start_time": "2023-10-10T11:35:38.178Z"
   },
   {
    "duration": 130,
    "start_time": "2023-10-10T11:35:43.028Z"
   },
   {
    "duration": 136,
    "start_time": "2023-10-10T11:35:56.151Z"
   },
   {
    "duration": 125,
    "start_time": "2023-10-10T11:36:01.682Z"
   },
   {
    "duration": 128,
    "start_time": "2023-10-10T11:36:06.843Z"
   },
   {
    "duration": 128,
    "start_time": "2023-10-10T11:36:12.901Z"
   },
   {
    "duration": 120,
    "start_time": "2023-10-10T11:36:17.910Z"
   },
   {
    "duration": 122,
    "start_time": "2023-10-10T11:36:22.605Z"
   },
   {
    "duration": 235,
    "start_time": "2023-10-10T11:37:30.137Z"
   },
   {
    "duration": 117,
    "start_time": "2023-10-10T11:37:42.689Z"
   },
   {
    "duration": 136,
    "start_time": "2023-10-10T11:37:49.447Z"
   },
   {
    "duration": 118,
    "start_time": "2023-10-10T11:38:05.905Z"
   },
   {
    "duration": 111,
    "start_time": "2023-10-10T11:38:57.450Z"
   },
   {
    "duration": 139,
    "start_time": "2023-10-10T11:39:10.532Z"
   },
   {
    "duration": 1611,
    "start_time": "2023-10-10T11:39:21.046Z"
   },
   {
    "duration": 116,
    "start_time": "2023-10-10T11:39:22.660Z"
   },
   {
    "duration": 20,
    "start_time": "2023-10-10T11:39:22.778Z"
   },
   {
    "duration": 39,
    "start_time": "2023-10-10T11:39:22.799Z"
   },
   {
    "duration": 19,
    "start_time": "2023-10-10T11:39:22.840Z"
   },
   {
    "duration": 51,
    "start_time": "2023-10-10T11:39:22.861Z"
   },
   {
    "duration": 51,
    "start_time": "2023-10-10T11:39:22.914Z"
   },
   {
    "duration": 55,
    "start_time": "2023-10-10T11:39:22.967Z"
   },
   {
    "duration": 73,
    "start_time": "2023-10-10T11:39:23.024Z"
   },
   {
    "duration": 34,
    "start_time": "2023-10-10T11:39:23.098Z"
   },
   {
    "duration": 41,
    "start_time": "2023-10-10T11:39:23.133Z"
   },
   {
    "duration": 16,
    "start_time": "2023-10-10T11:39:23.175Z"
   },
   {
    "duration": 22,
    "start_time": "2023-10-10T11:39:23.192Z"
   },
   {
    "duration": 27,
    "start_time": "2023-10-10T11:39:23.216Z"
   },
   {
    "duration": 32,
    "start_time": "2023-10-10T11:39:23.244Z"
   },
   {
    "duration": 74,
    "start_time": "2023-10-10T11:39:23.278Z"
   },
   {
    "duration": 109,
    "start_time": "2023-10-10T11:39:23.354Z"
   },
   {
    "duration": 42,
    "start_time": "2023-10-10T11:39:23.465Z"
   },
   {
    "duration": 50,
    "start_time": "2023-10-10T11:39:23.509Z"
   },
   {
    "duration": 20,
    "start_time": "2023-10-10T11:39:23.561Z"
   },
   {
    "duration": 511,
    "start_time": "2023-10-10T11:39:23.583Z"
   },
   {
    "duration": 27,
    "start_time": "2023-10-10T11:39:24.097Z"
   },
   {
    "duration": 28,
    "start_time": "2023-10-10T11:39:24.126Z"
   },
   {
    "duration": 12,
    "start_time": "2023-10-10T11:39:24.156Z"
   },
   {
    "duration": 18,
    "start_time": "2023-10-10T11:39:24.170Z"
   },
   {
    "duration": 15,
    "start_time": "2023-10-10T11:39:24.193Z"
   },
   {
    "duration": 47,
    "start_time": "2023-10-10T11:39:24.210Z"
   },
   {
    "duration": 187,
    "start_time": "2023-10-10T11:39:24.259Z"
   },
   {
    "duration": 155,
    "start_time": "2023-10-10T11:39:24.448Z"
   },
   {
    "duration": 24,
    "start_time": "2023-10-10T11:39:24.605Z"
   },
   {
    "duration": 16,
    "start_time": "2023-10-10T11:39:24.645Z"
   },
   {
    "duration": 25,
    "start_time": "2023-10-10T11:39:24.663Z"
   },
   {
    "duration": 61,
    "start_time": "2023-10-10T11:39:24.689Z"
   },
   {
    "duration": 38,
    "start_time": "2023-10-10T11:39:24.752Z"
   },
   {
    "duration": 257,
    "start_time": "2023-10-10T11:39:24.792Z"
   },
   {
    "duration": 12,
    "start_time": "2023-10-10T11:39:25.051Z"
   },
   {
    "duration": 27,
    "start_time": "2023-10-10T11:39:25.065Z"
   },
   {
    "duration": 46,
    "start_time": "2023-10-10T11:39:25.094Z"
   },
   {
    "duration": 55,
    "start_time": "2023-10-10T11:39:25.142Z"
   },
   {
    "duration": 31,
    "start_time": "2023-10-10T11:39:25.199Z"
   },
   {
    "duration": 438,
    "start_time": "2023-10-10T11:39:25.234Z"
   },
   {
    "duration": 22,
    "start_time": "2023-10-10T11:39:25.673Z"
   },
   {
    "duration": 83,
    "start_time": "2023-10-10T11:39:25.697Z"
   },
   {
    "duration": 206,
    "start_time": "2023-10-10T11:39:25.781Z"
   },
   {
    "duration": 179,
    "start_time": "2023-10-10T11:39:25.988Z"
   },
   {
    "duration": 416,
    "start_time": "2023-10-10T11:39:26.169Z"
   },
   {
    "duration": 17,
    "start_time": "2023-10-10T11:39:26.587Z"
   },
   {
    "duration": 17,
    "start_time": "2023-10-10T11:39:26.606Z"
   },
   {
    "duration": 116,
    "start_time": "2023-10-10T11:39:26.624Z"
   },
   {
    "duration": 513,
    "start_time": "2023-10-10T11:39:26.742Z"
   },
   {
    "duration": 18,
    "start_time": "2023-10-10T11:39:27.257Z"
   },
   {
    "duration": 194,
    "start_time": "2023-10-10T11:39:27.276Z"
   },
   {
    "duration": 52,
    "start_time": "2023-10-10T11:39:27.471Z"
   },
   {
    "duration": 6,
    "start_time": "2023-10-10T11:39:27.525Z"
   },
   {
    "duration": 775,
    "start_time": "2023-10-10T11:39:27.532Z"
   },
   {
    "duration": 2149,
    "start_time": "2023-10-10T11:39:28.309Z"
   },
   {
    "duration": 16,
    "start_time": "2023-10-10T11:39:30.460Z"
   },
   {
    "duration": 59,
    "start_time": "2023-10-10T11:39:30.478Z"
   },
   {
    "duration": 127,
    "start_time": "2023-10-10T11:39:30.539Z"
   },
   {
    "duration": 48,
    "start_time": "2023-10-10T11:39:30.667Z"
   },
   {
    "duration": 44,
    "start_time": "2023-10-10T11:39:30.716Z"
   },
   {
    "duration": 49,
    "start_time": "2023-10-10T11:39:30.762Z"
   },
   {
    "duration": 45,
    "start_time": "2023-10-10T11:39:30.813Z"
   },
   {
    "duration": 74,
    "start_time": "2023-10-10T11:39:30.860Z"
   },
   {
    "duration": 69,
    "start_time": "2023-10-10T11:39:30.935Z"
   },
   {
    "duration": 45,
    "start_time": "2023-10-10T11:39:31.005Z"
   },
   {
    "duration": 56,
    "start_time": "2023-10-10T11:39:31.051Z"
   },
   {
    "duration": 32,
    "start_time": "2023-10-10T11:39:31.110Z"
   },
   {
    "duration": 142,
    "start_time": "2023-10-10T11:42:06.919Z"
   },
   {
    "duration": 1469,
    "start_time": "2023-10-10T11:42:21.093Z"
   },
   {
    "duration": 99,
    "start_time": "2023-10-10T11:42:22.563Z"
   },
   {
    "duration": 18,
    "start_time": "2023-10-10T11:42:22.663Z"
   },
   {
    "duration": 52,
    "start_time": "2023-10-10T11:42:22.682Z"
   },
   {
    "duration": 41,
    "start_time": "2023-10-10T11:42:22.737Z"
   },
   {
    "duration": 54,
    "start_time": "2023-10-10T11:42:22.780Z"
   },
   {
    "duration": 48,
    "start_time": "2023-10-10T11:42:22.835Z"
   },
   {
    "duration": 57,
    "start_time": "2023-10-10T11:42:22.885Z"
   },
   {
    "duration": 37,
    "start_time": "2023-10-10T11:42:22.944Z"
   },
   {
    "duration": 31,
    "start_time": "2023-10-10T11:42:22.983Z"
   },
   {
    "duration": 64,
    "start_time": "2023-10-10T11:42:23.016Z"
   },
   {
    "duration": 12,
    "start_time": "2023-10-10T11:42:23.082Z"
   },
   {
    "duration": 72,
    "start_time": "2023-10-10T11:42:23.096Z"
   },
   {
    "duration": 40,
    "start_time": "2023-10-10T11:42:23.170Z"
   },
   {
    "duration": 39,
    "start_time": "2023-10-10T11:42:23.211Z"
   },
   {
    "duration": 44,
    "start_time": "2023-10-10T11:42:23.251Z"
   },
   {
    "duration": 32,
    "start_time": "2023-10-10T11:42:23.297Z"
   },
   {
    "duration": 25,
    "start_time": "2023-10-10T11:42:23.331Z"
   },
   {
    "duration": 54,
    "start_time": "2023-10-10T11:42:23.358Z"
   },
   {
    "duration": 39,
    "start_time": "2023-10-10T11:42:23.414Z"
   },
   {
    "duration": 489,
    "start_time": "2023-10-10T11:42:23.455Z"
   },
   {
    "duration": 23,
    "start_time": "2023-10-10T11:42:23.946Z"
   },
   {
    "duration": 41,
    "start_time": "2023-10-10T11:42:23.970Z"
   },
   {
    "duration": 55,
    "start_time": "2023-10-10T11:42:24.013Z"
   },
   {
    "duration": 36,
    "start_time": "2023-10-10T11:42:24.070Z"
   },
   {
    "duration": 43,
    "start_time": "2023-10-10T11:42:24.109Z"
   },
   {
    "duration": 32,
    "start_time": "2023-10-10T11:42:24.154Z"
   },
   {
    "duration": 178,
    "start_time": "2023-10-10T11:42:24.188Z"
   },
   {
    "duration": 23,
    "start_time": "2023-10-10T11:42:24.368Z"
   },
   {
    "duration": 48,
    "start_time": "2023-10-10T11:42:24.393Z"
   },
   {
    "duration": 30,
    "start_time": "2023-10-10T11:42:24.442Z"
   },
   {
    "duration": 58,
    "start_time": "2023-10-10T11:42:24.473Z"
   },
   {
    "duration": 35,
    "start_time": "2023-10-10T11:42:24.532Z"
   },
   {
    "duration": 154,
    "start_time": "2023-10-10T11:42:24.569Z"
   },
   {
    "duration": 9,
    "start_time": "2023-10-10T11:42:24.725Z"
   },
   {
    "duration": 37,
    "start_time": "2023-10-10T11:42:24.743Z"
   },
   {
    "duration": 35,
    "start_time": "2023-10-10T11:42:24.781Z"
   },
   {
    "duration": 31,
    "start_time": "2023-10-10T11:42:24.818Z"
   },
   {
    "duration": 28,
    "start_time": "2023-10-10T11:42:24.851Z"
   },
   {
    "duration": 423,
    "start_time": "2023-10-10T11:42:24.881Z"
   },
   {
    "duration": 21,
    "start_time": "2023-10-10T11:42:25.308Z"
   },
   {
    "duration": 47,
    "start_time": "2023-10-10T11:42:25.330Z"
   },
   {
    "duration": 68,
    "start_time": "2023-10-10T11:42:25.378Z"
   },
   {
    "duration": 17,
    "start_time": "2023-10-10T11:42:25.447Z"
   },
   {
    "duration": 394,
    "start_time": "2023-10-10T11:42:25.466Z"
   },
   {
    "duration": 18,
    "start_time": "2023-10-10T11:42:25.862Z"
   },
   {
    "duration": 46,
    "start_time": "2023-10-10T11:42:25.881Z"
   },
   {
    "duration": 27,
    "start_time": "2023-10-10T11:42:25.929Z"
   },
   {
    "duration": 416,
    "start_time": "2023-10-10T11:42:25.958Z"
   },
   {
    "duration": 18,
    "start_time": "2023-10-10T11:42:26.376Z"
   },
   {
    "duration": 162,
    "start_time": "2023-10-10T11:42:26.396Z"
   },
   {
    "duration": 52,
    "start_time": "2023-10-10T11:42:26.559Z"
   },
   {
    "duration": 5,
    "start_time": "2023-10-10T11:42:26.613Z"
   },
   {
    "duration": 756,
    "start_time": "2023-10-10T11:42:26.620Z"
   },
   {
    "duration": 2158,
    "start_time": "2023-10-10T11:42:27.378Z"
   },
   {
    "duration": 19,
    "start_time": "2023-10-10T11:42:29.538Z"
   },
   {
    "duration": 31,
    "start_time": "2023-10-10T11:42:29.559Z"
   },
   {
    "duration": 36,
    "start_time": "2023-10-10T11:42:29.591Z"
   },
   {
    "duration": 24,
    "start_time": "2023-10-10T11:42:29.629Z"
   },
   {
    "duration": 32,
    "start_time": "2023-10-10T11:42:29.654Z"
   },
   {
    "duration": 33,
    "start_time": "2023-10-10T11:42:29.687Z"
   },
   {
    "duration": 18,
    "start_time": "2023-10-10T11:42:29.721Z"
   },
   {
    "duration": 17,
    "start_time": "2023-10-10T11:42:29.740Z"
   },
   {
    "duration": 54,
    "start_time": "2023-10-10T11:42:29.758Z"
   },
   {
    "duration": 19,
    "start_time": "2023-10-10T11:42:29.814Z"
   },
   {
    "duration": 21,
    "start_time": "2023-10-10T11:42:29.834Z"
   },
   {
    "duration": 13,
    "start_time": "2023-10-10T11:42:29.856Z"
   },
   {
    "duration": 276,
    "start_time": "2023-10-10T11:47:09.189Z"
   },
   {
    "duration": 157,
    "start_time": "2023-10-10T11:47:20.310Z"
   },
   {
    "duration": 185,
    "start_time": "2023-10-10T11:47:30.434Z"
   },
   {
    "duration": 119,
    "start_time": "2023-10-10T11:47:43.391Z"
   },
   {
    "duration": 153,
    "start_time": "2023-10-10T11:48:20.207Z"
   },
   {
    "duration": 136,
    "start_time": "2023-10-10T11:48:37.976Z"
   },
   {
    "duration": 116,
    "start_time": "2023-10-10T11:48:45.598Z"
   },
   {
    "duration": 1619,
    "start_time": "2023-10-10T11:48:51.158Z"
   },
   {
    "duration": 107,
    "start_time": "2023-10-10T11:48:52.779Z"
   },
   {
    "duration": 19,
    "start_time": "2023-10-10T11:48:52.887Z"
   },
   {
    "duration": 61,
    "start_time": "2023-10-10T11:48:52.908Z"
   },
   {
    "duration": 9,
    "start_time": "2023-10-10T11:48:52.972Z"
   },
   {
    "duration": 18,
    "start_time": "2023-10-10T11:48:52.983Z"
   },
   {
    "duration": 15,
    "start_time": "2023-10-10T11:48:53.003Z"
   },
   {
    "duration": 34,
    "start_time": "2023-10-10T11:48:53.020Z"
   },
   {
    "duration": 33,
    "start_time": "2023-10-10T11:48:53.055Z"
   },
   {
    "duration": 18,
    "start_time": "2023-10-10T11:48:53.092Z"
   },
   {
    "duration": 57,
    "start_time": "2023-10-10T11:48:53.111Z"
   },
   {
    "duration": 10,
    "start_time": "2023-10-10T11:48:53.170Z"
   },
   {
    "duration": 15,
    "start_time": "2023-10-10T11:48:53.182Z"
   },
   {
    "duration": 21,
    "start_time": "2023-10-10T11:48:53.200Z"
   },
   {
    "duration": 21,
    "start_time": "2023-10-10T11:48:53.223Z"
   },
   {
    "duration": 19,
    "start_time": "2023-10-10T11:48:53.246Z"
   },
   {
    "duration": 28,
    "start_time": "2023-10-10T11:48:53.266Z"
   },
   {
    "duration": 21,
    "start_time": "2023-10-10T11:48:53.296Z"
   },
   {
    "duration": 39,
    "start_time": "2023-10-10T11:48:53.319Z"
   },
   {
    "duration": 14,
    "start_time": "2023-10-10T11:48:53.360Z"
   },
   {
    "duration": 564,
    "start_time": "2023-10-10T11:48:53.376Z"
   },
   {
    "duration": 25,
    "start_time": "2023-10-10T11:48:53.944Z"
   },
   {
    "duration": 19,
    "start_time": "2023-10-10T11:48:53.972Z"
   },
   {
    "duration": 29,
    "start_time": "2023-10-10T11:48:53.993Z"
   },
   {
    "duration": 44,
    "start_time": "2023-10-10T11:48:54.024Z"
   },
   {
    "duration": 20,
    "start_time": "2023-10-10T11:48:54.070Z"
   },
   {
    "duration": 30,
    "start_time": "2023-10-10T11:48:54.092Z"
   },
   {
    "duration": 179,
    "start_time": "2023-10-10T11:48:54.125Z"
   },
   {
    "duration": 178,
    "start_time": "2023-10-10T11:48:54.306Z"
   },
   {
    "duration": 26,
    "start_time": "2023-10-10T11:48:54.486Z"
   },
   {
    "duration": 21,
    "start_time": "2023-10-10T11:48:54.514Z"
   },
   {
    "duration": 18,
    "start_time": "2023-10-10T11:48:54.536Z"
   },
   {
    "duration": 42,
    "start_time": "2023-10-10T11:48:54.556Z"
   },
   {
    "duration": 28,
    "start_time": "2023-10-10T11:48:54.599Z"
   },
   {
    "duration": 246,
    "start_time": "2023-10-10T11:48:54.628Z"
   },
   {
    "duration": 9,
    "start_time": "2023-10-10T11:48:54.876Z"
   },
   {
    "duration": 16,
    "start_time": "2023-10-10T11:48:54.886Z"
   },
   {
    "duration": 20,
    "start_time": "2023-10-10T11:48:54.904Z"
   },
   {
    "duration": 22,
    "start_time": "2023-10-10T11:48:54.945Z"
   },
   {
    "duration": 14,
    "start_time": "2023-10-10T11:48:54.969Z"
   },
   {
    "duration": 394,
    "start_time": "2023-10-10T11:48:54.988Z"
   },
   {
    "duration": 22,
    "start_time": "2023-10-10T11:48:55.384Z"
   },
   {
    "duration": 20,
    "start_time": "2023-10-10T11:48:55.408Z"
   },
   {
    "duration": 33,
    "start_time": "2023-10-10T11:48:55.445Z"
   },
   {
    "duration": 13,
    "start_time": "2023-10-10T11:48:55.480Z"
   },
   {
    "duration": 383,
    "start_time": "2023-10-10T11:48:55.494Z"
   },
   {
    "duration": 18,
    "start_time": "2023-10-10T11:48:55.879Z"
   },
   {
    "duration": 35,
    "start_time": "2023-10-10T11:48:55.899Z"
   },
   {
    "duration": 24,
    "start_time": "2023-10-10T11:48:55.936Z"
   },
   {
    "duration": 447,
    "start_time": "2023-10-10T11:48:55.962Z"
   },
   {
    "duration": 18,
    "start_time": "2023-10-10T11:48:56.411Z"
   },
   {
    "duration": 180,
    "start_time": "2023-10-10T11:48:56.430Z"
   },
   {
    "duration": 61,
    "start_time": "2023-10-10T11:48:56.611Z"
   },
   {
    "duration": 5,
    "start_time": "2023-10-10T11:48:56.674Z"
   },
   {
    "duration": 717,
    "start_time": "2023-10-10T11:48:56.681Z"
   },
   {
    "duration": 2053,
    "start_time": "2023-10-10T11:48:57.400Z"
   },
   {
    "duration": 14,
    "start_time": "2023-10-10T11:48:59.455Z"
   },
   {
    "duration": 8,
    "start_time": "2023-10-10T11:48:59.471Z"
   },
   {
    "duration": 15,
    "start_time": "2023-10-10T11:48:59.480Z"
   },
   {
    "duration": 5,
    "start_time": "2023-10-10T11:48:59.496Z"
   },
   {
    "duration": 17,
    "start_time": "2023-10-10T11:48:59.502Z"
   },
   {
    "duration": 7,
    "start_time": "2023-10-10T11:48:59.544Z"
   },
   {
    "duration": 40,
    "start_time": "2023-10-10T11:48:59.552Z"
   },
   {
    "duration": 21,
    "start_time": "2023-10-10T11:48:59.594Z"
   },
   {
    "duration": 18,
    "start_time": "2023-10-10T11:48:59.616Z"
   },
   {
    "duration": 9,
    "start_time": "2023-10-10T11:48:59.636Z"
   },
   {
    "duration": 18,
    "start_time": "2023-10-10T11:48:59.647Z"
   },
   {
    "duration": 9,
    "start_time": "2023-10-10T11:48:59.667Z"
   },
   {
    "duration": 166,
    "start_time": "2023-10-10T11:49:41.018Z"
   },
   {
    "duration": 135,
    "start_time": "2023-10-10T11:49:48.363Z"
   },
   {
    "duration": 146,
    "start_time": "2023-10-10T11:50:50.287Z"
   },
   {
    "duration": 209,
    "start_time": "2023-10-10T11:51:04.182Z"
   },
   {
    "duration": 132,
    "start_time": "2023-10-10T11:51:11.719Z"
   },
   {
    "duration": 118,
    "start_time": "2023-10-10T11:51:58.729Z"
   },
   {
    "duration": 1505,
    "start_time": "2023-10-10T11:52:17.581Z"
   },
   {
    "duration": 102,
    "start_time": "2023-10-10T11:52:19.088Z"
   },
   {
    "duration": 19,
    "start_time": "2023-10-10T11:52:19.191Z"
   },
   {
    "duration": 22,
    "start_time": "2023-10-10T11:52:19.211Z"
   },
   {
    "duration": 21,
    "start_time": "2023-10-10T11:52:19.236Z"
   },
   {
    "duration": 20,
    "start_time": "2023-10-10T11:52:19.259Z"
   },
   {
    "duration": 16,
    "start_time": "2023-10-10T11:52:19.280Z"
   },
   {
    "duration": 41,
    "start_time": "2023-10-10T11:52:19.297Z"
   },
   {
    "duration": 30,
    "start_time": "2023-10-10T11:52:19.340Z"
   },
   {
    "duration": 16,
    "start_time": "2023-10-10T11:52:19.372Z"
   },
   {
    "duration": 52,
    "start_time": "2023-10-10T11:52:19.390Z"
   },
   {
    "duration": 11,
    "start_time": "2023-10-10T11:52:19.444Z"
   },
   {
    "duration": 32,
    "start_time": "2023-10-10T11:52:19.456Z"
   },
   {
    "duration": 10,
    "start_time": "2023-10-10T11:52:19.491Z"
   },
   {
    "duration": 57,
    "start_time": "2023-10-10T11:52:19.502Z"
   },
   {
    "duration": 29,
    "start_time": "2023-10-10T11:52:19.561Z"
   },
   {
    "duration": 11,
    "start_time": "2023-10-10T11:52:19.591Z"
   },
   {
    "duration": 15,
    "start_time": "2023-10-10T11:52:19.603Z"
   },
   {
    "duration": 16,
    "start_time": "2023-10-10T11:52:19.620Z"
   },
   {
    "duration": 8,
    "start_time": "2023-10-10T11:52:19.638Z"
   },
   {
    "duration": 482,
    "start_time": "2023-10-10T11:52:19.647Z"
   },
   {
    "duration": 31,
    "start_time": "2023-10-10T11:52:20.131Z"
   },
   {
    "duration": 11,
    "start_time": "2023-10-10T11:52:20.164Z"
   },
   {
    "duration": 12,
    "start_time": "2023-10-10T11:52:20.177Z"
   },
   {
    "duration": 16,
    "start_time": "2023-10-10T11:52:20.191Z"
   },
   {
    "duration": 22,
    "start_time": "2023-10-10T11:52:20.209Z"
   },
   {
    "duration": 16,
    "start_time": "2023-10-10T11:52:20.245Z"
   },
   {
    "duration": 168,
    "start_time": "2023-10-10T11:52:20.263Z"
   },
   {
    "duration": 31,
    "start_time": "2023-10-10T11:52:20.434Z"
   },
   {
    "duration": 30,
    "start_time": "2023-10-10T11:52:20.467Z"
   },
   {
    "duration": 46,
    "start_time": "2023-10-10T11:52:20.499Z"
   },
   {
    "duration": 34,
    "start_time": "2023-10-10T11:52:20.547Z"
   },
   {
    "duration": 62,
    "start_time": "2023-10-10T11:52:20.583Z"
   },
   {
    "duration": 31,
    "start_time": "2023-10-10T11:52:20.647Z"
   },
   {
    "duration": 183,
    "start_time": "2023-10-10T11:52:20.680Z"
   },
   {
    "duration": 10,
    "start_time": "2023-10-10T11:52:20.864Z"
   },
   {
    "duration": 47,
    "start_time": "2023-10-10T11:52:20.876Z"
   },
   {
    "duration": 33,
    "start_time": "2023-10-10T11:52:20.925Z"
   },
   {
    "duration": 56,
    "start_time": "2023-10-10T11:52:20.959Z"
   },
   {
    "duration": 41,
    "start_time": "2023-10-10T11:52:21.017Z"
   },
   {
    "duration": 447,
    "start_time": "2023-10-10T11:52:21.062Z"
   },
   {
    "duration": 35,
    "start_time": "2023-10-10T11:52:21.510Z"
   },
   {
    "duration": 11,
    "start_time": "2023-10-10T11:52:21.547Z"
   },
   {
    "duration": 47,
    "start_time": "2023-10-10T11:52:21.560Z"
   },
   {
    "duration": 18,
    "start_time": "2023-10-10T11:52:21.608Z"
   },
   {
    "duration": 395,
    "start_time": "2023-10-10T11:52:21.628Z"
   },
   {
    "duration": 25,
    "start_time": "2023-10-10T11:52:22.025Z"
   },
   {
    "duration": 18,
    "start_time": "2023-10-10T11:52:22.052Z"
   },
   {
    "duration": 47,
    "start_time": "2023-10-10T11:52:22.072Z"
   },
   {
    "duration": 420,
    "start_time": "2023-10-10T11:52:22.121Z"
   },
   {
    "duration": 18,
    "start_time": "2023-10-10T11:52:22.542Z"
   },
   {
    "duration": 194,
    "start_time": "2023-10-10T11:52:22.562Z"
   },
   {
    "duration": 54,
    "start_time": "2023-10-10T11:52:22.758Z"
   },
   {
    "duration": 5,
    "start_time": "2023-10-10T11:52:22.814Z"
   },
   {
    "duration": 756,
    "start_time": "2023-10-10T11:52:22.821Z"
   },
   {
    "duration": 2288,
    "start_time": "2023-10-10T11:52:23.578Z"
   },
   {
    "duration": 17,
    "start_time": "2023-10-10T11:52:25.868Z"
   },
   {
    "duration": 194,
    "start_time": "2023-10-10T11:52:25.887Z"
   },
   {
    "duration": 39,
    "start_time": "2023-10-10T11:52:26.083Z"
   },
   {
    "duration": 18,
    "start_time": "2023-10-10T11:52:26.124Z"
   },
   {
    "duration": 30,
    "start_time": "2023-10-10T11:52:26.144Z"
   },
   {
    "duration": 43,
    "start_time": "2023-10-10T11:52:26.177Z"
   },
   {
    "duration": 17,
    "start_time": "2023-10-10T11:52:26.222Z"
   },
   {
    "duration": 15,
    "start_time": "2023-10-10T11:52:26.241Z"
   },
   {
    "duration": 24,
    "start_time": "2023-10-10T11:52:26.258Z"
   },
   {
    "duration": 7,
    "start_time": "2023-10-10T11:52:26.284Z"
   },
   {
    "duration": 22,
    "start_time": "2023-10-10T11:52:26.293Z"
   },
   {
    "duration": 6,
    "start_time": "2023-10-10T11:52:26.317Z"
   },
   {
    "duration": 16,
    "start_time": "2023-10-10T11:52:56.667Z"
   },
   {
    "duration": 22,
    "start_time": "2023-10-10T11:53:14.341Z"
   },
   {
    "duration": 23,
    "start_time": "2023-10-10T11:55:00.912Z"
   },
   {
    "duration": 5,
    "start_time": "2023-10-10T11:58:44.953Z"
   },
   {
    "duration": 113,
    "start_time": "2023-10-10T12:01:00.127Z"
   },
   {
    "duration": 11,
    "start_time": "2023-10-10T12:03:25.323Z"
   },
   {
    "duration": 126,
    "start_time": "2023-10-10T12:04:47.502Z"
   },
   {
    "duration": 129,
    "start_time": "2023-10-10T12:05:20.170Z"
   },
   {
    "duration": 136,
    "start_time": "2023-10-10T12:05:56.881Z"
   },
   {
    "duration": 131,
    "start_time": "2023-10-10T12:06:05.186Z"
   },
   {
    "duration": 25,
    "start_time": "2023-10-10T12:07:45.733Z"
   },
   {
    "duration": 119,
    "start_time": "2023-10-10T12:09:52.094Z"
   },
   {
    "duration": 9,
    "start_time": "2023-10-10T12:10:09.323Z"
   },
   {
    "duration": 35,
    "start_time": "2023-10-10T12:10:27.727Z"
   },
   {
    "duration": 17,
    "start_time": "2023-10-10T12:10:47.946Z"
   },
   {
    "duration": 13,
    "start_time": "2023-10-10T12:11:51.800Z"
   },
   {
    "duration": 13,
    "start_time": "2023-10-10T12:11:57.095Z"
   },
   {
    "duration": 28,
    "start_time": "2023-10-10T12:12:09.423Z"
   },
   {
    "duration": 15,
    "start_time": "2023-10-10T12:12:14.557Z"
   },
   {
    "duration": 11,
    "start_time": "2023-10-10T12:12:32.757Z"
   },
   {
    "duration": 5,
    "start_time": "2023-10-10T12:12:56.337Z"
   },
   {
    "duration": 7,
    "start_time": "2023-10-10T12:13:00.974Z"
   },
   {
    "duration": 14,
    "start_time": "2023-10-10T12:13:06.229Z"
   },
   {
    "duration": 273,
    "start_time": "2023-10-10T12:21:19.583Z"
   },
   {
    "duration": 309,
    "start_time": "2023-10-10T12:21:29.086Z"
   },
   {
    "duration": 27,
    "start_time": "2023-10-10T12:26:58.867Z"
   },
   {
    "duration": 34,
    "start_time": "2023-10-10T12:28:03.025Z"
   },
   {
    "duration": 1676,
    "start_time": "2023-10-10T12:28:06.657Z"
   },
   {
    "duration": 106,
    "start_time": "2023-10-10T12:28:08.336Z"
   },
   {
    "duration": 23,
    "start_time": "2023-10-10T12:28:08.443Z"
   },
   {
    "duration": 36,
    "start_time": "2023-10-10T12:28:08.468Z"
   },
   {
    "duration": 30,
    "start_time": "2023-10-10T12:28:08.506Z"
   },
   {
    "duration": 34,
    "start_time": "2023-10-10T12:28:08.538Z"
   },
   {
    "duration": 27,
    "start_time": "2023-10-10T12:28:08.574Z"
   },
   {
    "duration": 44,
    "start_time": "2023-10-10T12:28:08.603Z"
   },
   {
    "duration": 34,
    "start_time": "2023-10-10T12:28:08.649Z"
   },
   {
    "duration": 17,
    "start_time": "2023-10-10T12:28:08.685Z"
   },
   {
    "duration": 52,
    "start_time": "2023-10-10T12:28:08.704Z"
   },
   {
    "duration": 12,
    "start_time": "2023-10-10T12:28:08.757Z"
   },
   {
    "duration": 25,
    "start_time": "2023-10-10T12:28:08.770Z"
   },
   {
    "duration": 18,
    "start_time": "2023-10-10T12:28:08.798Z"
   },
   {
    "duration": 19,
    "start_time": "2023-10-10T12:28:08.818Z"
   },
   {
    "duration": 15,
    "start_time": "2023-10-10T12:28:08.839Z"
   },
   {
    "duration": 23,
    "start_time": "2023-10-10T12:28:08.856Z"
   },
   {
    "duration": 14,
    "start_time": "2023-10-10T12:28:08.881Z"
   },
   {
    "duration": 19,
    "start_time": "2023-10-10T12:28:08.897Z"
   },
   {
    "duration": 30,
    "start_time": "2023-10-10T12:28:08.918Z"
   },
   {
    "duration": 489,
    "start_time": "2023-10-10T12:28:08.950Z"
   },
   {
    "duration": 23,
    "start_time": "2023-10-10T12:28:09.443Z"
   },
   {
    "duration": 10,
    "start_time": "2023-10-10T12:28:09.468Z"
   },
   {
    "duration": 37,
    "start_time": "2023-10-10T12:28:09.480Z"
   },
   {
    "duration": 15,
    "start_time": "2023-10-10T12:28:09.519Z"
   },
   {
    "duration": 17,
    "start_time": "2023-10-10T12:28:09.536Z"
   },
   {
    "duration": 15,
    "start_time": "2023-10-10T12:28:09.554Z"
   },
   {
    "duration": 27,
    "start_time": "2023-10-10T12:28:09.570Z"
   },
   {
    "duration": 61,
    "start_time": "2023-10-10T12:28:09.599Z"
   },
   {
    "duration": 25,
    "start_time": "2023-10-10T12:28:09.662Z"
   },
   {
    "duration": 20,
    "start_time": "2023-10-10T12:28:09.689Z"
   },
   {
    "duration": 27,
    "start_time": "2023-10-10T12:28:09.711Z"
   },
   {
    "duration": 25,
    "start_time": "2023-10-10T12:28:09.740Z"
   },
   {
    "duration": 32,
    "start_time": "2023-10-10T12:28:09.767Z"
   },
   {
    "duration": 30,
    "start_time": "2023-10-10T12:28:09.800Z"
   },
   {
    "duration": 192,
    "start_time": "2023-10-10T12:28:09.832Z"
   },
   {
    "duration": 18,
    "start_time": "2023-10-10T12:28:10.026Z"
   },
   {
    "duration": 19,
    "start_time": "2023-10-10T12:28:10.046Z"
   },
   {
    "duration": 23,
    "start_time": "2023-10-10T12:28:10.067Z"
   },
   {
    "duration": 12,
    "start_time": "2023-10-10T12:28:10.092Z"
   },
   {
    "duration": 14,
    "start_time": "2023-10-10T12:28:10.107Z"
   },
   {
    "duration": 444,
    "start_time": "2023-10-10T12:28:10.122Z"
   },
   {
    "duration": 20,
    "start_time": "2023-10-10T12:28:10.568Z"
   },
   {
    "duration": 17,
    "start_time": "2023-10-10T12:28:10.589Z"
   },
   {
    "duration": 38,
    "start_time": "2023-10-10T12:28:10.607Z"
   },
   {
    "duration": 14,
    "start_time": "2023-10-10T12:28:10.646Z"
   },
   {
    "duration": 388,
    "start_time": "2023-10-10T12:28:10.662Z"
   },
   {
    "duration": 17,
    "start_time": "2023-10-10T12:28:11.051Z"
   },
   {
    "duration": 33,
    "start_time": "2023-10-10T12:28:11.069Z"
   },
   {
    "duration": 15,
    "start_time": "2023-10-10T12:28:11.104Z"
   },
   {
    "duration": 387,
    "start_time": "2023-10-10T12:28:11.121Z"
   },
   {
    "duration": 17,
    "start_time": "2023-10-10T12:28:11.509Z"
   },
   {
    "duration": 165,
    "start_time": "2023-10-10T12:28:11.528Z"
   },
   {
    "duration": 319,
    "start_time": "2023-10-10T12:28:11.695Z"
   },
   {
    "duration": 5,
    "start_time": "2023-10-10T12:28:12.016Z"
   },
   {
    "duration": 852,
    "start_time": "2023-10-10T12:28:12.023Z"
   },
   {
    "duration": 2488,
    "start_time": "2023-10-10T12:28:12.877Z"
   },
   {
    "duration": 17,
    "start_time": "2023-10-10T12:28:15.367Z"
   },
   {
    "duration": 72,
    "start_time": "2023-10-10T12:28:15.385Z"
   },
   {
    "duration": 122,
    "start_time": "2023-10-10T12:28:15.459Z"
   },
   {
    "duration": 56,
    "start_time": "2023-10-10T12:28:15.583Z"
   },
   {
    "duration": 33,
    "start_time": "2023-10-10T12:28:15.641Z"
   },
   {
    "duration": 47,
    "start_time": "2023-10-10T12:28:15.676Z"
   },
   {
    "duration": 42,
    "start_time": "2023-10-10T12:28:15.725Z"
   },
   {
    "duration": 99,
    "start_time": "2023-10-10T12:28:15.769Z"
   },
   {
    "duration": 34,
    "start_time": "2023-10-10T12:28:15.870Z"
   },
   {
    "duration": 49,
    "start_time": "2023-10-10T12:28:15.906Z"
   },
   {
    "duration": 47,
    "start_time": "2023-10-10T12:28:15.957Z"
   },
   {
    "duration": 12,
    "start_time": "2023-10-10T12:28:16.006Z"
   },
   {
    "duration": 132,
    "start_time": "2023-10-10T12:28:53.426Z"
   },
   {
    "duration": 4,
    "start_time": "2023-10-10T12:29:22.976Z"
   },
   {
    "duration": 1573,
    "start_time": "2023-10-10T12:29:31.572Z"
   },
   {
    "duration": 120,
    "start_time": "2023-10-10T12:29:33.148Z"
   },
   {
    "duration": 18,
    "start_time": "2023-10-10T12:29:33.270Z"
   },
   {
    "duration": 23,
    "start_time": "2023-10-10T12:29:33.289Z"
   },
   {
    "duration": 26,
    "start_time": "2023-10-10T12:29:33.314Z"
   },
   {
    "duration": 18,
    "start_time": "2023-10-10T12:29:33.341Z"
   },
   {
    "duration": 20,
    "start_time": "2023-10-10T12:29:33.361Z"
   },
   {
    "duration": 30,
    "start_time": "2023-10-10T12:29:33.383Z"
   },
   {
    "duration": 50,
    "start_time": "2023-10-10T12:29:33.415Z"
   },
   {
    "duration": 16,
    "start_time": "2023-10-10T12:29:33.466Z"
   },
   {
    "duration": 27,
    "start_time": "2023-10-10T12:29:33.484Z"
   },
   {
    "duration": 10,
    "start_time": "2023-10-10T12:29:33.513Z"
   },
   {
    "duration": 42,
    "start_time": "2023-10-10T12:29:33.525Z"
   },
   {
    "duration": 15,
    "start_time": "2023-10-10T12:29:33.571Z"
   },
   {
    "duration": 21,
    "start_time": "2023-10-10T12:29:33.587Z"
   },
   {
    "duration": 44,
    "start_time": "2023-10-10T12:29:33.610Z"
   },
   {
    "duration": 7,
    "start_time": "2023-10-10T12:29:33.656Z"
   },
   {
    "duration": 19,
    "start_time": "2023-10-10T12:29:33.664Z"
   },
   {
    "duration": 30,
    "start_time": "2023-10-10T12:29:33.685Z"
   },
   {
    "duration": 13,
    "start_time": "2023-10-10T12:29:33.716Z"
   },
   {
    "duration": 549,
    "start_time": "2023-10-10T12:29:33.730Z"
   },
   {
    "duration": 30,
    "start_time": "2023-10-10T12:29:34.281Z"
   },
   {
    "duration": 16,
    "start_time": "2023-10-10T12:29:34.313Z"
   },
   {
    "duration": 25,
    "start_time": "2023-10-10T12:29:34.345Z"
   },
   {
    "duration": 52,
    "start_time": "2023-10-10T12:29:34.372Z"
   },
   {
    "duration": 27,
    "start_time": "2023-10-10T12:29:34.426Z"
   },
   {
    "duration": 38,
    "start_time": "2023-10-10T12:29:34.455Z"
   },
   {
    "duration": 25,
    "start_time": "2023-10-10T12:29:34.495Z"
   },
   {
    "duration": 53,
    "start_time": "2023-10-10T12:29:34.521Z"
   },
   {
    "duration": 27,
    "start_time": "2023-10-10T12:29:34.576Z"
   },
   {
    "duration": 6,
    "start_time": "2023-10-10T12:29:34.605Z"
   },
   {
    "duration": 18,
    "start_time": "2023-10-10T12:29:34.612Z"
   },
   {
    "duration": 30,
    "start_time": "2023-10-10T12:29:34.632Z"
   },
   {
    "duration": 46,
    "start_time": "2023-10-10T12:29:34.664Z"
   },
   {
    "duration": 28,
    "start_time": "2023-10-10T12:29:34.711Z"
   },
   {
    "duration": 214,
    "start_time": "2023-10-10T12:29:34.741Z"
   },
   {
    "duration": 9,
    "start_time": "2023-10-10T12:29:34.958Z"
   },
   {
    "duration": 29,
    "start_time": "2023-10-10T12:29:34.969Z"
   },
   {
    "duration": 69,
    "start_time": "2023-10-10T12:29:34.999Z"
   },
   {
    "duration": 36,
    "start_time": "2023-10-10T12:29:35.069Z"
   },
   {
    "duration": 29,
    "start_time": "2023-10-10T12:29:35.110Z"
   },
   {
    "duration": 442,
    "start_time": "2023-10-10T12:29:35.141Z"
   },
   {
    "duration": 22,
    "start_time": "2023-10-10T12:29:35.585Z"
   },
   {
    "duration": 30,
    "start_time": "2023-10-10T12:29:35.609Z"
   },
   {
    "duration": 38,
    "start_time": "2023-10-10T12:29:35.640Z"
   },
   {
    "duration": 14,
    "start_time": "2023-10-10T12:29:35.679Z"
   },
   {
    "duration": 498,
    "start_time": "2023-10-10T12:29:35.695Z"
   },
   {
    "duration": 16,
    "start_time": "2023-10-10T12:29:36.195Z"
   },
   {
    "duration": 58,
    "start_time": "2023-10-10T12:29:36.213Z"
   },
   {
    "duration": 47,
    "start_time": "2023-10-10T12:29:36.272Z"
   },
   {
    "duration": 374,
    "start_time": "2023-10-10T12:29:36.322Z"
   },
   {
    "duration": 18,
    "start_time": "2023-10-10T12:29:36.698Z"
   },
   {
    "duration": 204,
    "start_time": "2023-10-10T12:29:36.718Z"
   },
   {
    "duration": 159,
    "start_time": "2023-10-10T12:29:36.923Z"
   },
   {
    "duration": 0,
    "start_time": "2023-10-10T12:29:37.084Z"
   },
   {
    "duration": 0,
    "start_time": "2023-10-10T12:29:37.085Z"
   },
   {
    "duration": 0,
    "start_time": "2023-10-10T12:29:37.086Z"
   },
   {
    "duration": 0,
    "start_time": "2023-10-10T12:29:37.087Z"
   },
   {
    "duration": 0,
    "start_time": "2023-10-10T12:29:37.088Z"
   },
   {
    "duration": 0,
    "start_time": "2023-10-10T12:29:37.089Z"
   },
   {
    "duration": 0,
    "start_time": "2023-10-10T12:29:37.089Z"
   },
   {
    "duration": 0,
    "start_time": "2023-10-10T12:29:37.090Z"
   },
   {
    "duration": 0,
    "start_time": "2023-10-10T12:29:37.091Z"
   },
   {
    "duration": 0,
    "start_time": "2023-10-10T12:29:37.092Z"
   },
   {
    "duration": 0,
    "start_time": "2023-10-10T12:29:37.093Z"
   },
   {
    "duration": 0,
    "start_time": "2023-10-10T12:29:37.094Z"
   },
   {
    "duration": 0,
    "start_time": "2023-10-10T12:29:37.095Z"
   },
   {
    "duration": 0,
    "start_time": "2023-10-10T12:29:37.096Z"
   },
   {
    "duration": 0,
    "start_time": "2023-10-10T12:29:37.097Z"
   },
   {
    "duration": 3099,
    "start_time": "2023-10-10T12:30:36.521Z"
   },
   {
    "duration": 1493,
    "start_time": "2023-10-10T12:30:50.177Z"
   },
   {
    "duration": 102,
    "start_time": "2023-10-10T12:30:51.672Z"
   },
   {
    "duration": 18,
    "start_time": "2023-10-10T12:30:51.776Z"
   },
   {
    "duration": 26,
    "start_time": "2023-10-10T12:30:51.797Z"
   },
   {
    "duration": 16,
    "start_time": "2023-10-10T12:30:51.825Z"
   },
   {
    "duration": 44,
    "start_time": "2023-10-10T12:30:51.842Z"
   },
   {
    "duration": 49,
    "start_time": "2023-10-10T12:30:51.888Z"
   },
   {
    "duration": 27,
    "start_time": "2023-10-10T12:30:51.939Z"
   },
   {
    "duration": 35,
    "start_time": "2023-10-10T12:30:51.967Z"
   },
   {
    "duration": 17,
    "start_time": "2023-10-10T12:30:52.004Z"
   },
   {
    "duration": 47,
    "start_time": "2023-10-10T12:30:52.022Z"
   },
   {
    "duration": 12,
    "start_time": "2023-10-10T12:30:52.071Z"
   },
   {
    "duration": 36,
    "start_time": "2023-10-10T12:30:52.084Z"
   },
   {
    "duration": 15,
    "start_time": "2023-10-10T12:30:52.122Z"
   },
   {
    "duration": 23,
    "start_time": "2023-10-10T12:30:52.138Z"
   },
   {
    "duration": 40,
    "start_time": "2023-10-10T12:30:52.162Z"
   },
   {
    "duration": 39,
    "start_time": "2023-10-10T12:30:52.203Z"
   },
   {
    "duration": 55,
    "start_time": "2023-10-10T12:30:52.243Z"
   },
   {
    "duration": 36,
    "start_time": "2023-10-10T12:30:52.300Z"
   },
   {
    "duration": 14,
    "start_time": "2023-10-10T12:30:52.338Z"
   },
   {
    "duration": 462,
    "start_time": "2023-10-10T12:30:52.354Z"
   },
   {
    "duration": 29,
    "start_time": "2023-10-10T12:30:52.818Z"
   },
   {
    "duration": 15,
    "start_time": "2023-10-10T12:30:52.849Z"
   },
   {
    "duration": 28,
    "start_time": "2023-10-10T12:30:52.866Z"
   },
   {
    "duration": 38,
    "start_time": "2023-10-10T12:30:52.895Z"
   },
   {
    "duration": 34,
    "start_time": "2023-10-10T12:30:52.934Z"
   },
   {
    "duration": 29,
    "start_time": "2023-10-10T12:30:52.970Z"
   },
   {
    "duration": 28,
    "start_time": "2023-10-10T12:30:53.003Z"
   },
   {
    "duration": 35,
    "start_time": "2023-10-10T12:30:53.033Z"
   },
   {
    "duration": 30,
    "start_time": "2023-10-10T12:30:53.070Z"
   },
   {
    "duration": 4,
    "start_time": "2023-10-10T12:30:53.102Z"
   },
   {
    "duration": 17,
    "start_time": "2023-10-10T12:30:53.107Z"
   },
   {
    "duration": 26,
    "start_time": "2023-10-10T12:30:53.126Z"
   },
   {
    "duration": 31,
    "start_time": "2023-10-10T12:30:53.154Z"
   },
   {
    "duration": 33,
    "start_time": "2023-10-10T12:30:53.187Z"
   },
   {
    "duration": 166,
    "start_time": "2023-10-10T12:30:53.222Z"
   },
   {
    "duration": 8,
    "start_time": "2023-10-10T12:30:53.389Z"
   },
   {
    "duration": 40,
    "start_time": "2023-10-10T12:30:53.399Z"
   },
   {
    "duration": 32,
    "start_time": "2023-10-10T12:30:53.440Z"
   },
   {
    "duration": 12,
    "start_time": "2023-10-10T12:30:53.473Z"
   },
   {
    "duration": 21,
    "start_time": "2023-10-10T12:30:53.487Z"
   },
   {
    "duration": 366,
    "start_time": "2023-10-10T12:30:53.510Z"
   },
   {
    "duration": 27,
    "start_time": "2023-10-10T12:30:53.877Z"
   },
   {
    "duration": 17,
    "start_time": "2023-10-10T12:30:53.906Z"
   },
   {
    "duration": 36,
    "start_time": "2023-10-10T12:30:53.924Z"
   },
   {
    "duration": 14,
    "start_time": "2023-10-10T12:30:53.962Z"
   },
   {
    "duration": 500,
    "start_time": "2023-10-10T12:30:53.978Z"
   },
   {
    "duration": 17,
    "start_time": "2023-10-10T12:30:54.480Z"
   },
   {
    "duration": 15,
    "start_time": "2023-10-10T12:30:54.498Z"
   },
   {
    "duration": 31,
    "start_time": "2023-10-10T12:30:54.514Z"
   },
   {
    "duration": 365,
    "start_time": "2023-10-10T12:30:54.547Z"
   },
   {
    "duration": 17,
    "start_time": "2023-10-10T12:30:54.913Z"
   },
   {
    "duration": 172,
    "start_time": "2023-10-10T12:30:54.931Z"
   },
   {
    "duration": 140,
    "start_time": "2023-10-10T12:30:55.105Z"
   },
   {
    "duration": 0,
    "start_time": "2023-10-10T12:30:55.247Z"
   },
   {
    "duration": 0,
    "start_time": "2023-10-10T12:30:55.248Z"
   },
   {
    "duration": 0,
    "start_time": "2023-10-10T12:30:55.249Z"
   },
   {
    "duration": 0,
    "start_time": "2023-10-10T12:30:55.250Z"
   },
   {
    "duration": 0,
    "start_time": "2023-10-10T12:30:55.251Z"
   },
   {
    "duration": 0,
    "start_time": "2023-10-10T12:30:55.252Z"
   },
   {
    "duration": 0,
    "start_time": "2023-10-10T12:30:55.252Z"
   },
   {
    "duration": 0,
    "start_time": "2023-10-10T12:30:55.253Z"
   },
   {
    "duration": 0,
    "start_time": "2023-10-10T12:30:55.254Z"
   },
   {
    "duration": 0,
    "start_time": "2023-10-10T12:30:55.255Z"
   },
   {
    "duration": 0,
    "start_time": "2023-10-10T12:30:55.256Z"
   },
   {
    "duration": 0,
    "start_time": "2023-10-10T12:30:55.257Z"
   },
   {
    "duration": 0,
    "start_time": "2023-10-10T12:30:55.258Z"
   },
   {
    "duration": 0,
    "start_time": "2023-10-10T12:30:55.259Z"
   },
   {
    "duration": 0,
    "start_time": "2023-10-10T12:30:55.261Z"
   },
   {
    "duration": 23,
    "start_time": "2023-10-10T12:32:28.095Z"
   },
   {
    "duration": 7,
    "start_time": "2023-10-10T12:32:29.933Z"
   },
   {
    "duration": 1801,
    "start_time": "2023-10-10T12:32:33.725Z"
   },
   {
    "duration": 114,
    "start_time": "2023-10-10T12:32:35.528Z"
   },
   {
    "duration": 20,
    "start_time": "2023-10-10T12:32:35.644Z"
   },
   {
    "duration": 33,
    "start_time": "2023-10-10T12:32:35.666Z"
   },
   {
    "duration": 16,
    "start_time": "2023-10-10T12:32:35.701Z"
   },
   {
    "duration": 15,
    "start_time": "2023-10-10T12:32:35.719Z"
   },
   {
    "duration": 20,
    "start_time": "2023-10-10T12:32:35.736Z"
   },
   {
    "duration": 57,
    "start_time": "2023-10-10T12:32:35.758Z"
   },
   {
    "duration": 82,
    "start_time": "2023-10-10T12:32:35.817Z"
   },
   {
    "duration": 58,
    "start_time": "2023-10-10T12:32:35.901Z"
   },
   {
    "duration": 50,
    "start_time": "2023-10-10T12:32:35.961Z"
   },
   {
    "duration": 37,
    "start_time": "2023-10-10T12:32:36.013Z"
   },
   {
    "duration": 26,
    "start_time": "2023-10-10T12:32:36.051Z"
   },
   {
    "duration": 61,
    "start_time": "2023-10-10T12:32:36.080Z"
   },
   {
    "duration": 32,
    "start_time": "2023-10-10T12:32:36.142Z"
   },
   {
    "duration": 32,
    "start_time": "2023-10-10T12:32:36.176Z"
   },
   {
    "duration": 33,
    "start_time": "2023-10-10T12:32:36.210Z"
   },
   {
    "duration": 76,
    "start_time": "2023-10-10T12:32:36.245Z"
   },
   {
    "duration": 34,
    "start_time": "2023-10-10T12:32:36.322Z"
   },
   {
    "duration": 13,
    "start_time": "2023-10-10T12:32:36.358Z"
   },
   {
    "duration": 556,
    "start_time": "2023-10-10T12:32:36.373Z"
   },
   {
    "duration": 36,
    "start_time": "2023-10-10T12:32:36.930Z"
   },
   {
    "duration": 11,
    "start_time": "2023-10-10T12:32:36.968Z"
   },
   {
    "duration": 34,
    "start_time": "2023-10-10T12:32:36.981Z"
   },
   {
    "duration": 19,
    "start_time": "2023-10-10T12:32:37.017Z"
   },
   {
    "duration": 13,
    "start_time": "2023-10-10T12:32:37.044Z"
   },
   {
    "duration": 20,
    "start_time": "2023-10-10T12:32:37.059Z"
   },
   {
    "duration": 15,
    "start_time": "2023-10-10T12:32:37.081Z"
   },
   {
    "duration": 31,
    "start_time": "2023-10-10T12:32:37.098Z"
   },
   {
    "duration": 40,
    "start_time": "2023-10-10T12:32:37.131Z"
   },
   {
    "duration": 25,
    "start_time": "2023-10-10T12:32:37.173Z"
   },
   {
    "duration": 23,
    "start_time": "2023-10-10T12:32:37.200Z"
   },
   {
    "duration": 29,
    "start_time": "2023-10-10T12:32:37.225Z"
   },
   {
    "duration": 46,
    "start_time": "2023-10-10T12:32:37.256Z"
   },
   {
    "duration": 28,
    "start_time": "2023-10-10T12:32:37.304Z"
   },
   {
    "duration": 202,
    "start_time": "2023-10-10T12:32:37.334Z"
   },
   {
    "duration": 16,
    "start_time": "2023-10-10T12:32:37.538Z"
   },
   {
    "duration": 23,
    "start_time": "2023-10-10T12:32:37.557Z"
   },
   {
    "duration": 21,
    "start_time": "2023-10-10T12:32:37.582Z"
   },
   {
    "duration": 23,
    "start_time": "2023-10-10T12:32:37.605Z"
   },
   {
    "duration": 28,
    "start_time": "2023-10-10T12:32:37.632Z"
   },
   {
    "duration": 436,
    "start_time": "2023-10-10T12:32:37.662Z"
   },
   {
    "duration": 23,
    "start_time": "2023-10-10T12:32:38.099Z"
   },
   {
    "duration": 42,
    "start_time": "2023-10-10T12:32:38.124Z"
   },
   {
    "duration": 32,
    "start_time": "2023-10-10T12:32:38.167Z"
   },
   {
    "duration": 16,
    "start_time": "2023-10-10T12:32:38.201Z"
   },
   {
    "duration": 462,
    "start_time": "2023-10-10T12:32:38.218Z"
   },
   {
    "duration": 16,
    "start_time": "2023-10-10T12:32:38.682Z"
   },
   {
    "duration": 37,
    "start_time": "2023-10-10T12:32:38.700Z"
   },
   {
    "duration": 15,
    "start_time": "2023-10-10T12:32:38.739Z"
   },
   {
    "duration": 399,
    "start_time": "2023-10-10T12:32:38.756Z"
   },
   {
    "duration": 19,
    "start_time": "2023-10-10T12:32:39.157Z"
   },
   {
    "duration": 189,
    "start_time": "2023-10-10T12:32:39.178Z"
   },
   {
    "duration": 45,
    "start_time": "2023-10-10T12:32:39.369Z"
   },
   {
    "duration": 5,
    "start_time": "2023-10-10T12:32:39.416Z"
   },
   {
    "duration": 793,
    "start_time": "2023-10-10T12:32:39.422Z"
   },
   {
    "duration": 2242,
    "start_time": "2023-10-10T12:32:40.217Z"
   },
   {
    "duration": 15,
    "start_time": "2023-10-10T12:32:42.461Z"
   },
   {
    "duration": 10,
    "start_time": "2023-10-10T12:32:42.478Z"
   },
   {
    "duration": 34,
    "start_time": "2023-10-10T12:32:42.489Z"
   },
   {
    "duration": 7,
    "start_time": "2023-10-10T12:32:42.524Z"
   },
   {
    "duration": 35,
    "start_time": "2023-10-10T12:32:42.533Z"
   },
   {
    "duration": 40,
    "start_time": "2023-10-10T12:32:42.570Z"
   },
   {
    "duration": 28,
    "start_time": "2023-10-10T12:32:42.612Z"
   },
   {
    "duration": 37,
    "start_time": "2023-10-10T12:32:42.642Z"
   },
   {
    "duration": 25,
    "start_time": "2023-10-10T12:32:42.681Z"
   },
   {
    "duration": 21,
    "start_time": "2023-10-10T12:32:42.707Z"
   },
   {
    "duration": 14,
    "start_time": "2023-10-10T12:32:42.729Z"
   },
   {
    "duration": 11,
    "start_time": "2023-10-10T12:32:42.745Z"
   },
   {
    "duration": 5,
    "start_time": "2023-10-10T12:38:43.276Z"
   },
   {
    "duration": 19,
    "start_time": "2023-10-10T12:39:14.592Z"
   },
   {
    "duration": 6,
    "start_time": "2023-10-10T12:39:51.135Z"
   },
   {
    "duration": 17,
    "start_time": "2023-10-10T12:41:36.773Z"
   },
   {
    "duration": 115,
    "start_time": "2023-10-10T12:43:08.307Z"
   },
   {
    "duration": 5,
    "start_time": "2023-10-10T12:43:14.125Z"
   },
   {
    "duration": 11,
    "start_time": "2023-10-10T12:43:34.275Z"
   },
   {
    "duration": 1518,
    "start_time": "2023-10-10T12:44:30.370Z"
   },
   {
    "duration": 100,
    "start_time": "2023-10-10T12:44:31.890Z"
   },
   {
    "duration": 17,
    "start_time": "2023-10-10T12:44:31.992Z"
   },
   {
    "duration": 52,
    "start_time": "2023-10-10T12:44:32.011Z"
   },
   {
    "duration": 47,
    "start_time": "2023-10-10T12:44:32.065Z"
   },
   {
    "duration": 86,
    "start_time": "2023-10-10T12:44:32.114Z"
   },
   {
    "duration": 52,
    "start_time": "2023-10-10T12:44:32.201Z"
   },
   {
    "duration": 61,
    "start_time": "2023-10-10T12:44:32.255Z"
   },
   {
    "duration": 81,
    "start_time": "2023-10-10T12:44:32.318Z"
   },
   {
    "duration": 137,
    "start_time": "2023-10-10T12:44:32.401Z"
   },
   {
    "duration": 67,
    "start_time": "2023-10-10T12:44:32.540Z"
   },
   {
    "duration": 37,
    "start_time": "2023-10-10T12:44:32.609Z"
   },
   {
    "duration": 26,
    "start_time": "2023-10-10T12:44:32.647Z"
   },
   {
    "duration": 35,
    "start_time": "2023-10-10T12:44:32.676Z"
   },
   {
    "duration": 30,
    "start_time": "2023-10-10T12:44:32.712Z"
   },
   {
    "duration": 25,
    "start_time": "2023-10-10T12:44:32.743Z"
   },
   {
    "duration": 30,
    "start_time": "2023-10-10T12:44:32.770Z"
   },
   {
    "duration": 30,
    "start_time": "2023-10-10T12:44:32.802Z"
   },
   {
    "duration": 28,
    "start_time": "2023-10-10T12:44:32.834Z"
   },
   {
    "duration": 7,
    "start_time": "2023-10-10T12:44:32.863Z"
   },
   {
    "duration": 465,
    "start_time": "2023-10-10T12:44:32.872Z"
   },
   {
    "duration": 27,
    "start_time": "2023-10-10T12:44:33.339Z"
   },
   {
    "duration": 12,
    "start_time": "2023-10-10T12:44:33.370Z"
   },
   {
    "duration": 19,
    "start_time": "2023-10-10T12:44:33.385Z"
   },
   {
    "duration": 30,
    "start_time": "2023-10-10T12:44:33.406Z"
   },
   {
    "duration": 31,
    "start_time": "2023-10-10T12:44:33.438Z"
   },
   {
    "duration": 36,
    "start_time": "2023-10-10T12:44:33.471Z"
   },
   {
    "duration": 30,
    "start_time": "2023-10-10T12:44:33.508Z"
   },
   {
    "duration": 75,
    "start_time": "2023-10-10T12:44:33.539Z"
   },
   {
    "duration": 54,
    "start_time": "2023-10-10T12:44:33.616Z"
   },
   {
    "duration": 38,
    "start_time": "2023-10-10T12:44:33.672Z"
   },
   {
    "duration": 38,
    "start_time": "2023-10-10T12:44:33.711Z"
   },
   {
    "duration": 40,
    "start_time": "2023-10-10T12:44:33.751Z"
   },
   {
    "duration": 70,
    "start_time": "2023-10-10T12:44:33.793Z"
   },
   {
    "duration": 59,
    "start_time": "2023-10-10T12:44:33.864Z"
   },
   {
    "duration": 28,
    "start_time": "2023-10-10T12:44:33.925Z"
   },
   {
    "duration": 200,
    "start_time": "2023-10-10T12:44:33.955Z"
   },
   {
    "duration": 10,
    "start_time": "2023-10-10T12:44:34.157Z"
   },
   {
    "duration": 48,
    "start_time": "2023-10-10T12:44:34.169Z"
   },
   {
    "duration": 40,
    "start_time": "2023-10-10T12:44:34.219Z"
   },
   {
    "duration": 26,
    "start_time": "2023-10-10T12:44:34.263Z"
   },
   {
    "duration": 31,
    "start_time": "2023-10-10T12:44:34.291Z"
   },
   {
    "duration": 401,
    "start_time": "2023-10-10T12:44:34.323Z"
   },
   {
    "duration": 24,
    "start_time": "2023-10-10T12:44:34.725Z"
   },
   {
    "duration": 11,
    "start_time": "2023-10-10T12:44:34.751Z"
   },
   {
    "duration": 33,
    "start_time": "2023-10-10T12:44:34.764Z"
   },
   {
    "duration": 14,
    "start_time": "2023-10-10T12:44:34.798Z"
   },
   {
    "duration": 459,
    "start_time": "2023-10-10T12:44:34.813Z"
   },
   {
    "duration": 16,
    "start_time": "2023-10-10T12:44:35.274Z"
   },
   {
    "duration": 15,
    "start_time": "2023-10-10T12:44:35.291Z"
   },
   {
    "duration": 20,
    "start_time": "2023-10-10T12:44:35.308Z"
   },
   {
    "duration": 367,
    "start_time": "2023-10-10T12:44:35.344Z"
   },
   {
    "duration": 17,
    "start_time": "2023-10-10T12:44:35.712Z"
   },
   {
    "duration": 172,
    "start_time": "2023-10-10T12:44:35.730Z"
   },
   {
    "duration": 57,
    "start_time": "2023-10-10T12:44:35.903Z"
   },
   {
    "duration": 5,
    "start_time": "2023-10-10T12:44:35.962Z"
   },
   {
    "duration": 770,
    "start_time": "2023-10-10T12:44:35.969Z"
   },
   {
    "duration": 2229,
    "start_time": "2023-10-10T12:44:36.741Z"
   },
   {
    "duration": 17,
    "start_time": "2023-10-10T12:44:38.972Z"
   },
   {
    "duration": 45,
    "start_time": "2023-10-10T12:44:38.991Z"
   },
   {
    "duration": 37,
    "start_time": "2023-10-10T12:44:39.038Z"
   },
   {
    "duration": 21,
    "start_time": "2023-10-10T12:44:39.077Z"
   },
   {
    "duration": 22,
    "start_time": "2023-10-10T12:44:39.099Z"
   },
   {
    "duration": 22,
    "start_time": "2023-10-10T12:44:39.123Z"
   },
   {
    "duration": 14,
    "start_time": "2023-10-10T12:44:39.147Z"
   },
   {
    "duration": 35,
    "start_time": "2023-10-10T12:44:39.163Z"
   },
   {
    "duration": 25,
    "start_time": "2023-10-10T12:44:39.200Z"
   },
   {
    "duration": 24,
    "start_time": "2023-10-10T12:44:39.227Z"
   },
   {
    "duration": 40,
    "start_time": "2023-10-10T12:44:39.253Z"
   },
   {
    "duration": 20,
    "start_time": "2023-10-10T12:44:39.295Z"
   },
   {
    "duration": 17,
    "start_time": "2023-10-10T12:46:43.959Z"
   },
   {
    "duration": 28,
    "start_time": "2023-10-10T12:49:18.252Z"
   },
   {
    "duration": 1444,
    "start_time": "2023-10-10T12:49:35.255Z"
   },
   {
    "duration": 98,
    "start_time": "2023-10-10T12:49:36.701Z"
   },
   {
    "duration": 18,
    "start_time": "2023-10-10T12:49:36.800Z"
   },
   {
    "duration": 17,
    "start_time": "2023-10-10T12:49:36.820Z"
   },
   {
    "duration": 9,
    "start_time": "2023-10-10T12:49:36.839Z"
   },
   {
    "duration": 22,
    "start_time": "2023-10-10T12:49:36.849Z"
   },
   {
    "duration": 24,
    "start_time": "2023-10-10T12:49:36.872Z"
   },
   {
    "duration": 27,
    "start_time": "2023-10-10T12:49:36.897Z"
   },
   {
    "duration": 34,
    "start_time": "2023-10-10T12:49:36.925Z"
   },
   {
    "duration": 16,
    "start_time": "2023-10-10T12:49:36.960Z"
   },
   {
    "duration": 40,
    "start_time": "2023-10-10T12:49:36.977Z"
   },
   {
    "duration": 12,
    "start_time": "2023-10-10T12:49:37.019Z"
   },
   {
    "duration": 14,
    "start_time": "2023-10-10T12:49:37.043Z"
   },
   {
    "duration": 9,
    "start_time": "2023-10-10T12:49:37.060Z"
   },
   {
    "duration": 14,
    "start_time": "2023-10-10T12:49:37.070Z"
   },
   {
    "duration": 21,
    "start_time": "2023-10-10T12:49:37.085Z"
   },
   {
    "duration": 20,
    "start_time": "2023-10-10T12:49:37.108Z"
   },
   {
    "duration": 15,
    "start_time": "2023-10-10T12:49:37.130Z"
   },
   {
    "duration": 36,
    "start_time": "2023-10-10T12:49:37.146Z"
   },
   {
    "duration": 14,
    "start_time": "2023-10-10T12:49:37.183Z"
   },
   {
    "duration": 406,
    "start_time": "2023-10-10T12:49:37.199Z"
   },
   {
    "duration": 22,
    "start_time": "2023-10-10T12:49:37.606Z"
   },
   {
    "duration": 21,
    "start_time": "2023-10-10T12:49:37.630Z"
   },
   {
    "duration": 20,
    "start_time": "2023-10-10T12:49:37.653Z"
   },
   {
    "duration": 41,
    "start_time": "2023-10-10T12:49:37.674Z"
   },
   {
    "duration": 17,
    "start_time": "2023-10-10T12:49:37.717Z"
   },
   {
    "duration": 9,
    "start_time": "2023-10-10T12:49:37.736Z"
   },
   {
    "duration": 12,
    "start_time": "2023-10-10T12:49:37.747Z"
   },
   {
    "duration": 22,
    "start_time": "2023-10-10T12:49:37.760Z"
   },
   {
    "duration": 24,
    "start_time": "2023-10-10T12:49:37.784Z"
   },
   {
    "duration": 35,
    "start_time": "2023-10-10T12:49:37.809Z"
   },
   {
    "duration": 8,
    "start_time": "2023-10-10T12:49:37.846Z"
   },
   {
    "duration": 30,
    "start_time": "2023-10-10T12:49:37.855Z"
   },
   {
    "duration": 35,
    "start_time": "2023-10-10T12:49:37.887Z"
   },
   {
    "duration": 25,
    "start_time": "2023-10-10T12:49:37.924Z"
   },
   {
    "duration": 173,
    "start_time": "2023-10-10T12:49:37.950Z"
   },
   {
    "duration": 8,
    "start_time": "2023-10-10T12:49:38.124Z"
   },
   {
    "duration": 15,
    "start_time": "2023-10-10T12:49:38.143Z"
   },
   {
    "duration": 22,
    "start_time": "2023-10-10T12:49:38.160Z"
   },
   {
    "duration": 33,
    "start_time": "2023-10-10T12:49:38.184Z"
   },
   {
    "duration": 23,
    "start_time": "2023-10-10T12:49:38.221Z"
   },
   {
    "duration": 390,
    "start_time": "2023-10-10T12:49:38.246Z"
   },
   {
    "duration": 22,
    "start_time": "2023-10-10T12:49:38.643Z"
   },
   {
    "duration": 44,
    "start_time": "2023-10-10T12:49:38.666Z"
   },
   {
    "duration": 53,
    "start_time": "2023-10-10T12:49:38.711Z"
   },
   {
    "duration": 14,
    "start_time": "2023-10-10T12:49:38.766Z"
   },
   {
    "duration": 448,
    "start_time": "2023-10-10T12:49:38.782Z"
   },
   {
    "duration": 20,
    "start_time": "2023-10-10T12:49:39.232Z"
   },
   {
    "duration": 16,
    "start_time": "2023-10-10T12:49:39.254Z"
   },
   {
    "duration": 27,
    "start_time": "2023-10-10T12:49:39.272Z"
   },
   {
    "duration": 357,
    "start_time": "2023-10-10T12:49:39.300Z"
   },
   {
    "duration": 17,
    "start_time": "2023-10-10T12:49:39.658Z"
   },
   {
    "duration": 169,
    "start_time": "2023-10-10T12:49:39.677Z"
   },
   {
    "duration": 44,
    "start_time": "2023-10-10T12:49:39.848Z"
   },
   {
    "duration": 5,
    "start_time": "2023-10-10T12:49:39.894Z"
   },
   {
    "duration": 735,
    "start_time": "2023-10-10T12:49:39.901Z"
   },
   {
    "duration": 2085,
    "start_time": "2023-10-10T12:49:40.645Z"
   },
   {
    "duration": 23,
    "start_time": "2023-10-10T12:49:42.731Z"
   },
   {
    "duration": 22,
    "start_time": "2023-10-10T12:49:42.756Z"
   },
   {
    "duration": 34,
    "start_time": "2023-10-10T12:49:42.780Z"
   },
   {
    "duration": 16,
    "start_time": "2023-10-10T12:49:42.816Z"
   },
   {
    "duration": 45,
    "start_time": "2023-10-10T12:49:42.833Z"
   },
   {
    "duration": 26,
    "start_time": "2023-10-10T12:49:42.879Z"
   },
   {
    "duration": 24,
    "start_time": "2023-10-10T12:49:42.907Z"
   },
   {
    "duration": 11,
    "start_time": "2023-10-10T12:49:42.933Z"
   },
   {
    "duration": 23,
    "start_time": "2023-10-10T12:49:42.946Z"
   },
   {
    "duration": 15,
    "start_time": "2023-10-10T12:49:42.971Z"
   },
   {
    "duration": 14,
    "start_time": "2023-10-10T12:49:42.988Z"
   },
   {
    "duration": 13,
    "start_time": "2023-10-10T12:49:43.003Z"
   },
   {
    "duration": 36,
    "start_time": "2023-10-10T12:54:14.064Z"
   },
   {
    "duration": 11,
    "start_time": "2023-10-10T13:00:14.919Z"
   },
   {
    "duration": 9,
    "start_time": "2023-10-10T13:01:34.460Z"
   },
   {
    "duration": 111,
    "start_time": "2023-10-10T13:01:48.961Z"
   },
   {
    "duration": 11,
    "start_time": "2023-10-10T13:03:04.204Z"
   },
   {
    "duration": 5,
    "start_time": "2023-10-10T13:03:16.499Z"
   },
   {
    "duration": 15,
    "start_time": "2023-10-10T13:03:23.564Z"
   },
   {
    "duration": 8,
    "start_time": "2023-10-10T13:03:41.682Z"
   },
   {
    "duration": 6,
    "start_time": "2023-10-10T13:03:53.094Z"
   },
   {
    "duration": 5,
    "start_time": "2023-10-10T13:04:11.873Z"
   },
   {
    "duration": 10,
    "start_time": "2023-10-10T13:04:12.322Z"
   },
   {
    "duration": 5,
    "start_time": "2023-10-10T13:04:17.776Z"
   },
   {
    "duration": 5,
    "start_time": "2023-10-10T13:04:21.197Z"
   },
   {
    "duration": 4,
    "start_time": "2023-10-10T13:04:31.909Z"
   },
   {
    "duration": 12,
    "start_time": "2023-10-10T13:04:37.392Z"
   },
   {
    "duration": 5,
    "start_time": "2023-10-10T13:05:05.385Z"
   },
   {
    "duration": 7,
    "start_time": "2023-10-10T13:05:23.983Z"
   },
   {
    "duration": 5,
    "start_time": "2023-10-10T13:05:41.109Z"
   },
   {
    "duration": 12,
    "start_time": "2023-10-10T13:05:47.868Z"
   },
   {
    "duration": 11,
    "start_time": "2023-10-10T13:06:38.326Z"
   },
   {
    "duration": 137,
    "start_time": "2023-10-10T13:07:12.611Z"
   },
   {
    "duration": 10,
    "start_time": "2023-10-10T13:08:26.254Z"
   },
   {
    "duration": 13,
    "start_time": "2023-10-10T13:08:52.462Z"
   },
   {
    "duration": 9,
    "start_time": "2023-10-10T13:13:56.689Z"
   },
   {
    "duration": 1496,
    "start_time": "2023-10-10T13:14:12.271Z"
   },
   {
    "duration": 99,
    "start_time": "2023-10-10T13:14:13.769Z"
   },
   {
    "duration": 18,
    "start_time": "2023-10-10T13:14:13.870Z"
   },
   {
    "duration": 68,
    "start_time": "2023-10-10T13:14:13.890Z"
   },
   {
    "duration": 22,
    "start_time": "2023-10-10T13:14:13.961Z"
   },
   {
    "duration": 50,
    "start_time": "2023-10-10T13:14:13.985Z"
   },
   {
    "duration": 51,
    "start_time": "2023-10-10T13:14:14.037Z"
   },
   {
    "duration": 64,
    "start_time": "2023-10-10T13:14:14.090Z"
   },
   {
    "duration": 73,
    "start_time": "2023-10-10T13:14:14.155Z"
   },
   {
    "duration": 30,
    "start_time": "2023-10-10T13:14:14.230Z"
   },
   {
    "duration": 57,
    "start_time": "2023-10-10T13:14:14.262Z"
   },
   {
    "duration": 35,
    "start_time": "2023-10-10T13:14:14.321Z"
   },
   {
    "duration": 46,
    "start_time": "2023-10-10T13:14:14.359Z"
   },
   {
    "duration": 31,
    "start_time": "2023-10-10T13:14:14.409Z"
   },
   {
    "duration": 42,
    "start_time": "2023-10-10T13:14:14.442Z"
   },
   {
    "duration": 46,
    "start_time": "2023-10-10T13:14:14.486Z"
   },
   {
    "duration": 35,
    "start_time": "2023-10-10T13:14:14.534Z"
   },
   {
    "duration": 49,
    "start_time": "2023-10-10T13:14:14.570Z"
   },
   {
    "duration": 37,
    "start_time": "2023-10-10T13:14:14.620Z"
   },
   {
    "duration": 32,
    "start_time": "2023-10-10T13:14:14.659Z"
   },
   {
    "duration": 508,
    "start_time": "2023-10-10T13:14:14.692Z"
   },
   {
    "duration": 23,
    "start_time": "2023-10-10T13:14:15.202Z"
   },
   {
    "duration": 51,
    "start_time": "2023-10-10T13:14:15.227Z"
   },
   {
    "duration": 58,
    "start_time": "2023-10-10T13:14:15.280Z"
   },
   {
    "duration": 72,
    "start_time": "2023-10-10T13:14:15.340Z"
   },
   {
    "duration": 54,
    "start_time": "2023-10-10T13:14:15.414Z"
   },
   {
    "duration": 45,
    "start_time": "2023-10-10T13:14:15.469Z"
   },
   {
    "duration": 47,
    "start_time": "2023-10-10T13:14:15.516Z"
   },
   {
    "duration": 64,
    "start_time": "2023-10-10T13:14:15.564Z"
   },
   {
    "duration": 50,
    "start_time": "2023-10-10T13:14:15.630Z"
   },
   {
    "duration": 56,
    "start_time": "2023-10-10T13:14:15.681Z"
   },
   {
    "duration": 42,
    "start_time": "2023-10-10T13:14:15.739Z"
   },
   {
    "duration": 54,
    "start_time": "2023-10-10T13:14:15.783Z"
   },
   {
    "duration": 42,
    "start_time": "2023-10-10T13:14:15.839Z"
   },
   {
    "duration": 158,
    "start_time": "2023-10-10T13:14:15.883Z"
   },
   {
    "duration": 8,
    "start_time": "2023-10-10T13:14:16.043Z"
   },
   {
    "duration": 49,
    "start_time": "2023-10-10T13:14:16.052Z"
   },
   {
    "duration": 52,
    "start_time": "2023-10-10T13:14:16.103Z"
   },
   {
    "duration": 25,
    "start_time": "2023-10-10T13:14:16.156Z"
   },
   {
    "duration": 31,
    "start_time": "2023-10-10T13:14:16.182Z"
   },
   {
    "duration": 435,
    "start_time": "2023-10-10T13:14:16.217Z"
   },
   {
    "duration": 22,
    "start_time": "2023-10-10T13:14:16.653Z"
   },
   {
    "duration": 12,
    "start_time": "2023-10-10T13:14:16.677Z"
   },
   {
    "duration": 22,
    "start_time": "2023-10-10T13:14:16.690Z"
   },
   {
    "duration": 42,
    "start_time": "2023-10-10T13:14:16.714Z"
   },
   {
    "duration": 428,
    "start_time": "2023-10-10T13:14:16.758Z"
   },
   {
    "duration": 17,
    "start_time": "2023-10-10T13:14:17.188Z"
   },
   {
    "duration": 15,
    "start_time": "2023-10-10T13:14:17.206Z"
   },
   {
    "duration": 29,
    "start_time": "2023-10-10T13:14:17.223Z"
   },
   {
    "duration": 401,
    "start_time": "2023-10-10T13:14:17.253Z"
   },
   {
    "duration": 17,
    "start_time": "2023-10-10T13:14:17.656Z"
   },
   {
    "duration": 169,
    "start_time": "2023-10-10T13:14:17.675Z"
   },
   {
    "duration": 46,
    "start_time": "2023-10-10T13:14:17.846Z"
   },
   {
    "duration": 5,
    "start_time": "2023-10-10T13:14:17.894Z"
   },
   {
    "duration": 750,
    "start_time": "2023-10-10T13:14:17.901Z"
   },
   {
    "duration": 2142,
    "start_time": "2023-10-10T13:14:18.652Z"
   },
   {
    "duration": 15,
    "start_time": "2023-10-10T13:14:20.796Z"
   },
   {
    "duration": 14,
    "start_time": "2023-10-10T13:14:20.813Z"
   },
   {
    "duration": 30,
    "start_time": "2023-10-10T13:14:20.828Z"
   },
   {
    "duration": 10,
    "start_time": "2023-10-10T13:14:20.860Z"
   },
   {
    "duration": 35,
    "start_time": "2023-10-10T13:14:20.872Z"
   },
   {
    "duration": 14,
    "start_time": "2023-10-10T13:14:20.908Z"
   },
   {
    "duration": 8,
    "start_time": "2023-10-10T13:14:20.924Z"
   },
   {
    "duration": 6,
    "start_time": "2023-10-10T13:14:20.933Z"
   },
   {
    "duration": 26,
    "start_time": "2023-10-10T13:14:20.941Z"
   },
   {
    "duration": 11,
    "start_time": "2023-10-10T13:14:20.968Z"
   },
   {
    "duration": 17,
    "start_time": "2023-10-10T13:14:20.981Z"
   },
   {
    "duration": 4,
    "start_time": "2023-10-10T13:14:21.000Z"
   },
   {
    "duration": 6,
    "start_time": "2023-10-10T13:14:54.650Z"
   },
   {
    "duration": 18,
    "start_time": "2023-10-10T13:15:00.577Z"
   },
   {
    "duration": 7,
    "start_time": "2023-10-10T13:15:13.066Z"
   },
   {
    "duration": 12,
    "start_time": "2023-10-10T13:15:18.096Z"
   },
   {
    "duration": 24,
    "start_time": "2023-10-10T13:15:22.206Z"
   },
   {
    "duration": 1561,
    "start_time": "2023-10-10T13:15:34.958Z"
   },
   {
    "duration": 101,
    "start_time": "2023-10-10T13:15:36.520Z"
   },
   {
    "duration": 18,
    "start_time": "2023-10-10T13:15:36.623Z"
   },
   {
    "duration": 20,
    "start_time": "2023-10-10T13:15:36.643Z"
   },
   {
    "duration": 22,
    "start_time": "2023-10-10T13:15:36.664Z"
   },
   {
    "duration": 27,
    "start_time": "2023-10-10T13:15:36.688Z"
   },
   {
    "duration": 30,
    "start_time": "2023-10-10T13:15:36.716Z"
   },
   {
    "duration": 30,
    "start_time": "2023-10-10T13:15:36.747Z"
   },
   {
    "duration": 39,
    "start_time": "2023-10-10T13:15:36.779Z"
   },
   {
    "duration": 31,
    "start_time": "2023-10-10T13:15:36.821Z"
   },
   {
    "duration": 78,
    "start_time": "2023-10-10T13:15:36.854Z"
   },
   {
    "duration": 14,
    "start_time": "2023-10-10T13:15:36.933Z"
   },
   {
    "duration": 48,
    "start_time": "2023-10-10T13:15:36.948Z"
   },
   {
    "duration": 31,
    "start_time": "2023-10-10T13:15:36.997Z"
   },
   {
    "duration": 47,
    "start_time": "2023-10-10T13:15:37.030Z"
   },
   {
    "duration": 29,
    "start_time": "2023-10-10T13:15:37.079Z"
   },
   {
    "duration": 20,
    "start_time": "2023-10-10T13:15:37.109Z"
   },
   {
    "duration": 32,
    "start_time": "2023-10-10T13:15:37.130Z"
   },
   {
    "duration": 49,
    "start_time": "2023-10-10T13:15:37.164Z"
   },
   {
    "duration": 36,
    "start_time": "2023-10-10T13:15:37.215Z"
   },
   {
    "duration": 496,
    "start_time": "2023-10-10T13:15:37.253Z"
   },
   {
    "duration": 21,
    "start_time": "2023-10-10T13:15:37.751Z"
   },
   {
    "duration": 10,
    "start_time": "2023-10-10T13:15:37.774Z"
   },
   {
    "duration": 48,
    "start_time": "2023-10-10T13:15:37.786Z"
   },
   {
    "duration": 24,
    "start_time": "2023-10-10T13:15:37.836Z"
   },
   {
    "duration": 34,
    "start_time": "2023-10-10T13:15:37.862Z"
   },
   {
    "duration": 38,
    "start_time": "2023-10-10T13:15:37.898Z"
   },
   {
    "duration": 45,
    "start_time": "2023-10-10T13:15:37.940Z"
   },
   {
    "duration": 47,
    "start_time": "2023-10-10T13:15:37.987Z"
   },
   {
    "duration": 23,
    "start_time": "2023-10-10T13:15:38.035Z"
   },
   {
    "duration": 30,
    "start_time": "2023-10-10T13:15:38.059Z"
   },
   {
    "duration": 66,
    "start_time": "2023-10-10T13:15:38.090Z"
   },
   {
    "duration": 45,
    "start_time": "2023-10-10T13:15:38.157Z"
   },
   {
    "duration": 26,
    "start_time": "2023-10-10T13:15:38.204Z"
   },
   {
    "duration": 188,
    "start_time": "2023-10-10T13:15:38.232Z"
   },
   {
    "duration": 8,
    "start_time": "2023-10-10T13:15:38.422Z"
   },
   {
    "duration": 61,
    "start_time": "2023-10-10T13:15:38.432Z"
   },
   {
    "duration": 48,
    "start_time": "2023-10-10T13:15:38.495Z"
   },
   {
    "duration": 27,
    "start_time": "2023-10-10T13:15:38.545Z"
   },
   {
    "duration": 46,
    "start_time": "2023-10-10T13:15:38.574Z"
   },
   {
    "duration": 450,
    "start_time": "2023-10-10T13:15:38.622Z"
   },
   {
    "duration": 20,
    "start_time": "2023-10-10T13:15:39.074Z"
   },
   {
    "duration": 42,
    "start_time": "2023-10-10T13:15:39.096Z"
   },
   {
    "duration": 45,
    "start_time": "2023-10-10T13:15:39.140Z"
   },
   {
    "duration": 17,
    "start_time": "2023-10-10T13:15:39.187Z"
   },
   {
    "duration": 455,
    "start_time": "2023-10-10T13:15:39.206Z"
   },
   {
    "duration": 15,
    "start_time": "2023-10-10T13:15:39.663Z"
   },
   {
    "duration": 59,
    "start_time": "2023-10-10T13:15:39.680Z"
   },
   {
    "duration": 50,
    "start_time": "2023-10-10T13:15:39.741Z"
   },
   {
    "duration": 409,
    "start_time": "2023-10-10T13:15:39.793Z"
   },
   {
    "duration": 17,
    "start_time": "2023-10-10T13:15:40.203Z"
   },
   {
    "duration": 189,
    "start_time": "2023-10-10T13:15:40.222Z"
   },
   {
    "duration": 52,
    "start_time": "2023-10-10T13:15:40.413Z"
   },
   {
    "duration": 5,
    "start_time": "2023-10-10T13:15:40.466Z"
   },
   {
    "duration": 783,
    "start_time": "2023-10-10T13:15:40.473Z"
   },
   {
    "duration": 2182,
    "start_time": "2023-10-10T13:15:41.258Z"
   },
   {
    "duration": 17,
    "start_time": "2023-10-10T13:15:43.444Z"
   },
   {
    "duration": 12,
    "start_time": "2023-10-10T13:15:43.462Z"
   },
   {
    "duration": 17,
    "start_time": "2023-10-10T13:15:43.476Z"
   },
   {
    "duration": 4,
    "start_time": "2023-10-10T13:15:43.495Z"
   },
   {
    "duration": 14,
    "start_time": "2023-10-10T13:15:43.501Z"
   },
   {
    "duration": 28,
    "start_time": "2023-10-10T13:15:43.517Z"
   },
   {
    "duration": 25,
    "start_time": "2023-10-10T13:15:43.547Z"
   },
   {
    "duration": 34,
    "start_time": "2023-10-10T13:15:43.574Z"
   },
   {
    "duration": 55,
    "start_time": "2023-10-10T13:15:43.610Z"
   },
   {
    "duration": 33,
    "start_time": "2023-10-10T13:15:43.666Z"
   },
   {
    "duration": 37,
    "start_time": "2023-10-10T13:15:43.700Z"
   },
   {
    "duration": 20,
    "start_time": "2023-10-10T13:15:43.739Z"
   },
   {
    "duration": 8,
    "start_time": "2023-10-10T13:16:35.871Z"
   },
   {
    "duration": 14,
    "start_time": "2023-10-10T13:22:00.042Z"
   },
   {
    "duration": 185,
    "start_time": "2023-10-10T13:22:05.389Z"
   },
   {
    "duration": 14,
    "start_time": "2023-10-10T13:24:43.067Z"
   },
   {
    "duration": 10,
    "start_time": "2023-10-10T13:25:19.623Z"
   },
   {
    "duration": 13,
    "start_time": "2023-10-10T13:25:25.685Z"
   },
   {
    "duration": 1695,
    "start_time": "2023-10-10T13:25:31.462Z"
   },
   {
    "duration": 108,
    "start_time": "2023-10-10T13:25:33.160Z"
   },
   {
    "duration": 20,
    "start_time": "2023-10-10T13:25:33.270Z"
   },
   {
    "duration": 19,
    "start_time": "2023-10-10T13:25:33.292Z"
   },
   {
    "duration": 9,
    "start_time": "2023-10-10T13:25:33.314Z"
   },
   {
    "duration": 11,
    "start_time": "2023-10-10T13:25:33.325Z"
   },
   {
    "duration": 36,
    "start_time": "2023-10-10T13:25:33.338Z"
   },
   {
    "duration": 22,
    "start_time": "2023-10-10T13:25:33.376Z"
   },
   {
    "duration": 35,
    "start_time": "2023-10-10T13:25:33.400Z"
   },
   {
    "duration": 36,
    "start_time": "2023-10-10T13:25:33.437Z"
   },
   {
    "duration": 30,
    "start_time": "2023-10-10T13:25:33.474Z"
   },
   {
    "duration": 13,
    "start_time": "2023-10-10T13:25:33.506Z"
   },
   {
    "duration": 23,
    "start_time": "2023-10-10T13:25:33.545Z"
   },
   {
    "duration": 9,
    "start_time": "2023-10-10T13:25:33.571Z"
   },
   {
    "duration": 23,
    "start_time": "2023-10-10T13:25:33.582Z"
   },
   {
    "duration": 29,
    "start_time": "2023-10-10T13:25:33.606Z"
   },
   {
    "duration": 18,
    "start_time": "2023-10-10T13:25:33.636Z"
   },
   {
    "duration": 19,
    "start_time": "2023-10-10T13:25:33.656Z"
   },
   {
    "duration": 28,
    "start_time": "2023-10-10T13:25:33.677Z"
   },
   {
    "duration": 9,
    "start_time": "2023-10-10T13:25:33.707Z"
   },
   {
    "duration": 680,
    "start_time": "2023-10-10T13:25:33.718Z"
   },
   {
    "duration": 48,
    "start_time": "2023-10-10T13:25:34.401Z"
   },
   {
    "duration": 16,
    "start_time": "2023-10-10T13:25:34.452Z"
   },
   {
    "duration": 18,
    "start_time": "2023-10-10T13:25:34.471Z"
   },
   {
    "duration": 36,
    "start_time": "2023-10-10T13:25:34.491Z"
   },
   {
    "duration": 21,
    "start_time": "2023-10-10T13:25:34.529Z"
   },
   {
    "duration": 41,
    "start_time": "2023-10-10T13:25:34.552Z"
   },
   {
    "duration": 80,
    "start_time": "2023-10-10T13:25:34.594Z"
   },
   {
    "duration": 34,
    "start_time": "2023-10-10T13:25:34.677Z"
   },
   {
    "duration": 23,
    "start_time": "2023-10-10T13:25:34.713Z"
   },
   {
    "duration": 50,
    "start_time": "2023-10-10T13:25:34.745Z"
   },
   {
    "duration": 6,
    "start_time": "2023-10-10T13:25:34.797Z"
   },
   {
    "duration": 24,
    "start_time": "2023-10-10T13:25:34.805Z"
   },
   {
    "duration": 45,
    "start_time": "2023-10-10T13:25:34.830Z"
   },
   {
    "duration": 28,
    "start_time": "2023-10-10T13:25:34.877Z"
   },
   {
    "duration": 224,
    "start_time": "2023-10-10T13:25:34.907Z"
   },
   {
    "duration": 16,
    "start_time": "2023-10-10T13:25:35.133Z"
   },
   {
    "duration": 21,
    "start_time": "2023-10-10T13:25:35.151Z"
   },
   {
    "duration": 38,
    "start_time": "2023-10-10T13:25:35.174Z"
   },
   {
    "duration": 15,
    "start_time": "2023-10-10T13:25:35.214Z"
   },
   {
    "duration": 32,
    "start_time": "2023-10-10T13:25:35.232Z"
   },
   {
    "duration": 462,
    "start_time": "2023-10-10T13:25:35.266Z"
   },
   {
    "duration": 35,
    "start_time": "2023-10-10T13:25:35.730Z"
   },
   {
    "duration": 20,
    "start_time": "2023-10-10T13:25:35.767Z"
   },
   {
    "duration": 42,
    "start_time": "2023-10-10T13:25:35.789Z"
   },
   {
    "duration": 33,
    "start_time": "2023-10-10T13:25:35.834Z"
   },
   {
    "duration": 522,
    "start_time": "2023-10-10T13:25:35.870Z"
   },
   {
    "duration": 19,
    "start_time": "2023-10-10T13:25:36.393Z"
   },
   {
    "duration": 30,
    "start_time": "2023-10-10T13:25:36.414Z"
   },
   {
    "duration": 67,
    "start_time": "2023-10-10T13:25:36.447Z"
   },
   {
    "duration": 473,
    "start_time": "2023-10-10T13:25:36.516Z"
   },
   {
    "duration": 23,
    "start_time": "2023-10-10T13:25:36.992Z"
   },
   {
    "duration": 228,
    "start_time": "2023-10-10T13:25:37.017Z"
   },
   {
    "duration": 53,
    "start_time": "2023-10-10T13:25:37.248Z"
   },
   {
    "duration": 6,
    "start_time": "2023-10-10T13:25:37.303Z"
   },
   {
    "duration": 867,
    "start_time": "2023-10-10T13:25:37.311Z"
   },
   {
    "duration": 2431,
    "start_time": "2023-10-10T13:25:38.180Z"
   },
   {
    "duration": 16,
    "start_time": "2023-10-10T13:25:40.613Z"
   },
   {
    "duration": 28,
    "start_time": "2023-10-10T13:25:40.631Z"
   },
   {
    "duration": 55,
    "start_time": "2023-10-10T13:25:40.661Z"
   },
   {
    "duration": 42,
    "start_time": "2023-10-10T13:25:40.718Z"
   },
   {
    "duration": 45,
    "start_time": "2023-10-10T13:25:40.762Z"
   },
   {
    "duration": 38,
    "start_time": "2023-10-10T13:25:40.809Z"
   },
   {
    "duration": 35,
    "start_time": "2023-10-10T13:25:40.850Z"
   },
   {
    "duration": 40,
    "start_time": "2023-10-10T13:25:40.887Z"
   },
   {
    "duration": 67,
    "start_time": "2023-10-10T13:25:40.929Z"
   },
   {
    "duration": 30,
    "start_time": "2023-10-10T13:25:40.998Z"
   },
   {
    "duration": 33,
    "start_time": "2023-10-10T13:25:41.031Z"
   },
   {
    "duration": 14,
    "start_time": "2023-10-10T13:25:41.066Z"
   },
   {
    "duration": 33,
    "start_time": "2023-10-10T13:26:11.747Z"
   },
   {
    "duration": 14,
    "start_time": "2023-10-10T13:26:21.917Z"
   },
   {
    "duration": 124,
    "start_time": "2023-10-10T13:27:22.063Z"
   },
   {
    "duration": 39,
    "start_time": "2023-10-10T13:28:26.362Z"
   },
   {
    "duration": 15,
    "start_time": "2023-10-10T13:28:58.110Z"
   },
   {
    "duration": 18,
    "start_time": "2023-10-10T13:29:15.483Z"
   },
   {
    "duration": 1524,
    "start_time": "2023-10-10T13:29:33.467Z"
   },
   {
    "duration": 108,
    "start_time": "2023-10-10T13:29:34.993Z"
   },
   {
    "duration": 19,
    "start_time": "2023-10-10T13:29:35.103Z"
   },
   {
    "duration": 29,
    "start_time": "2023-10-10T13:29:35.124Z"
   },
   {
    "duration": 13,
    "start_time": "2023-10-10T13:29:35.156Z"
   },
   {
    "duration": 15,
    "start_time": "2023-10-10T13:29:35.171Z"
   },
   {
    "duration": 29,
    "start_time": "2023-10-10T13:29:35.188Z"
   },
   {
    "duration": 31,
    "start_time": "2023-10-10T13:29:35.219Z"
   },
   {
    "duration": 32,
    "start_time": "2023-10-10T13:29:35.252Z"
   },
   {
    "duration": 18,
    "start_time": "2023-10-10T13:29:35.286Z"
   },
   {
    "duration": 48,
    "start_time": "2023-10-10T13:29:35.306Z"
   },
   {
    "duration": 12,
    "start_time": "2023-10-10T13:29:35.356Z"
   },
   {
    "duration": 19,
    "start_time": "2023-10-10T13:29:35.370Z"
   },
   {
    "duration": 38,
    "start_time": "2023-10-10T13:29:35.391Z"
   },
   {
    "duration": 32,
    "start_time": "2023-10-10T13:29:35.431Z"
   },
   {
    "duration": 65,
    "start_time": "2023-10-10T13:29:35.464Z"
   },
   {
    "duration": 19,
    "start_time": "2023-10-10T13:29:35.531Z"
   },
   {
    "duration": 20,
    "start_time": "2023-10-10T13:29:35.552Z"
   },
   {
    "duration": 49,
    "start_time": "2023-10-10T13:29:35.574Z"
   },
   {
    "duration": 9,
    "start_time": "2023-10-10T13:29:35.625Z"
   },
   {
    "duration": 455,
    "start_time": "2023-10-10T13:29:35.635Z"
   },
   {
    "duration": 23,
    "start_time": "2023-10-10T13:29:36.091Z"
   },
   {
    "duration": 22,
    "start_time": "2023-10-10T13:29:36.116Z"
   },
   {
    "duration": 43,
    "start_time": "2023-10-10T13:29:36.145Z"
   },
   {
    "duration": 28,
    "start_time": "2023-10-10T13:29:36.190Z"
   },
   {
    "duration": 38,
    "start_time": "2023-10-10T13:29:36.219Z"
   },
   {
    "duration": 37,
    "start_time": "2023-10-10T13:29:36.260Z"
   },
   {
    "duration": 38,
    "start_time": "2023-10-10T13:29:36.298Z"
   },
   {
    "duration": 47,
    "start_time": "2023-10-10T13:29:36.338Z"
   },
   {
    "duration": 22,
    "start_time": "2023-10-10T13:29:36.387Z"
   },
   {
    "duration": 33,
    "start_time": "2023-10-10T13:29:36.411Z"
   },
   {
    "duration": 16,
    "start_time": "2023-10-10T13:29:36.446Z"
   },
   {
    "duration": 19,
    "start_time": "2023-10-10T13:29:36.463Z"
   },
   {
    "duration": 28,
    "start_time": "2023-10-10T13:29:36.484Z"
   },
   {
    "duration": 21,
    "start_time": "2023-10-10T13:29:36.514Z"
   },
   {
    "duration": 171,
    "start_time": "2023-10-10T13:29:36.537Z"
   },
   {
    "duration": 7,
    "start_time": "2023-10-10T13:29:36.709Z"
   },
   {
    "duration": 26,
    "start_time": "2023-10-10T13:29:36.718Z"
   },
   {
    "duration": 26,
    "start_time": "2023-10-10T13:29:36.746Z"
   },
   {
    "duration": 11,
    "start_time": "2023-10-10T13:29:36.774Z"
   },
   {
    "duration": 49,
    "start_time": "2023-10-10T13:29:36.788Z"
   },
   {
    "duration": 374,
    "start_time": "2023-10-10T13:29:36.838Z"
   },
   {
    "duration": 21,
    "start_time": "2023-10-10T13:29:37.213Z"
   },
   {
    "duration": 29,
    "start_time": "2023-10-10T13:29:37.243Z"
   },
   {
    "duration": 68,
    "start_time": "2023-10-10T13:29:37.275Z"
   },
   {
    "duration": 26,
    "start_time": "2023-10-10T13:29:37.345Z"
   },
   {
    "duration": 400,
    "start_time": "2023-10-10T13:29:37.373Z"
   },
   {
    "duration": 16,
    "start_time": "2023-10-10T13:29:37.775Z"
   },
   {
    "duration": 24,
    "start_time": "2023-10-10T13:29:37.793Z"
   },
   {
    "duration": 28,
    "start_time": "2023-10-10T13:29:37.819Z"
   },
   {
    "duration": 417,
    "start_time": "2023-10-10T13:29:37.849Z"
   },
   {
    "duration": 19,
    "start_time": "2023-10-10T13:29:38.268Z"
   },
   {
    "duration": 184,
    "start_time": "2023-10-10T13:29:38.289Z"
   },
   {
    "duration": 42,
    "start_time": "2023-10-10T13:29:38.474Z"
   },
   {
    "duration": 42,
    "start_time": "2023-10-10T13:29:38.518Z"
   },
   {
    "duration": 757,
    "start_time": "2023-10-10T13:29:38.562Z"
   },
   {
    "duration": 2005,
    "start_time": "2023-10-10T13:29:39.321Z"
   },
   {
    "duration": 25,
    "start_time": "2023-10-10T13:29:41.328Z"
   },
   {
    "duration": 20,
    "start_time": "2023-10-10T13:29:41.354Z"
   },
   {
    "duration": 19,
    "start_time": "2023-10-10T13:29:41.375Z"
   },
   {
    "duration": 24,
    "start_time": "2023-10-10T13:29:41.396Z"
   },
   {
    "duration": 65,
    "start_time": "2023-10-10T13:29:41.421Z"
   },
   {
    "duration": 21,
    "start_time": "2023-10-10T13:29:41.488Z"
   },
   {
    "duration": 26,
    "start_time": "2023-10-10T13:29:41.511Z"
   },
   {
    "duration": 20,
    "start_time": "2023-10-10T13:29:41.538Z"
   },
   {
    "duration": 20,
    "start_time": "2023-10-10T13:29:41.560Z"
   },
   {
    "duration": 9,
    "start_time": "2023-10-10T13:29:41.581Z"
   },
   {
    "duration": 25,
    "start_time": "2023-10-10T13:29:41.592Z"
   },
   {
    "duration": 6,
    "start_time": "2023-10-10T13:29:41.620Z"
   },
   {
    "duration": 2,
    "start_time": "2023-10-10T13:31:32.529Z"
   },
   {
    "duration": 1539,
    "start_time": "2023-10-10T13:31:36.890Z"
   },
   {
    "duration": 105,
    "start_time": "2023-10-10T13:31:38.431Z"
   },
   {
    "duration": 19,
    "start_time": "2023-10-10T13:31:38.538Z"
   },
   {
    "duration": 34,
    "start_time": "2023-10-10T13:31:38.559Z"
   },
   {
    "duration": 26,
    "start_time": "2023-10-10T13:31:38.595Z"
   },
   {
    "duration": 31,
    "start_time": "2023-10-10T13:31:38.622Z"
   },
   {
    "duration": 19,
    "start_time": "2023-10-10T13:31:38.655Z"
   },
   {
    "duration": 53,
    "start_time": "2023-10-10T13:31:38.676Z"
   },
   {
    "duration": 46,
    "start_time": "2023-10-10T13:31:38.731Z"
   },
   {
    "duration": 27,
    "start_time": "2023-10-10T13:31:38.780Z"
   },
   {
    "duration": 41,
    "start_time": "2023-10-10T13:31:38.809Z"
   },
   {
    "duration": 42,
    "start_time": "2023-10-10T13:31:38.852Z"
   },
   {
    "duration": 38,
    "start_time": "2023-10-10T13:31:38.896Z"
   },
   {
    "duration": 34,
    "start_time": "2023-10-10T13:31:38.936Z"
   },
   {
    "duration": 49,
    "start_time": "2023-10-10T13:31:38.971Z"
   },
   {
    "duration": 44,
    "start_time": "2023-10-10T13:31:39.022Z"
   },
   {
    "duration": 16,
    "start_time": "2023-10-10T13:31:39.068Z"
   },
   {
    "duration": 32,
    "start_time": "2023-10-10T13:31:39.086Z"
   },
   {
    "duration": 50,
    "start_time": "2023-10-10T13:31:39.120Z"
   },
   {
    "duration": 72,
    "start_time": "2023-10-10T13:31:39.171Z"
   },
   {
    "duration": 462,
    "start_time": "2023-10-10T13:31:39.245Z"
   },
   {
    "duration": 21,
    "start_time": "2023-10-10T13:31:39.708Z"
   },
   {
    "duration": 46,
    "start_time": "2023-10-10T13:31:39.731Z"
   },
   {
    "duration": 39,
    "start_time": "2023-10-10T13:31:39.779Z"
   },
   {
    "duration": 34,
    "start_time": "2023-10-10T13:31:39.819Z"
   },
   {
    "duration": 23,
    "start_time": "2023-10-10T13:31:39.855Z"
   },
   {
    "duration": 36,
    "start_time": "2023-10-10T13:31:39.880Z"
   },
   {
    "duration": 43,
    "start_time": "2023-10-10T13:31:39.920Z"
   },
   {
    "duration": 23,
    "start_time": "2023-10-10T13:31:39.965Z"
   },
   {
    "duration": 30,
    "start_time": "2023-10-10T13:31:39.990Z"
   },
   {
    "duration": 29,
    "start_time": "2023-10-10T13:31:40.021Z"
   },
   {
    "duration": 11,
    "start_time": "2023-10-10T13:31:40.052Z"
   },
   {
    "duration": 54,
    "start_time": "2023-10-10T13:31:40.064Z"
   },
   {
    "duration": 46,
    "start_time": "2023-10-10T13:31:40.120Z"
   },
   {
    "duration": 25,
    "start_time": "2023-10-10T13:31:40.168Z"
   },
   {
    "duration": 168,
    "start_time": "2023-10-10T13:31:40.195Z"
   },
   {
    "duration": 8,
    "start_time": "2023-10-10T13:31:40.365Z"
   },
   {
    "duration": 35,
    "start_time": "2023-10-10T13:31:40.374Z"
   },
   {
    "duration": 20,
    "start_time": "2023-10-10T13:31:40.410Z"
   },
   {
    "duration": 24,
    "start_time": "2023-10-10T13:31:40.431Z"
   },
   {
    "duration": 25,
    "start_time": "2023-10-10T13:31:40.457Z"
   },
   {
    "duration": 374,
    "start_time": "2023-10-10T13:31:40.484Z"
   },
   {
    "duration": 20,
    "start_time": "2023-10-10T13:31:40.860Z"
   },
   {
    "duration": 12,
    "start_time": "2023-10-10T13:31:40.882Z"
   },
   {
    "duration": 49,
    "start_time": "2023-10-10T13:31:40.896Z"
   },
   {
    "duration": 16,
    "start_time": "2023-10-10T13:31:40.947Z"
   },
   {
    "duration": 422,
    "start_time": "2023-10-10T13:31:40.964Z"
   },
   {
    "duration": 16,
    "start_time": "2023-10-10T13:31:41.388Z"
   },
   {
    "duration": 48,
    "start_time": "2023-10-10T13:31:41.406Z"
   },
   {
    "duration": 12,
    "start_time": "2023-10-10T13:31:41.456Z"
   },
   {
    "duration": 379,
    "start_time": "2023-10-10T13:31:41.470Z"
   },
   {
    "duration": 17,
    "start_time": "2023-10-10T13:31:41.851Z"
   },
   {
    "duration": 166,
    "start_time": "2023-10-10T13:31:41.869Z"
   },
   {
    "duration": 49,
    "start_time": "2023-10-10T13:31:42.036Z"
   },
   {
    "duration": 5,
    "start_time": "2023-10-10T13:31:42.087Z"
   },
   {
    "duration": 720,
    "start_time": "2023-10-10T13:31:42.094Z"
   },
   {
    "duration": 2221,
    "start_time": "2023-10-10T13:31:42.816Z"
   },
   {
    "duration": 18,
    "start_time": "2023-10-10T13:31:45.039Z"
   },
   {
    "duration": 29,
    "start_time": "2023-10-10T13:31:45.059Z"
   },
   {
    "duration": 44,
    "start_time": "2023-10-10T13:31:45.090Z"
   },
   {
    "duration": 4,
    "start_time": "2023-10-10T13:31:45.136Z"
   },
   {
    "duration": 15,
    "start_time": "2023-10-10T13:31:45.141Z"
   },
   {
    "duration": 10,
    "start_time": "2023-10-10T13:31:45.158Z"
   },
   {
    "duration": 26,
    "start_time": "2023-10-10T13:31:45.170Z"
   },
   {
    "duration": 31,
    "start_time": "2023-10-10T13:31:45.198Z"
   },
   {
    "duration": 17,
    "start_time": "2023-10-10T13:31:45.230Z"
   },
   {
    "duration": 5,
    "start_time": "2023-10-10T13:31:45.249Z"
   },
   {
    "duration": 28,
    "start_time": "2023-10-10T13:31:45.255Z"
   },
   {
    "duration": 15,
    "start_time": "2023-10-10T13:31:45.285Z"
   },
   {
    "duration": 13,
    "start_time": "2023-10-10T13:33:05.925Z"
   },
   {
    "duration": 1530,
    "start_time": "2023-10-10T13:33:20.059Z"
   },
   {
    "duration": 108,
    "start_time": "2023-10-10T13:33:21.591Z"
   },
   {
    "duration": 21,
    "start_time": "2023-10-10T13:33:21.701Z"
   },
   {
    "duration": 20,
    "start_time": "2023-10-10T13:33:21.724Z"
   },
   {
    "duration": 10,
    "start_time": "2023-10-10T13:33:21.747Z"
   },
   {
    "duration": 36,
    "start_time": "2023-10-10T13:33:21.759Z"
   },
   {
    "duration": 36,
    "start_time": "2023-10-10T13:33:21.797Z"
   },
   {
    "duration": 30,
    "start_time": "2023-10-10T13:33:21.835Z"
   },
   {
    "duration": 33,
    "start_time": "2023-10-10T13:33:21.867Z"
   },
   {
    "duration": 18,
    "start_time": "2023-10-10T13:33:21.902Z"
   },
   {
    "duration": 54,
    "start_time": "2023-10-10T13:33:21.922Z"
   },
   {
    "duration": 13,
    "start_time": "2023-10-10T13:33:21.979Z"
   },
   {
    "duration": 33,
    "start_time": "2023-10-10T13:33:21.994Z"
   },
   {
    "duration": 32,
    "start_time": "2023-10-10T13:33:22.044Z"
   },
   {
    "duration": 35,
    "start_time": "2023-10-10T13:33:22.078Z"
   },
   {
    "duration": 59,
    "start_time": "2023-10-10T13:33:22.114Z"
   },
   {
    "duration": 63,
    "start_time": "2023-10-10T13:33:22.175Z"
   },
   {
    "duration": 15,
    "start_time": "2023-10-10T13:33:22.240Z"
   },
   {
    "duration": 24,
    "start_time": "2023-10-10T13:33:22.257Z"
   },
   {
    "duration": 8,
    "start_time": "2023-10-10T13:33:22.283Z"
   },
   {
    "duration": 502,
    "start_time": "2023-10-10T13:33:22.293Z"
   },
   {
    "duration": 23,
    "start_time": "2023-10-10T13:33:22.797Z"
   },
   {
    "duration": 27,
    "start_time": "2023-10-10T13:33:22.822Z"
   },
   {
    "duration": 42,
    "start_time": "2023-10-10T13:33:22.851Z"
   },
   {
    "duration": 13,
    "start_time": "2023-10-10T13:33:22.895Z"
   },
   {
    "duration": 32,
    "start_time": "2023-10-10T13:33:22.910Z"
   },
   {
    "duration": 39,
    "start_time": "2023-10-10T13:33:22.944Z"
   },
   {
    "duration": 50,
    "start_time": "2023-10-10T13:33:22.984Z"
   },
   {
    "duration": 48,
    "start_time": "2023-10-10T13:33:23.037Z"
   },
   {
    "duration": 24,
    "start_time": "2023-10-10T13:33:23.087Z"
   },
   {
    "duration": 20,
    "start_time": "2023-10-10T13:33:23.113Z"
   },
   {
    "duration": 52,
    "start_time": "2023-10-10T13:33:23.134Z"
   },
   {
    "duration": 34,
    "start_time": "2023-10-10T13:33:23.188Z"
   },
   {
    "duration": 26,
    "start_time": "2023-10-10T13:33:23.224Z"
   },
   {
    "duration": 183,
    "start_time": "2023-10-10T13:33:23.252Z"
   },
   {
    "duration": 12,
    "start_time": "2023-10-10T13:33:23.437Z"
   },
   {
    "duration": 52,
    "start_time": "2023-10-10T13:33:23.451Z"
   },
   {
    "duration": 22,
    "start_time": "2023-10-10T13:33:23.505Z"
   },
   {
    "duration": 15,
    "start_time": "2023-10-10T13:33:23.529Z"
   },
   {
    "duration": 23,
    "start_time": "2023-10-10T13:33:23.546Z"
   },
   {
    "duration": 420,
    "start_time": "2023-10-10T13:33:23.574Z"
   },
   {
    "duration": 27,
    "start_time": "2023-10-10T13:33:23.996Z"
   },
   {
    "duration": 38,
    "start_time": "2023-10-10T13:33:24.026Z"
   },
   {
    "duration": 48,
    "start_time": "2023-10-10T13:33:24.066Z"
   },
   {
    "duration": 20,
    "start_time": "2023-10-10T13:33:24.116Z"
   },
   {
    "duration": 535,
    "start_time": "2023-10-10T13:33:24.139Z"
   },
   {
    "duration": 17,
    "start_time": "2023-10-10T13:33:24.676Z"
   },
   {
    "duration": 23,
    "start_time": "2023-10-10T13:33:24.695Z"
   },
   {
    "duration": 30,
    "start_time": "2023-10-10T13:33:24.720Z"
   },
   {
    "duration": 395,
    "start_time": "2023-10-10T13:33:24.752Z"
   },
   {
    "duration": 19,
    "start_time": "2023-10-10T13:33:25.149Z"
   },
   {
    "duration": 352,
    "start_time": "2023-10-10T13:33:25.170Z"
   },
   {
    "duration": 51,
    "start_time": "2023-10-10T13:33:25.524Z"
   },
   {
    "duration": 6,
    "start_time": "2023-10-10T13:33:25.576Z"
   },
   {
    "duration": 796,
    "start_time": "2023-10-10T13:33:25.583Z"
   },
   {
    "duration": 2250,
    "start_time": "2023-10-10T13:33:26.381Z"
   },
   {
    "duration": 25,
    "start_time": "2023-10-10T13:33:28.633Z"
   },
   {
    "duration": 14,
    "start_time": "2023-10-10T13:33:28.660Z"
   },
   {
    "duration": 15,
    "start_time": "2023-10-10T13:33:28.676Z"
   },
   {
    "duration": 16,
    "start_time": "2023-10-10T13:33:28.692Z"
   },
   {
    "duration": 18,
    "start_time": "2023-10-10T13:33:28.709Z"
   },
   {
    "duration": 17,
    "start_time": "2023-10-10T13:33:28.728Z"
   },
   {
    "duration": 7,
    "start_time": "2023-10-10T13:33:28.747Z"
   },
   {
    "duration": 51,
    "start_time": "2023-10-10T13:33:28.755Z"
   },
   {
    "duration": 15,
    "start_time": "2023-10-10T13:33:28.808Z"
   },
   {
    "duration": 5,
    "start_time": "2023-10-10T13:33:28.825Z"
   },
   {
    "duration": 21,
    "start_time": "2023-10-10T13:33:28.832Z"
   },
   {
    "duration": 6,
    "start_time": "2023-10-10T13:33:28.855Z"
   },
   {
    "duration": 20,
    "start_time": "2023-10-10T13:34:21.367Z"
   },
   {
    "duration": 1552,
    "start_time": "2023-10-10T13:34:37.619Z"
   },
   {
    "duration": 99,
    "start_time": "2023-10-10T13:34:39.173Z"
   },
   {
    "duration": 18,
    "start_time": "2023-10-10T13:34:39.273Z"
   },
   {
    "duration": 40,
    "start_time": "2023-10-10T13:34:39.293Z"
   },
   {
    "duration": 21,
    "start_time": "2023-10-10T13:34:39.335Z"
   },
   {
    "duration": 33,
    "start_time": "2023-10-10T13:34:39.358Z"
   },
   {
    "duration": 37,
    "start_time": "2023-10-10T13:34:39.393Z"
   },
   {
    "duration": 42,
    "start_time": "2023-10-10T13:34:39.432Z"
   },
   {
    "duration": 31,
    "start_time": "2023-10-10T13:34:39.476Z"
   },
   {
    "duration": 30,
    "start_time": "2023-10-10T13:34:39.509Z"
   },
   {
    "duration": 46,
    "start_time": "2023-10-10T13:34:39.541Z"
   },
   {
    "duration": 11,
    "start_time": "2023-10-10T13:34:39.588Z"
   },
   {
    "duration": 51,
    "start_time": "2023-10-10T13:34:39.601Z"
   },
   {
    "duration": 14,
    "start_time": "2023-10-10T13:34:39.655Z"
   },
   {
    "duration": 32,
    "start_time": "2023-10-10T13:34:39.670Z"
   },
   {
    "duration": 244,
    "start_time": "2023-10-10T13:34:39.704Z"
   },
   {
    "duration": 291,
    "start_time": "2023-10-10T13:34:39.950Z"
   },
   {
    "duration": 75,
    "start_time": "2023-10-10T13:34:40.242Z"
   },
   {
    "duration": 31,
    "start_time": "2023-10-10T13:34:40.319Z"
   },
   {
    "duration": 16,
    "start_time": "2023-10-10T13:34:40.352Z"
   },
   {
    "duration": 450,
    "start_time": "2023-10-10T13:34:40.369Z"
   },
   {
    "duration": 31,
    "start_time": "2023-10-10T13:34:40.821Z"
   },
   {
    "duration": 11,
    "start_time": "2023-10-10T13:34:40.853Z"
   },
   {
    "duration": 34,
    "start_time": "2023-10-10T13:34:40.865Z"
   },
   {
    "duration": 37,
    "start_time": "2023-10-10T13:34:40.901Z"
   },
   {
    "duration": 23,
    "start_time": "2023-10-10T13:34:40.939Z"
   },
   {
    "duration": 59,
    "start_time": "2023-10-10T13:34:40.963Z"
   },
   {
    "duration": 50,
    "start_time": "2023-10-10T13:34:41.024Z"
   },
   {
    "duration": 31,
    "start_time": "2023-10-10T13:34:41.076Z"
   },
   {
    "duration": 19,
    "start_time": "2023-10-10T13:34:41.109Z"
   },
   {
    "duration": 8,
    "start_time": "2023-10-10T13:34:41.144Z"
   },
   {
    "duration": 38,
    "start_time": "2023-10-10T13:34:41.154Z"
   },
   {
    "duration": 34,
    "start_time": "2023-10-10T13:34:41.194Z"
   },
   {
    "duration": 24,
    "start_time": "2023-10-10T13:34:41.229Z"
   },
   {
    "duration": 164,
    "start_time": "2023-10-10T13:34:41.255Z"
   },
   {
    "duration": 8,
    "start_time": "2023-10-10T13:34:41.421Z"
   },
   {
    "duration": 31,
    "start_time": "2023-10-10T13:34:41.430Z"
   },
   {
    "duration": 25,
    "start_time": "2023-10-10T13:34:41.463Z"
   },
   {
    "duration": 30,
    "start_time": "2023-10-10T13:34:41.490Z"
   },
   {
    "duration": 47,
    "start_time": "2023-10-10T13:34:41.522Z"
   },
   {
    "duration": 403,
    "start_time": "2023-10-10T13:34:41.573Z"
   },
   {
    "duration": 21,
    "start_time": "2023-10-10T13:34:41.978Z"
   },
   {
    "duration": 24,
    "start_time": "2023-10-10T13:34:42.001Z"
   },
   {
    "duration": 50,
    "start_time": "2023-10-10T13:34:42.027Z"
   },
   {
    "duration": 13,
    "start_time": "2023-10-10T13:34:42.079Z"
   },
   {
    "duration": 450,
    "start_time": "2023-10-10T13:34:42.094Z"
   },
   {
    "duration": 17,
    "start_time": "2023-10-10T13:34:42.546Z"
   },
   {
    "duration": 16,
    "start_time": "2023-10-10T13:34:42.565Z"
   },
   {
    "duration": 12,
    "start_time": "2023-10-10T13:34:42.583Z"
   },
   {
    "duration": 369,
    "start_time": "2023-10-10T13:34:42.597Z"
   },
   {
    "duration": 17,
    "start_time": "2023-10-10T13:34:42.968Z"
   },
   {
    "duration": 170,
    "start_time": "2023-10-10T13:34:42.986Z"
   },
   {
    "duration": 43,
    "start_time": "2023-10-10T13:34:43.158Z"
   },
   {
    "duration": 7,
    "start_time": "2023-10-10T13:34:43.203Z"
   },
   {
    "duration": 703,
    "start_time": "2023-10-10T13:34:43.212Z"
   },
   {
    "duration": 2174,
    "start_time": "2023-10-10T13:34:43.918Z"
   },
   {
    "duration": 16,
    "start_time": "2023-10-10T13:34:46.093Z"
   },
   {
    "duration": 27,
    "start_time": "2023-10-10T13:34:46.110Z"
   },
   {
    "duration": 29,
    "start_time": "2023-10-10T13:34:46.139Z"
   },
   {
    "duration": 21,
    "start_time": "2023-10-10T13:34:46.170Z"
   },
   {
    "duration": 18,
    "start_time": "2023-10-10T13:34:46.192Z"
   },
   {
    "duration": 18,
    "start_time": "2023-10-10T13:34:46.211Z"
   },
   {
    "duration": 10,
    "start_time": "2023-10-10T13:34:46.231Z"
   },
   {
    "duration": 21,
    "start_time": "2023-10-10T13:34:46.242Z"
   },
   {
    "duration": 22,
    "start_time": "2023-10-10T13:34:46.264Z"
   },
   {
    "duration": 5,
    "start_time": "2023-10-10T13:34:46.288Z"
   },
   {
    "duration": 18,
    "start_time": "2023-10-10T13:34:46.294Z"
   },
   {
    "duration": 5,
    "start_time": "2023-10-10T13:34:46.314Z"
   },
   {
    "duration": 6,
    "start_time": "2023-10-10T13:35:02.726Z"
   },
   {
    "duration": 1554,
    "start_time": "2023-10-10T13:35:20.630Z"
   },
   {
    "duration": 101,
    "start_time": "2023-10-10T13:35:22.186Z"
   },
   {
    "duration": 18,
    "start_time": "2023-10-10T13:35:22.289Z"
   },
   {
    "duration": 66,
    "start_time": "2023-10-10T13:35:22.309Z"
   },
   {
    "duration": 63,
    "start_time": "2023-10-10T13:35:22.378Z"
   },
   {
    "duration": 43,
    "start_time": "2023-10-10T13:35:22.443Z"
   },
   {
    "duration": 45,
    "start_time": "2023-10-10T13:35:22.487Z"
   },
   {
    "duration": 421,
    "start_time": "2023-10-10T13:35:22.534Z"
   },
   {
    "duration": 103,
    "start_time": "2023-10-10T13:35:22.957Z"
   },
   {
    "duration": 113,
    "start_time": "2023-10-10T13:35:23.062Z"
   },
   {
    "duration": 33,
    "start_time": "2023-10-10T13:35:23.177Z"
   },
   {
    "duration": 13,
    "start_time": "2023-10-10T13:35:23.211Z"
   },
   {
    "duration": 29,
    "start_time": "2023-10-10T13:35:23.225Z"
   },
   {
    "duration": 41,
    "start_time": "2023-10-10T13:35:23.257Z"
   },
   {
    "duration": 33,
    "start_time": "2023-10-10T13:35:23.300Z"
   },
   {
    "duration": 65,
    "start_time": "2023-10-10T13:35:23.334Z"
   },
   {
    "duration": 21,
    "start_time": "2023-10-10T13:35:23.401Z"
   },
   {
    "duration": 44,
    "start_time": "2023-10-10T13:35:23.423Z"
   },
   {
    "duration": 31,
    "start_time": "2023-10-10T13:35:23.469Z"
   },
   {
    "duration": 28,
    "start_time": "2023-10-10T13:35:23.501Z"
   },
   {
    "duration": 453,
    "start_time": "2023-10-10T13:35:23.530Z"
   },
   {
    "duration": 22,
    "start_time": "2023-10-10T13:35:23.984Z"
   },
   {
    "duration": 17,
    "start_time": "2023-10-10T13:35:24.008Z"
   },
   {
    "duration": 36,
    "start_time": "2023-10-10T13:35:24.028Z"
   },
   {
    "duration": 31,
    "start_time": "2023-10-10T13:35:24.065Z"
   },
   {
    "duration": 24,
    "start_time": "2023-10-10T13:35:24.099Z"
   },
   {
    "duration": 19,
    "start_time": "2023-10-10T13:35:24.126Z"
   },
   {
    "duration": 39,
    "start_time": "2023-10-10T13:35:24.147Z"
   },
   {
    "duration": 11,
    "start_time": "2023-10-10T13:35:24.188Z"
   },
   {
    "duration": 36,
    "start_time": "2023-10-10T13:35:24.201Z"
   },
   {
    "duration": 8,
    "start_time": "2023-10-10T13:35:24.239Z"
   },
   {
    "duration": 17,
    "start_time": "2023-10-10T13:35:24.250Z"
   },
   {
    "duration": 42,
    "start_time": "2023-10-10T13:35:24.269Z"
   },
   {
    "duration": 50,
    "start_time": "2023-10-10T13:35:24.313Z"
   },
   {
    "duration": 182,
    "start_time": "2023-10-10T13:35:24.365Z"
   },
   {
    "duration": 9,
    "start_time": "2023-10-10T13:35:24.549Z"
   },
   {
    "duration": 21,
    "start_time": "2023-10-10T13:35:24.559Z"
   },
   {
    "duration": 23,
    "start_time": "2023-10-10T13:35:24.582Z"
   },
   {
    "duration": 37,
    "start_time": "2023-10-10T13:35:24.607Z"
   },
   {
    "duration": 16,
    "start_time": "2023-10-10T13:35:24.646Z"
   },
   {
    "duration": 411,
    "start_time": "2023-10-10T13:35:24.667Z"
   },
   {
    "duration": 22,
    "start_time": "2023-10-10T13:35:25.080Z"
   },
   {
    "duration": 13,
    "start_time": "2023-10-10T13:35:25.104Z"
   },
   {
    "duration": 45,
    "start_time": "2023-10-10T13:35:25.119Z"
   },
   {
    "duration": 13,
    "start_time": "2023-10-10T13:35:25.166Z"
   },
   {
    "duration": 484,
    "start_time": "2023-10-10T13:35:25.181Z"
   },
   {
    "duration": 22,
    "start_time": "2023-10-10T13:35:25.666Z"
   },
   {
    "duration": 17,
    "start_time": "2023-10-10T13:35:25.690Z"
   },
   {
    "duration": 36,
    "start_time": "2023-10-10T13:35:25.709Z"
   },
   {
    "duration": 393,
    "start_time": "2023-10-10T13:35:25.747Z"
   },
   {
    "duration": 19,
    "start_time": "2023-10-10T13:35:26.145Z"
   },
   {
    "duration": 180,
    "start_time": "2023-10-10T13:35:26.166Z"
   },
   {
    "duration": 49,
    "start_time": "2023-10-10T13:35:26.348Z"
   },
   {
    "duration": 5,
    "start_time": "2023-10-10T13:35:26.399Z"
   },
   {
    "duration": 770,
    "start_time": "2023-10-10T13:35:26.405Z"
   },
   {
    "duration": 2114,
    "start_time": "2023-10-10T13:35:27.177Z"
   },
   {
    "duration": 15,
    "start_time": "2023-10-10T13:35:29.292Z"
   },
   {
    "duration": 53,
    "start_time": "2023-10-10T13:35:29.309Z"
   },
   {
    "duration": 48,
    "start_time": "2023-10-10T13:35:29.364Z"
   },
   {
    "duration": 61,
    "start_time": "2023-10-10T13:35:29.414Z"
   },
   {
    "duration": 78,
    "start_time": "2023-10-10T13:35:29.477Z"
   },
   {
    "duration": 51,
    "start_time": "2023-10-10T13:35:29.557Z"
   },
   {
    "duration": 55,
    "start_time": "2023-10-10T13:35:29.610Z"
   },
   {
    "duration": 181,
    "start_time": "2023-10-10T13:35:29.667Z"
   },
   {
    "duration": 145,
    "start_time": "2023-10-10T13:35:29.850Z"
   },
   {
    "duration": 64,
    "start_time": "2023-10-10T13:35:29.997Z"
   },
   {
    "duration": 159,
    "start_time": "2023-10-10T13:35:30.062Z"
   },
   {
    "duration": 51,
    "start_time": "2023-10-10T13:35:30.224Z"
   },
   {
    "duration": 10,
    "start_time": "2023-10-10T13:35:44.193Z"
   },
   {
    "duration": 30,
    "start_time": "2023-10-10T13:35:54.032Z"
   },
   {
    "duration": 120,
    "start_time": "2023-10-10T13:36:10.720Z"
   },
   {
    "duration": 1511,
    "start_time": "2023-10-10T13:36:25.964Z"
   },
   {
    "duration": 102,
    "start_time": "2023-10-10T13:36:27.478Z"
   },
   {
    "duration": 19,
    "start_time": "2023-10-10T13:36:27.582Z"
   },
   {
    "duration": 67,
    "start_time": "2023-10-10T13:36:27.603Z"
   },
   {
    "duration": 34,
    "start_time": "2023-10-10T13:36:27.672Z"
   },
   {
    "duration": 59,
    "start_time": "2023-10-10T13:36:27.708Z"
   },
   {
    "duration": 35,
    "start_time": "2023-10-10T13:36:27.768Z"
   },
   {
    "duration": 52,
    "start_time": "2023-10-10T13:36:27.805Z"
   },
   {
    "duration": 33,
    "start_time": "2023-10-10T13:36:27.859Z"
   },
   {
    "duration": 17,
    "start_time": "2023-10-10T13:36:27.893Z"
   },
   {
    "duration": 54,
    "start_time": "2023-10-10T13:36:27.911Z"
   },
   {
    "duration": 12,
    "start_time": "2023-10-10T13:36:27.966Z"
   },
   {
    "duration": 19,
    "start_time": "2023-10-10T13:36:27.979Z"
   },
   {
    "duration": 10,
    "start_time": "2023-10-10T13:36:28.001Z"
   },
   {
    "duration": 36,
    "start_time": "2023-10-10T13:36:28.013Z"
   },
   {
    "duration": 25,
    "start_time": "2023-10-10T13:36:28.051Z"
   },
   {
    "duration": 18,
    "start_time": "2023-10-10T13:36:28.078Z"
   },
   {
    "duration": 14,
    "start_time": "2023-10-10T13:36:28.098Z"
   },
   {
    "duration": 83,
    "start_time": "2023-10-10T13:36:28.114Z"
   },
   {
    "duration": 27,
    "start_time": "2023-10-10T13:36:28.199Z"
   },
   {
    "duration": 489,
    "start_time": "2023-10-10T13:36:28.227Z"
   },
   {
    "duration": 32,
    "start_time": "2023-10-10T13:36:28.718Z"
   },
   {
    "duration": 10,
    "start_time": "2023-10-10T13:36:28.752Z"
   },
   {
    "duration": 24,
    "start_time": "2023-10-10T13:36:28.763Z"
   },
   {
    "duration": 12,
    "start_time": "2023-10-10T13:36:28.789Z"
   },
   {
    "duration": 13,
    "start_time": "2023-10-10T13:36:28.802Z"
   },
   {
    "duration": 28,
    "start_time": "2023-10-10T13:36:28.817Z"
   },
   {
    "duration": 23,
    "start_time": "2023-10-10T13:36:28.847Z"
   },
   {
    "duration": 25,
    "start_time": "2023-10-10T13:36:28.871Z"
   },
   {
    "duration": 22,
    "start_time": "2023-10-10T13:36:28.898Z"
   },
   {
    "duration": 11,
    "start_time": "2023-10-10T13:36:28.945Z"
   },
   {
    "duration": 15,
    "start_time": "2023-10-10T13:36:28.957Z"
   },
   {
    "duration": 30,
    "start_time": "2023-10-10T13:36:28.973Z"
   },
   {
    "duration": 55,
    "start_time": "2023-10-10T13:36:29.005Z"
   },
   {
    "duration": 166,
    "start_time": "2023-10-10T13:36:29.062Z"
   },
   {
    "duration": 18,
    "start_time": "2023-10-10T13:36:29.229Z"
   },
   {
    "duration": 36,
    "start_time": "2023-10-10T13:36:29.248Z"
   },
   {
    "duration": 20,
    "start_time": "2023-10-10T13:36:29.285Z"
   },
   {
    "duration": 12,
    "start_time": "2023-10-10T13:36:29.307Z"
   },
   {
    "duration": 12,
    "start_time": "2023-10-10T13:36:29.321Z"
   },
   {
    "duration": 399,
    "start_time": "2023-10-10T13:36:29.348Z"
   },
   {
    "duration": 19,
    "start_time": "2023-10-10T13:36:29.749Z"
   },
   {
    "duration": 16,
    "start_time": "2023-10-10T13:36:29.770Z"
   },
   {
    "duration": 45,
    "start_time": "2023-10-10T13:36:29.787Z"
   },
   {
    "duration": 30,
    "start_time": "2023-10-10T13:36:29.834Z"
   },
   {
    "duration": 409,
    "start_time": "2023-10-10T13:36:29.866Z"
   },
   {
    "duration": 17,
    "start_time": "2023-10-10T13:36:30.277Z"
   },
   {
    "duration": 72,
    "start_time": "2023-10-10T13:36:30.295Z"
   },
   {
    "duration": 39,
    "start_time": "2023-10-10T13:36:30.369Z"
   },
   {
    "duration": 428,
    "start_time": "2023-10-10T13:36:30.410Z"
   },
   {
    "duration": 19,
    "start_time": "2023-10-10T13:36:30.840Z"
   },
   {
    "duration": 216,
    "start_time": "2023-10-10T13:36:30.860Z"
   },
   {
    "duration": 51,
    "start_time": "2023-10-10T13:36:31.079Z"
   },
   {
    "duration": 11,
    "start_time": "2023-10-10T13:36:31.144Z"
   },
   {
    "duration": 979,
    "start_time": "2023-10-10T13:36:31.157Z"
   },
   {
    "duration": 2408,
    "start_time": "2023-10-10T13:36:32.145Z"
   },
   {
    "duration": 19,
    "start_time": "2023-10-10T13:36:34.555Z"
   },
   {
    "duration": 22,
    "start_time": "2023-10-10T13:36:34.575Z"
   },
   {
    "duration": 37,
    "start_time": "2023-10-10T13:36:34.599Z"
   },
   {
    "duration": 16,
    "start_time": "2023-10-10T13:36:34.638Z"
   },
   {
    "duration": 25,
    "start_time": "2023-10-10T13:36:34.656Z"
   },
   {
    "duration": 7,
    "start_time": "2023-10-10T13:36:34.682Z"
   },
   {
    "duration": 8,
    "start_time": "2023-10-10T13:36:34.690Z"
   },
   {
    "duration": 8,
    "start_time": "2023-10-10T13:36:34.700Z"
   },
   {
    "duration": 38,
    "start_time": "2023-10-10T13:36:34.709Z"
   },
   {
    "duration": 7,
    "start_time": "2023-10-10T13:36:34.749Z"
   },
   {
    "duration": 22,
    "start_time": "2023-10-10T13:36:34.757Z"
   },
   {
    "duration": 20,
    "start_time": "2023-10-10T13:36:34.781Z"
   },
   {
    "duration": 25,
    "start_time": "2023-10-10T13:39:31.575Z"
   },
   {
    "duration": 28,
    "start_time": "2023-10-10T13:39:43.397Z"
   },
   {
    "duration": 27,
    "start_time": "2023-10-10T13:40:40.587Z"
   },
   {
    "duration": 21,
    "start_time": "2023-10-10T13:41:03.351Z"
   },
   {
    "duration": 29,
    "start_time": "2023-10-10T13:41:21.640Z"
   },
   {
    "duration": 20,
    "start_time": "2023-10-10T13:41:25.796Z"
   },
   {
    "duration": 6,
    "start_time": "2023-10-10T13:41:37.895Z"
   },
   {
    "duration": 19,
    "start_time": "2023-10-10T13:41:51.795Z"
   },
   {
    "duration": 27,
    "start_time": "2023-10-10T13:41:56.429Z"
   },
   {
    "duration": 37,
    "start_time": "2023-10-10T13:42:14.236Z"
   },
   {
    "duration": 5,
    "start_time": "2023-10-10T13:44:57.428Z"
   },
   {
    "duration": 19,
    "start_time": "2023-10-10T13:45:03.793Z"
   },
   {
    "duration": 23,
    "start_time": "2023-10-10T13:45:20.834Z"
   },
   {
    "duration": 8,
    "start_time": "2023-10-10T13:45:51.400Z"
   },
   {
    "duration": 9,
    "start_time": "2023-10-10T13:48:28.946Z"
   },
   {
    "duration": 7,
    "start_time": "2023-10-10T13:50:34.306Z"
   },
   {
    "duration": 13,
    "start_time": "2023-10-10T13:52:32.654Z"
   },
   {
    "duration": 1398,
    "start_time": "2023-10-10T13:52:37.770Z"
   },
   {
    "duration": 10,
    "start_time": "2023-10-10T13:52:48.868Z"
   },
   {
    "duration": 9,
    "start_time": "2023-10-10T13:53:21.667Z"
   },
   {
    "duration": 12,
    "start_time": "2023-10-10T13:53:50.472Z"
   },
   {
    "duration": 10,
    "start_time": "2023-10-10T13:54:22.825Z"
   },
   {
    "duration": 14,
    "start_time": "2023-10-10T14:01:33.780Z"
   },
   {
    "duration": 15,
    "start_time": "2023-10-10T14:16:18.990Z"
   },
   {
    "duration": 17,
    "start_time": "2023-10-10T14:16:49.286Z"
   },
   {
    "duration": 1619,
    "start_time": "2023-10-10T14:17:12.837Z"
   },
   {
    "duration": 99,
    "start_time": "2023-10-10T14:17:14.457Z"
   },
   {
    "duration": 18,
    "start_time": "2023-10-10T14:17:14.558Z"
   },
   {
    "duration": 33,
    "start_time": "2023-10-10T14:17:14.586Z"
   },
   {
    "duration": 30,
    "start_time": "2023-10-10T14:17:14.620Z"
   },
   {
    "duration": 51,
    "start_time": "2023-10-10T14:17:14.652Z"
   },
   {
    "duration": 41,
    "start_time": "2023-10-10T14:17:14.705Z"
   },
   {
    "duration": 42,
    "start_time": "2023-10-10T14:17:14.747Z"
   },
   {
    "duration": 39,
    "start_time": "2023-10-10T14:17:14.791Z"
   },
   {
    "duration": 16,
    "start_time": "2023-10-10T14:17:14.832Z"
   },
   {
    "duration": 44,
    "start_time": "2023-10-10T14:17:14.849Z"
   },
   {
    "duration": 24,
    "start_time": "2023-10-10T14:17:14.894Z"
   },
   {
    "duration": 27,
    "start_time": "2023-10-10T14:17:14.919Z"
   },
   {
    "duration": 11,
    "start_time": "2023-10-10T14:17:14.948Z"
   },
   {
    "duration": 30,
    "start_time": "2023-10-10T14:17:14.960Z"
   },
   {
    "duration": 16,
    "start_time": "2023-10-10T14:17:14.992Z"
   },
   {
    "duration": 149,
    "start_time": "2023-10-10T14:17:15.010Z"
   },
   {
    "duration": 37,
    "start_time": "2023-10-10T14:17:15.162Z"
   },
   {
    "duration": 36,
    "start_time": "2023-10-10T14:17:15.201Z"
   },
   {
    "duration": 35,
    "start_time": "2023-10-10T14:17:15.238Z"
   },
   {
    "duration": 486,
    "start_time": "2023-10-10T14:17:15.275Z"
   },
   {
    "duration": 23,
    "start_time": "2023-10-10T14:17:15.763Z"
   },
   {
    "duration": 9,
    "start_time": "2023-10-10T14:17:15.788Z"
   },
   {
    "duration": 30,
    "start_time": "2023-10-10T14:17:15.799Z"
   },
   {
    "duration": 31,
    "start_time": "2023-10-10T14:17:15.831Z"
   },
   {
    "duration": 15,
    "start_time": "2023-10-10T14:17:15.863Z"
   },
   {
    "duration": 20,
    "start_time": "2023-10-10T14:17:15.880Z"
   },
   {
    "duration": 28,
    "start_time": "2023-10-10T14:17:15.904Z"
   },
   {
    "duration": 25,
    "start_time": "2023-10-10T14:17:15.934Z"
   },
   {
    "duration": 20,
    "start_time": "2023-10-10T14:17:15.961Z"
   },
   {
    "duration": 12,
    "start_time": "2023-10-10T14:17:15.983Z"
   },
   {
    "duration": 31,
    "start_time": "2023-10-10T14:17:15.997Z"
   },
   {
    "duration": 39,
    "start_time": "2023-10-10T14:17:16.029Z"
   },
   {
    "duration": 25,
    "start_time": "2023-10-10T14:17:16.069Z"
   },
   {
    "duration": 170,
    "start_time": "2023-10-10T14:17:16.095Z"
   },
   {
    "duration": 7,
    "start_time": "2023-10-10T14:17:16.267Z"
   },
   {
    "duration": 20,
    "start_time": "2023-10-10T14:17:16.276Z"
   },
   {
    "duration": 19,
    "start_time": "2023-10-10T14:17:16.298Z"
   },
   {
    "duration": 38,
    "start_time": "2023-10-10T14:17:16.319Z"
   },
   {
    "duration": 20,
    "start_time": "2023-10-10T14:17:16.358Z"
   },
   {
    "duration": 393,
    "start_time": "2023-10-10T14:17:16.380Z"
   },
   {
    "duration": 22,
    "start_time": "2023-10-10T14:17:16.775Z"
   },
   {
    "duration": 12,
    "start_time": "2023-10-10T14:17:16.798Z"
   },
   {
    "duration": 44,
    "start_time": "2023-10-10T14:17:16.811Z"
   },
   {
    "duration": 13,
    "start_time": "2023-10-10T14:17:16.856Z"
   },
   {
    "duration": 424,
    "start_time": "2023-10-10T14:17:16.870Z"
   },
   {
    "duration": 16,
    "start_time": "2023-10-10T14:17:17.295Z"
   },
   {
    "duration": 15,
    "start_time": "2023-10-10T14:17:17.312Z"
   },
   {
    "duration": 13,
    "start_time": "2023-10-10T14:17:17.345Z"
   },
   {
    "duration": 387,
    "start_time": "2023-10-10T14:17:17.359Z"
   },
   {
    "duration": 17,
    "start_time": "2023-10-10T14:17:17.748Z"
   },
   {
    "duration": 168,
    "start_time": "2023-10-10T14:17:17.767Z"
   },
   {
    "duration": 48,
    "start_time": "2023-10-10T14:17:17.937Z"
   },
   {
    "duration": 6,
    "start_time": "2023-10-10T14:17:17.986Z"
   },
   {
    "duration": 730,
    "start_time": "2023-10-10T14:17:17.993Z"
   },
   {
    "duration": 2145,
    "start_time": "2023-10-10T14:17:18.724Z"
   },
   {
    "duration": 16,
    "start_time": "2023-10-10T14:17:20.870Z"
   },
   {
    "duration": 15,
    "start_time": "2023-10-10T14:17:20.887Z"
   },
   {
    "duration": 22,
    "start_time": "2023-10-10T14:17:20.904Z"
   },
   {
    "duration": 19,
    "start_time": "2023-10-10T14:17:20.928Z"
   },
   {
    "duration": 22,
    "start_time": "2023-10-10T14:17:20.949Z"
   },
   {
    "duration": 46,
    "start_time": "2023-10-10T14:17:20.972Z"
   },
   {
    "duration": 17,
    "start_time": "2023-10-10T14:17:21.020Z"
   },
   {
    "duration": 44,
    "start_time": "2023-10-10T14:17:21.039Z"
   },
   {
    "duration": 34,
    "start_time": "2023-10-10T14:17:21.084Z"
   },
   {
    "duration": 27,
    "start_time": "2023-10-10T14:17:21.119Z"
   },
   {
    "duration": 38,
    "start_time": "2023-10-10T14:17:21.147Z"
   },
   {
    "duration": 21,
    "start_time": "2023-10-10T14:17:21.186Z"
   },
   {
    "duration": 1732,
    "start_time": "2023-10-10T14:21:52.795Z"
   },
   {
    "duration": 11,
    "start_time": "2023-10-10T14:22:08.257Z"
   },
   {
    "duration": 11,
    "start_time": "2023-10-10T14:22:22.405Z"
   },
   {
    "duration": 9,
    "start_time": "2023-10-10T14:25:21.013Z"
   },
   {
    "duration": 7,
    "start_time": "2023-10-10T14:25:33.625Z"
   },
   {
    "duration": 7,
    "start_time": "2023-10-10T14:25:36.779Z"
   },
   {
    "duration": 8,
    "start_time": "2023-10-10T14:26:40.369Z"
   },
   {
    "duration": 3,
    "start_time": "2023-10-10T14:26:59.186Z"
   },
   {
    "duration": 135,
    "start_time": "2023-10-10T14:27:05.571Z"
   },
   {
    "duration": 25,
    "start_time": "2023-10-10T14:27:29.981Z"
   },
   {
    "duration": 23,
    "start_time": "2023-10-10T14:27:36.603Z"
   },
   {
    "duration": 29,
    "start_time": "2023-10-10T14:27:56.987Z"
   },
   {
    "duration": 1544,
    "start_time": "2023-10-10T14:30:05.417Z"
   },
   {
    "duration": 1395,
    "start_time": "2023-10-10T14:30:13.690Z"
   },
   {
    "duration": 12,
    "start_time": "2023-10-10T14:30:22.866Z"
   },
   {
    "duration": 12,
    "start_time": "2023-10-10T14:30:49.009Z"
   },
   {
    "duration": 11,
    "start_time": "2023-10-10T14:30:55.506Z"
   },
   {
    "duration": 11,
    "start_time": "2023-10-10T14:31:03.211Z"
   },
   {
    "duration": 14,
    "start_time": "2023-10-10T14:31:40.103Z"
   },
   {
    "duration": 16,
    "start_time": "2023-10-10T14:32:07.068Z"
   },
   {
    "duration": 11,
    "start_time": "2023-10-10T14:34:31.090Z"
   },
   {
    "duration": 11,
    "start_time": "2023-10-10T14:38:50.874Z"
   },
   {
    "duration": 7,
    "start_time": "2023-10-10T14:40:10.381Z"
   },
   {
    "duration": 12,
    "start_time": "2023-10-10T14:40:15.466Z"
   },
   {
    "duration": 7,
    "start_time": "2023-10-10T14:40:53.617Z"
   },
   {
    "duration": 12,
    "start_time": "2023-10-10T14:40:58.086Z"
   },
   {
    "duration": 8,
    "start_time": "2023-10-10T14:41:19.500Z"
   },
   {
    "duration": 18,
    "start_time": "2023-10-10T14:41:27.402Z"
   },
   {
    "duration": 8,
    "start_time": "2023-10-10T14:41:49.119Z"
   },
   {
    "duration": 1677,
    "start_time": "2023-10-11T05:15:57.425Z"
   },
   {
    "duration": 214,
    "start_time": "2023-10-11T05:15:59.107Z"
   },
   {
    "duration": 29,
    "start_time": "2023-10-11T05:15:59.323Z"
   },
   {
    "duration": 32,
    "start_time": "2023-10-11T05:15:59.355Z"
   },
   {
    "duration": 35,
    "start_time": "2023-10-11T05:15:59.390Z"
   },
   {
    "duration": 58,
    "start_time": "2023-10-11T05:15:59.428Z"
   },
   {
    "duration": 41,
    "start_time": "2023-10-11T05:15:59.488Z"
   },
   {
    "duration": 46,
    "start_time": "2023-10-11T05:15:59.531Z"
   },
   {
    "duration": 48,
    "start_time": "2023-10-11T05:15:59.578Z"
   },
   {
    "duration": 39,
    "start_time": "2023-10-11T05:15:59.630Z"
   },
   {
    "duration": 48,
    "start_time": "2023-10-11T05:15:59.672Z"
   },
   {
    "duration": 30,
    "start_time": "2023-10-11T05:15:59.722Z"
   },
   {
    "duration": 37,
    "start_time": "2023-10-11T05:15:59.754Z"
   },
   {
    "duration": 12,
    "start_time": "2023-10-11T05:15:59.794Z"
   },
   {
    "duration": 17,
    "start_time": "2023-10-11T05:15:59.808Z"
   },
   {
    "duration": 36,
    "start_time": "2023-10-11T05:15:59.828Z"
   },
   {
    "duration": 43,
    "start_time": "2023-10-11T05:15:59.866Z"
   },
   {
    "duration": 14,
    "start_time": "2023-10-11T05:15:59.911Z"
   },
   {
    "duration": 27,
    "start_time": "2023-10-11T05:15:59.927Z"
   },
   {
    "duration": 26,
    "start_time": "2023-10-11T05:15:59.957Z"
   },
   {
    "duration": 612,
    "start_time": "2023-10-11T05:15:59.985Z"
   },
   {
    "duration": 26,
    "start_time": "2023-10-11T05:16:00.599Z"
   },
   {
    "duration": 46,
    "start_time": "2023-10-11T05:16:00.627Z"
   },
   {
    "duration": 75,
    "start_time": "2023-10-11T05:16:00.674Z"
   },
   {
    "duration": 111,
    "start_time": "2023-10-11T05:16:00.750Z"
   },
   {
    "duration": 114,
    "start_time": "2023-10-11T05:16:00.863Z"
   },
   {
    "duration": 112,
    "start_time": "2023-10-11T05:16:00.978Z"
   },
   {
    "duration": 127,
    "start_time": "2023-10-11T05:16:01.095Z"
   },
   {
    "duration": 44,
    "start_time": "2023-10-11T05:16:01.224Z"
   },
   {
    "duration": 105,
    "start_time": "2023-10-11T05:16:01.270Z"
   },
   {
    "duration": 107,
    "start_time": "2023-10-11T05:16:01.377Z"
   },
   {
    "duration": 112,
    "start_time": "2023-10-11T05:16:01.486Z"
   },
   {
    "duration": 54,
    "start_time": "2023-10-11T05:16:01.599Z"
   },
   {
    "duration": 72,
    "start_time": "2023-10-11T05:16:01.655Z"
   },
   {
    "duration": 122,
    "start_time": "2023-10-11T05:16:01.729Z"
   },
   {
    "duration": 747,
    "start_time": "2023-10-11T05:16:01.854Z"
   },
   {
    "duration": 256,
    "start_time": "2023-10-11T05:16:02.603Z"
   },
   {
    "duration": 170,
    "start_time": "2023-10-11T05:16:02.861Z"
   },
   {
    "duration": 112,
    "start_time": "2023-10-11T05:16:03.034Z"
   },
   {
    "duration": 34,
    "start_time": "2023-10-11T05:16:03.149Z"
   },
   {
    "duration": 40,
    "start_time": "2023-10-11T05:16:03.185Z"
   },
   {
    "duration": 476,
    "start_time": "2023-10-11T05:16:03.228Z"
   },
   {
    "duration": 23,
    "start_time": "2023-10-11T05:16:03.707Z"
   },
   {
    "duration": 422,
    "start_time": "2023-10-11T05:16:03.746Z"
   },
   {
    "duration": 395,
    "start_time": "2023-10-11T05:16:04.170Z"
   },
   {
    "duration": 124,
    "start_time": "2023-10-11T05:16:04.567Z"
   },
   {
    "duration": 623,
    "start_time": "2023-10-11T05:16:04.693Z"
   },
   {
    "duration": 32,
    "start_time": "2023-10-11T05:16:05.319Z"
   },
   {
    "duration": 33,
    "start_time": "2023-10-11T05:16:05.354Z"
   },
   {
    "duration": 29,
    "start_time": "2023-10-11T05:16:05.389Z"
   },
   {
    "duration": 495,
    "start_time": "2023-10-11T05:16:05.421Z"
   },
   {
    "duration": 30,
    "start_time": "2023-10-11T05:16:05.918Z"
   },
   {
    "duration": 207,
    "start_time": "2023-10-11T05:16:05.950Z"
   },
   {
    "duration": 49,
    "start_time": "2023-10-11T05:16:06.159Z"
   },
   {
    "duration": 6,
    "start_time": "2023-10-11T05:16:06.210Z"
   },
   {
    "duration": 896,
    "start_time": "2023-10-11T05:16:06.217Z"
   },
   {
    "duration": 2499,
    "start_time": "2023-10-11T05:16:07.115Z"
   },
   {
    "duration": 18,
    "start_time": "2023-10-11T05:16:09.616Z"
   },
   {
    "duration": 14,
    "start_time": "2023-10-11T05:16:09.646Z"
   },
   {
    "duration": 15,
    "start_time": "2023-10-11T05:16:09.662Z"
   },
   {
    "duration": 20,
    "start_time": "2023-10-11T05:16:09.679Z"
   },
   {
    "duration": 34,
    "start_time": "2023-10-11T05:16:09.701Z"
   },
   {
    "duration": 17,
    "start_time": "2023-10-11T05:16:09.738Z"
   },
   {
    "duration": 10,
    "start_time": "2023-10-11T05:16:09.758Z"
   },
   {
    "duration": 13,
    "start_time": "2023-10-11T05:16:09.770Z"
   },
   {
    "duration": 16,
    "start_time": "2023-10-11T05:16:09.786Z"
   },
   {
    "duration": 12,
    "start_time": "2023-10-11T05:16:09.805Z"
   },
   {
    "duration": 29,
    "start_time": "2023-10-11T05:16:09.818Z"
   },
   {
    "duration": 8,
    "start_time": "2023-10-11T05:16:09.850Z"
   },
   {
    "duration": 43,
    "start_time": "2023-10-11T05:20:39.142Z"
   },
   {
    "duration": 39,
    "start_time": "2023-10-11T05:20:46.327Z"
   },
   {
    "duration": 36,
    "start_time": "2023-10-11T05:20:53.576Z"
   },
   {
    "duration": 48,
    "start_time": "2023-10-11T05:20:58.538Z"
   },
   {
    "duration": 36,
    "start_time": "2023-10-11T05:21:02.606Z"
   },
   {
    "duration": 6,
    "start_time": "2023-10-11T05:21:07.526Z"
   },
   {
    "duration": 38,
    "start_time": "2023-10-11T05:21:17.374Z"
   },
   {
    "duration": 54,
    "start_time": "2023-10-11T05:24:17.181Z"
   },
   {
    "duration": 37,
    "start_time": "2023-10-11T05:25:17.666Z"
   },
   {
    "duration": 56,
    "start_time": "2023-10-11T05:25:28.730Z"
   },
   {
    "duration": 36,
    "start_time": "2023-10-11T05:25:39.603Z"
   },
   {
    "duration": 6,
    "start_time": "2023-10-11T05:26:35.660Z"
   },
   {
    "duration": 1644,
    "start_time": "2023-10-11T05:26:45.560Z"
   },
   {
    "duration": 107,
    "start_time": "2023-10-11T05:26:47.206Z"
   },
   {
    "duration": 65,
    "start_time": "2023-10-11T05:26:47.314Z"
   },
   {
    "duration": 53,
    "start_time": "2023-10-11T05:26:47.381Z"
   },
   {
    "duration": 35,
    "start_time": "2023-10-11T05:26:47.436Z"
   },
   {
    "duration": 48,
    "start_time": "2023-10-11T05:26:47.472Z"
   },
   {
    "duration": 97,
    "start_time": "2023-10-11T05:26:47.522Z"
   },
   {
    "duration": 37,
    "start_time": "2023-10-11T05:26:47.621Z"
   },
   {
    "duration": 44,
    "start_time": "2023-10-11T05:26:47.660Z"
   },
   {
    "duration": 31,
    "start_time": "2023-10-11T05:26:47.708Z"
   },
   {
    "duration": 29,
    "start_time": "2023-10-11T05:26:47.746Z"
   },
   {
    "duration": 20,
    "start_time": "2023-10-11T05:26:47.776Z"
   },
   {
    "duration": 33,
    "start_time": "2023-10-11T05:26:47.799Z"
   },
   {
    "duration": 30,
    "start_time": "2023-10-11T05:26:47.847Z"
   },
   {
    "duration": 33,
    "start_time": "2023-10-11T05:26:47.879Z"
   },
   {
    "duration": 25,
    "start_time": "2023-10-11T05:26:47.914Z"
   },
   {
    "duration": 26,
    "start_time": "2023-10-11T05:26:47.941Z"
   },
   {
    "duration": 47,
    "start_time": "2023-10-11T05:26:47.970Z"
   },
   {
    "duration": 18,
    "start_time": "2023-10-11T05:26:48.019Z"
   },
   {
    "duration": 12,
    "start_time": "2023-10-11T05:26:48.039Z"
   },
   {
    "duration": 556,
    "start_time": "2023-10-11T05:26:48.053Z"
   },
   {
    "duration": 43,
    "start_time": "2023-10-11T05:26:48.611Z"
   },
   {
    "duration": 13,
    "start_time": "2023-10-11T05:26:48.655Z"
   },
   {
    "duration": 37,
    "start_time": "2023-10-11T05:26:48.670Z"
   },
   {
    "duration": 13,
    "start_time": "2023-10-11T05:26:48.709Z"
   },
   {
    "duration": 14,
    "start_time": "2023-10-11T05:26:48.724Z"
   },
   {
    "duration": 16,
    "start_time": "2023-10-11T05:26:48.747Z"
   },
   {
    "duration": 33,
    "start_time": "2023-10-11T05:26:48.769Z"
   },
   {
    "duration": 48,
    "start_time": "2023-10-11T05:26:48.804Z"
   },
   {
    "duration": 38,
    "start_time": "2023-10-11T05:26:48.854Z"
   },
   {
    "duration": 9,
    "start_time": "2023-10-11T05:26:48.895Z"
   },
   {
    "duration": 61,
    "start_time": "2023-10-11T05:26:48.906Z"
   },
   {
    "duration": 15,
    "start_time": "2023-10-11T05:26:48.969Z"
   },
   {
    "duration": 66,
    "start_time": "2023-10-11T05:26:48.987Z"
   },
   {
    "duration": 31,
    "start_time": "2023-10-11T05:26:49.054Z"
   },
   {
    "duration": 206,
    "start_time": "2023-10-11T05:26:49.088Z"
   },
   {
    "duration": 9,
    "start_time": "2023-10-11T05:26:49.297Z"
   },
   {
    "duration": 40,
    "start_time": "2023-10-11T05:26:49.308Z"
   },
   {
    "duration": 26,
    "start_time": "2023-10-11T05:26:49.352Z"
   },
   {
    "duration": 39,
    "start_time": "2023-10-11T05:26:49.380Z"
   },
   {
    "duration": 27,
    "start_time": "2023-10-11T05:26:49.421Z"
   },
   {
    "duration": 466,
    "start_time": "2023-10-11T05:26:49.449Z"
   },
   {
    "duration": 40,
    "start_time": "2023-10-11T05:26:49.917Z"
   },
   {
    "duration": 21,
    "start_time": "2023-10-11T05:26:49.959Z"
   },
   {
    "duration": 36,
    "start_time": "2023-10-11T05:26:49.982Z"
   },
   {
    "duration": 39,
    "start_time": "2023-10-11T05:26:50.020Z"
   },
   {
    "duration": 592,
    "start_time": "2023-10-11T05:26:50.062Z"
   },
   {
    "duration": 25,
    "start_time": "2023-10-11T05:26:50.657Z"
   },
   {
    "duration": 47,
    "start_time": "2023-10-11T05:26:50.684Z"
   },
   {
    "duration": 29,
    "start_time": "2023-10-11T05:26:50.733Z"
   },
   {
    "duration": 446,
    "start_time": "2023-10-11T05:26:50.765Z"
   },
   {
    "duration": 40,
    "start_time": "2023-10-11T05:26:51.213Z"
   },
   {
    "duration": 242,
    "start_time": "2023-10-11T05:26:51.255Z"
   },
   {
    "duration": 63,
    "start_time": "2023-10-11T05:26:51.499Z"
   },
   {
    "duration": 7,
    "start_time": "2023-10-11T05:26:51.564Z"
   },
   {
    "duration": 843,
    "start_time": "2023-10-11T05:26:51.572Z"
   },
   {
    "duration": 2446,
    "start_time": "2023-10-11T05:26:52.417Z"
   },
   {
    "duration": 19,
    "start_time": "2023-10-11T05:26:54.865Z"
   },
   {
    "duration": 69,
    "start_time": "2023-10-11T05:26:54.886Z"
   },
   {
    "duration": 52,
    "start_time": "2023-10-11T05:26:54.957Z"
   },
   {
    "duration": 26,
    "start_time": "2023-10-11T05:26:55.011Z"
   },
   {
    "duration": 36,
    "start_time": "2023-10-11T05:26:55.039Z"
   },
   {
    "duration": 37,
    "start_time": "2023-10-11T05:26:55.077Z"
   },
   {
    "duration": 36,
    "start_time": "2023-10-11T05:26:55.117Z"
   },
   {
    "duration": 15,
    "start_time": "2023-10-11T05:26:55.156Z"
   },
   {
    "duration": 74,
    "start_time": "2023-10-11T05:26:55.173Z"
   },
   {
    "duration": 7,
    "start_time": "2023-10-11T05:26:55.250Z"
   },
   {
    "duration": 26,
    "start_time": "2023-10-11T05:26:55.259Z"
   },
   {
    "duration": 11,
    "start_time": "2023-10-11T05:26:55.287Z"
   },
   {
    "duration": 16,
    "start_time": "2023-10-11T05:27:20.644Z"
   },
   {
    "duration": 17,
    "start_time": "2023-10-11T05:27:29.197Z"
   }
  ],
  "kernelspec": {
   "display_name": "Python 3 (ipykernel)",
   "language": "python",
   "name": "python3"
  },
  "language_info": {
   "codemirror_mode": {
    "name": "ipython",
    "version": 3
   },
   "file_extension": ".py",
   "mimetype": "text/x-python",
   "name": "python",
   "nbconvert_exporter": "python",
   "pygments_lexer": "ipython3",
   "version": "3.11.5"
  },
  "toc": {
   "base_numbering": 1,
   "nav_menu": {},
   "number_sections": true,
   "sideBar": true,
   "skip_h1_title": true,
   "title_cell": "Table of Contents",
   "title_sidebar": "Contents",
   "toc_cell": false,
   "toc_position": {},
   "toc_section_display": true,
   "toc_window_display": false
  }
 },
 "nbformat": 4,
 "nbformat_minor": 2
}
