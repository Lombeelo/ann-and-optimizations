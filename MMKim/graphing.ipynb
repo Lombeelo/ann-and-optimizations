{
 "cells": [
  {
   "cell_type": "code",
   "execution_count": 17,
   "id": "63ae6c0c",
   "metadata": {},
   "outputs": [
    {
     "data": {
      "text/plain": [
       "Index(['t', 'x', 'y', 'z', 't1', 'x1', 'y1', 'z1'], dtype='object')"
      ]
     },
     "execution_count": 17,
     "metadata": {},
     "output_type": "execute_result"
    }
   ],
   "source": [
    "import matplotlib.pyplot as plt\n",
    "import pandas as pd\n",
    "\n",
    "df = pd.read_csv('out_euler.csv',sep=';')\n",
    "df.columns"
   ]
  },
  {
   "cell_type": "code",
   "execution_count": 18,
   "id": "692d9a91",
   "metadata": {},
   "outputs": [
    {
     "data": {
      "text/plain": [
       "0       6878006.000\n",
       "1       6884002.750\n",
       "2       6889993.008\n",
       "3       6895976.768\n",
       "4       6901954.025\n",
       "           ...     \n",
       "7195    6063789.968\n",
       "7196    6070566.033\n",
       "7197    6077336.334\n",
       "7198    6084100.867\n",
       "7199    6090859.626\n",
       "Name: z1, Length: 7200, dtype: float64"
      ]
     },
     "execution_count": 18,
     "metadata": {},
     "output_type": "execute_result"
    }
   ],
   "source": [
    "df['z1']"
   ]
  },
  {
   "cell_type": "code",
   "execution_count": 21,
   "id": "7962c0d1",
   "metadata": {},
   "outputs": [],
   "source": [
    "fig = plt.figure(figsize=(10, 8))\n",
    "ax = fig.add_subplot(111, projection='3d')\n",
    "ax.scatter(df['x'], df['y'], df['z'], label='euler')\n",
    "ax.scatter(df['x1'], df['y1'], df['z1'], label='rungie')\n",
    "ax.set_xlabel('координата x')\n",
    "ax.set_ylabel('координата y')\n",
    "ax.set_zlabel('координата z')\n",
    "plt.show()"
   ]
  }
 ],
 "metadata": {
  "kernelspec": {
   "display_name": "Python 3",
   "language": "python",
   "name": "python3"
  },
  "language_info": {
   "codemirror_mode": {
    "name": "ipython",
    "version": 3
   },
   "file_extension": ".py",
   "mimetype": "text/x-python",
   "name": "python",
   "nbconvert_exporter": "python",
   "pygments_lexer": "ipython3",
   "version": "3.10.9"
  }
 },
 "nbformat": 4,
 "nbformat_minor": 5
}
